{
 "cells": [
  {
   "cell_type": "code",
   "execution_count": 2,
   "metadata": {},
   "outputs": [],
   "source": [
    "import requests"
   ]
  },
  {
   "cell_type": "code",
   "execution_count": 3,
   "metadata": {},
   "outputs": [],
   "source": [
    "import bs4"
   ]
  },
  {
   "cell_type": "markdown",
   "metadata": {},
   "source": [
    "### GRab Title"
   ]
  },
  {
   "cell_type": "code",
   "execution_count": 4,
   "metadata": {},
   "outputs": [],
   "source": [
    "import requests"
   ]
  },
  {
   "cell_type": "code",
   "execution_count": 48,
   "metadata": {},
   "outputs": [],
   "source": [
    "result= requests.get(\"https://example.com/kontol/agus\")"
   ]
  },
  {
   "cell_type": "code",
   "execution_count": 1,
   "metadata": {},
   "outputs": [
    {
     "ename": "NameError",
     "evalue": "name 'result' is not defined",
     "output_type": "error",
     "traceback": [
      "\u001b[1;31m---------------------------------------------------------------------------\u001b[0m",
      "\u001b[1;31mNameError\u001b[0m                                 Traceback (most recent call last)",
      "\u001b[1;32m~\\AppData\\Local\\Temp\\ipykernel_18244\\1306264091.py\u001b[0m in \u001b[0;36m<module>\u001b[1;34m\u001b[0m\n\u001b[1;32m----> 1\u001b[1;33m \u001b[0mtype\u001b[0m\u001b[1;33m(\u001b[0m\u001b[0mresult\u001b[0m\u001b[1;33m)\u001b[0m\u001b[1;33m\u001b[0m\u001b[1;33m\u001b[0m\u001b[0m\n\u001b[0m",
      "\u001b[1;31mNameError\u001b[0m: name 'result' is not defined"
     ]
    }
   ],
   "source": [
    "type(result)"
   ]
  },
  {
   "cell_type": "code",
   "execution_count": 50,
   "metadata": {},
   "outputs": [
    {
     "data": {
      "text/plain": [
       "'<!doctype html>\\n<html>\\n<head>\\n    <title>Example Domain</title>\\n\\n    <meta charset=\"utf-8\" />\\n    <meta http-equiv=\"Content-type\" content=\"text/html; charset=utf-8\" />\\n    <meta name=\"viewport\" content=\"width=device-width, initial-scale=1\" />\\n    <style type=\"text/css\">\\n    body {\\n        background-color: #f0f0f2;\\n        margin: 0;\\n        padding: 0;\\n        font-family: -apple-system, system-ui, BlinkMacSystemFont, \"Segoe UI\", \"Open Sans\", \"Helvetica Neue\", Helvetica, Arial, sans-serif;\\n        \\n    }\\n    div {\\n        width: 600px;\\n        margin: 5em auto;\\n        padding: 2em;\\n        background-color: #fdfdff;\\n        border-radius: 0.5em;\\n        box-shadow: 2px 3px 7px 2px rgba(0,0,0,0.02);\\n    }\\n    a:link, a:visited {\\n        color: #38488f;\\n        text-decoration: none;\\n    }\\n    @media (max-width: 700px) {\\n        div {\\n            margin: 0 auto;\\n            width: auto;\\n        }\\n    }\\n    </style>    \\n</head>\\n\\n<body>\\n<div>\\n    <h1>Example Domain</h1>\\n    <p>This domain is for use in illustrative examples in documents. You may use this\\n    domain in literature without prior coordination or asking for permission.</p>\\n    <p><a href=\"https://www.iana.org/domains/example\">More information...</a></p>\\n</div>\\n</body>\\n</html>\\n'"
      ]
     },
     "execution_count": 50,
     "metadata": {},
     "output_type": "execute_result"
    }
   ],
   "source": [
    "result.text"
   ]
  },
  {
   "cell_type": "code",
   "execution_count": 51,
   "metadata": {},
   "outputs": [],
   "source": [
    "import bs4"
   ]
  },
  {
   "cell_type": "code",
   "execution_count": 52,
   "metadata": {},
   "outputs": [],
   "source": [
    "soup = bs4.BeautifulSoup(result.text,\"lxml\")"
   ]
  },
  {
   "cell_type": "code",
   "execution_count": 53,
   "metadata": {},
   "outputs": [
    {
     "data": {
      "text/plain": [
       "<!DOCTYPE html>\n",
       "<html>\n",
       "<head>\n",
       "<title>Example Domain</title>\n",
       "<meta charset=\"utf-8\"/>\n",
       "<meta content=\"text/html; charset=utf-8\" http-equiv=\"Content-type\"/>\n",
       "<meta content=\"width=device-width, initial-scale=1\" name=\"viewport\"/>\n",
       "<style type=\"text/css\">\n",
       "    body {\n",
       "        background-color: #f0f0f2;\n",
       "        margin: 0;\n",
       "        padding: 0;\n",
       "        font-family: -apple-system, system-ui, BlinkMacSystemFont, \"Segoe UI\", \"Open Sans\", \"Helvetica Neue\", Helvetica, Arial, sans-serif;\n",
       "        \n",
       "    }\n",
       "    div {\n",
       "        width: 600px;\n",
       "        margin: 5em auto;\n",
       "        padding: 2em;\n",
       "        background-color: #fdfdff;\n",
       "        border-radius: 0.5em;\n",
       "        box-shadow: 2px 3px 7px 2px rgba(0,0,0,0.02);\n",
       "    }\n",
       "    a:link, a:visited {\n",
       "        color: #38488f;\n",
       "        text-decoration: none;\n",
       "    }\n",
       "    @media (max-width: 700px) {\n",
       "        div {\n",
       "            margin: 0 auto;\n",
       "            width: auto;\n",
       "        }\n",
       "    }\n",
       "    </style>\n",
       "</head>\n",
       "<body>\n",
       "<div>\n",
       "<h1>Example Domain</h1>\n",
       "<p>This domain is for use in illustrative examples in documents. You may use this\n",
       "    domain in literature without prior coordination or asking for permission.</p>\n",
       "<p><a href=\"https://www.iana.org/domains/example\">More information...</a></p>\n",
       "</div>\n",
       "</body>\n",
       "</html>"
      ]
     },
     "execution_count": 53,
     "metadata": {},
     "output_type": "execute_result"
    }
   ],
   "source": [
    "soup"
   ]
  },
  {
   "cell_type": "code",
   "execution_count": 54,
   "metadata": {},
   "outputs": [
    {
     "data": {
      "text/plain": [
       "[<p>This domain is for use in illustrative examples in documents. You may use this\n",
       "     domain in literature without prior coordination or asking for permission.</p>,\n",
       " <p><a href=\"https://www.iana.org/domains/example\">More information...</a></p>]"
      ]
     },
     "execution_count": 54,
     "metadata": {},
     "output_type": "execute_result"
    }
   ],
   "source": [
    "soup.select('p')"
   ]
  },
  {
   "cell_type": "code",
   "execution_count": 55,
   "metadata": {},
   "outputs": [
    {
     "data": {
      "text/plain": [
       "'Example Domain'"
      ]
     },
     "execution_count": 55,
     "metadata": {},
     "output_type": "execute_result"
    }
   ],
   "source": [
    "soup.select('title')[0].getText()"
   ]
  },
  {
   "cell_type": "code",
   "execution_count": 56,
   "metadata": {},
   "outputs": [],
   "source": [
    "site_parapgraph=soup.select(\"p\")"
   ]
  },
  {
   "cell_type": "code",
   "execution_count": 57,
   "metadata": {},
   "outputs": [
    {
     "data": {
      "text/plain": [
       "<p><a href=\"https://www.iana.org/domains/example\">More information...</a></p>"
      ]
     },
     "execution_count": 57,
     "metadata": {},
     "output_type": "execute_result"
    }
   ],
   "source": [
    "site_parapgraph[1]"
   ]
  },
  {
   "cell_type": "markdown",
   "metadata": {},
   "source": [
    "## Grab TOC"
   ]
  },
  {
   "cell_type": "code",
   "execution_count": 60,
   "metadata": {},
   "outputs": [],
   "source": [
    "res=requests.get(\"https://id.wikipedia.org/wiki/Grace_Hopper\")"
   ]
  },
  {
   "cell_type": "code",
   "execution_count": 61,
   "metadata": {},
   "outputs": [],
   "source": [
    "soup=bs4.BeautifulSoup(res.text,\"lxml\")"
   ]
  },
  {
   "cell_type": "code",
   "execution_count": 62,
   "metadata": {},
   "outputs": [
    {
     "data": {
      "text/plain": [
       "<!DOCTYPE html>\n",
       "<html class=\"client-nojs\" dir=\"ltr\" lang=\"id\">\n",
       "<head>\n",
       "<meta charset=\"utf-8\"/>\n",
       "<title>Grace Hopper - Wikipedia bahasa Indonesia, ensiklopedia bebas</title>\n",
       "<script>document.documentElement.className=\"client-js\";RLCONF={\"wgBreakFrames\":false,\"wgSeparatorTransformTable\":[\",\\t.\",\".\\t,\"],\"wgDigitTransformTable\":[\"\",\"\"],\"wgDefaultDateFormat\":\"dmy\",\"wgMonthNames\":[\"\",\"Januari\",\"Februari\",\"Maret\",\"April\",\"Mei\",\"Juni\",\"Juli\",\"Agustus\",\"September\",\"Oktober\",\"November\",\"Desember\"],\"wgRequestId\":\"c4d1a3ca-e3f2-48f1-a1f1-c00fd9b0e905\",\"wgCSPNonce\":false,\"wgCanonicalNamespace\":\"\",\"wgCanonicalSpecialPageName\":false,\"wgNamespaceNumber\":0,\"wgPageName\":\"Grace_Hopper\",\"wgTitle\":\"Grace Hopper\",\"wgCurRevisionId\":22705516,\"wgRevisionId\":22705516,\"wgArticleId\":1408997,\"wgIsArticle\":true,\"wgIsRedirect\":false,\"wgAction\":\"view\",\"wgUserName\":null,\"wgUserGroups\":[\"*\"],\"wgCategories\":[\"Pemeliharaan CS1: Teks tambahan: authors list\",\"Artikel dengan pranala luar nonaktif\",\"Artikel dengan pranala luar nonaktif permanen\",\"Galat CS1: tanggal\",\"Halaman dengan rujukan yang menggunakan parameter yang tidak didukung\",\"Semua orang yang sudah meninggal\",\"Semua artikel biografi\",\n",
       "\"Artikel biografi Januari 2023\",\"Halaman yang menggunakan rujukan dengan accessdate dan tanpa URL\",\"Templat webarchive tautan wayback\",\"Artikel Wikipedia dengan penanda GND\",\"Artikel Wikipedia dengan penanda ISNI\",\"Artikel Wikipedia dengan penanda VIAF\",\"Artikel Wikipedia dengan penanda BIBSYS\",\"Artikel Wikipedia dengan penanda BNF\",\"Artikel Wikipedia dengan penanda LCCN\",\"Artikel Wikipedia dengan penanda NKC\",\"Artikel Wikipedia dengan penanda NLA\",\"Artikel Wikipedia dengan penanda NLI\",\"Artikel Wikipedia dengan penanda NTA\",\"Artikel Wikipedia dengan penanda PLWABN\",\"Artikel Wikipedia dengan penanda ACM-DL\",\"Artikel Wikipedia dengan penanda DBLP\",\"Artikel Wikipedia dengan penanda MGP\",\"Artikel Wikipedia dengan penanda Semantic Scholar author\",\"Artikel Wikipedia dengan penanda FAST\",\"Artikel Wikipedia dengan penanda SNAC-ID\",\"Artikel Wikipedia dengan penanda SUDOC\",\"Artikel Wikipedia dengan penanda Trove\",\"Artikel Wikipedia dengan penanda WORLDCATID\",\n",
       "\"Artikel Wikipedia dengan penanda ganda\",\"Tanggal kelahiran 9 Desember\",\"Kelahiran 1906\",\"Tanggal kematian 1 Januari\",\"Kematian 1992\",\"Meninggal usia 86\",\"Matematikawan Amerika Serikat\",\"Pemrogram komputer Amerika Serikat\",\"Ilmuwan Amerika Serikat\",\"Penerima National Medal of Technology\",\"Tokoh dari New York City\",\"Perancang bahasa pemrograman\",\"Alumni Universitas Yale\",\"Matematikawan wanita\"],\"wgPageContentLanguage\":\"id\",\"wgPageContentModel\":\"wikitext\",\"wgRelevantPageName\":\"Grace_Hopper\",\"wgRelevantArticleId\":1408997,\"wgIsProbablyEditable\":true,\"wgRelevantPageIsProbablyEditable\":true,\"wgRestrictionEdit\":[],\"wgRestrictionMove\":[],\"wgFlaggedRevsParams\":{\"tags\":{\"accuracy\":{\"levels\":2}}},\"wgVisualEditor\":{\"pageLanguageCode\":\"id\",\"pageLanguageDir\":\"ltr\",\"pageVariantFallbacks\":\"id\"},\"wgMFDisplayWikibaseDescriptions\":{\"search\":true,\"watchlist\":true,\"tagline\":true,\"nearby\":true},\"wgWMESchemaEditAttemptStepOversample\":false,\"wgWMEPageLength\":20000,\"wgNoticeProject\":\"wikipedia\",\n",
       "\"wgVector2022PreviewPages\":[],\"wgMediaViewerOnClick\":true,\"wgMediaViewerEnabledByDefault\":true,\"wgPopupsFlags\":10,\"wgULSCurrentAutonym\":\"Bahasa Indonesia\",\"wgEditSubmitButtonLabelPublish\":true,\"wgCentralAuthMobileDomain\":false,\"wgDiscussionToolsFeaturesEnabled\":{\"replytool\":false,\"newtopictool\":false,\"sourcemodetoolbar\":false,\"topicsubscription\":false,\"autotopicsub\":false,\"visualenhancements\":false,\"visualenhancements_reply\":false,\"visualenhancements_pageframe\":false},\"wgDiscussionToolsFallbackEditMode\":\"visual\",\"wgDiscussionToolsABTestBucket\":\"test\",\"wgULSPosition\":\"interlanguage\",\"wgULSisCompactLinksEnabled\":true,\"wgULSisLanguageSelectorEmpty\":false,\"wgWikibaseItemId\":\"Q11641\",\"GEHomepageSuggestedEditsEnableTopics\":true,\"wgGETopicsMatchModeEnabled\":false,\"wgGEStructuredTaskRejectionReasonTextInputEnabled\":false};RLSTATE={\"skins.vector.user.styles\":\"ready\",\"ext.gadget.charinsert-styles\":\"ready\",\"ext.globalCssJs.user.styles\":\"ready\",\"site.styles\":\"ready\",\"user.styles\":\"ready\",\n",
       "\"skins.vector.user\":\"ready\",\"ext.globalCssJs.user\":\"ready\",\"user\":\"ready\",\"user.options\":\"loading\",\"ext.cite.styles\":\"ready\",\"mediawiki.ui.button\":\"ready\",\"skins.vector.styles\":\"ready\",\"skins.vector.icons\":\"ready\",\"mediawiki.ui.icon\":\"ready\",\"jquery.makeCollapsible.styles\":\"ready\",\"ext.visualEditor.desktopArticleTarget.noscript\":\"ready\",\"ext.wikimediaBadges\":\"ready\",\"ext.uls.interlanguage\":\"ready\",\"wikibase.client.init\":\"ready\"};RLPAGEMODULES=[\"ext.cite.ux-enhancements\",\"site\",\"mediawiki.page.ready\",\"jquery.makeCollapsible\",\"mediawiki.toc\",\"skins.vector.js\",\"skins.vector.es6\",\"mmv.head\",\"mmv.bootstrap.autostart\",\"ext.visualEditor.desktopArticleTarget.init\",\"ext.visualEditor.targetLoader\",\"ext.eventLogging\",\"ext.wikimediaEvents\",\"ext.navigationTiming\",\"ext.cx.eventlogging.campaigns\",\"oojs-ui.styles.icons-media\",\"oojs-ui-core.icons\",\"ext.centralNotice.geoIP\",\"ext.centralNotice.startUp\",\"ext.gadget.ReferenceTooltips\",\"ext.gadget.watchlist-notice\",\"ext.gadget.charinsert\",\n",
       "\"ext.gadget.refToolbar\",\"ext.gadget.AdvancedSiteNotices\",\"ext.gadget.switcher\",\"ext.gadget.Bagikan\",\"ext.gadget.CurIDLink\",\"ext.centralauth.centralautologin\",\"ext.popups\",\"ext.echo.centralauth\",\"ext.discussionTools.init\",\"ext.uls.compactlinks\",\"ext.uls.interface\",\"ext.cx.uls.quick.actions\",\"ext.growthExperiments.SuggestedEditSession\"];</script>\n",
       "<script>(RLQ=window.RLQ||[]).push(function(){mw.loader.implement(\"user.options@12s5i\",function($,jQuery,require,module){mw.user.tokens.set({\"patrolToken\":\"+\\\\\",\"watchToken\":\"+\\\\\",\"csrfToken\":\"+\\\\\"});});});</script>\n",
       "<link href=\"/w/load.php?lang=id&amp;modules=ext.cite.styles%7Cext.uls.interlanguage%7Cext.visualEditor.desktopArticleTarget.noscript%7Cext.wikimediaBadges%7Cjquery.makeCollapsible.styles%7Cmediawiki.ui.button%2Cicon%7Cskins.vector.icons%2Cstyles%7Cwikibase.client.init&amp;only=styles&amp;skin=vector-2022\" rel=\"stylesheet\"/>\n",
       "<script async=\"\" src=\"/w/load.php?lang=id&amp;modules=startup&amp;only=scripts&amp;raw=1&amp;skin=vector-2022\"></script>\n",
       "<meta content=\"\" name=\"ResourceLoaderDynamicStyles\"/>\n",
       "<link href=\"/w/load.php?lang=id&amp;modules=ext.gadget.charinsert-styles&amp;only=styles&amp;skin=vector-2022\" rel=\"stylesheet\"/>\n",
       "<link href=\"/w/load.php?lang=id&amp;modules=site.styles&amp;only=styles&amp;skin=vector-2022\" rel=\"stylesheet\"/>\n",
       "<meta content=\"MediaWiki 1.40.0-wmf.19\" name=\"generator\"/>\n",
       "<meta content=\"origin\" name=\"referrer\"/>\n",
       "<meta content=\"origin-when-crossorigin\" name=\"referrer\"/>\n",
       "<meta content=\"origin-when-cross-origin\" name=\"referrer\"/>\n",
       "<meta content=\"max-image-preview:standard\" name=\"robots\"/>\n",
       "<meta content=\"telephone=no\" name=\"format-detection\"/>\n",
       "<meta content=\"https://upload.wikimedia.org/wikipedia/commons/thumb/a/ad/Commodore_Grace_M._Hopper%2C_USN_%28covered%29.jpg/1200px-Commodore_Grace_M._Hopper%2C_USN_%28covered%29.jpg\" property=\"og:image\"/>\n",
       "<meta content=\"1200\" property=\"og:image:width\"/>\n",
       "<meta content=\"1500\" property=\"og:image:height\"/>\n",
       "<meta content=\"https://upload.wikimedia.org/wikipedia/commons/thumb/a/ad/Commodore_Grace_M._Hopper%2C_USN_%28covered%29.jpg/800px-Commodore_Grace_M._Hopper%2C_USN_%28covered%29.jpg\" property=\"og:image\"/>\n",
       "<meta content=\"800\" property=\"og:image:width\"/>\n",
       "<meta content=\"1000\" property=\"og:image:height\"/>\n",
       "<meta content=\"https://upload.wikimedia.org/wikipedia/commons/thumb/a/ad/Commodore_Grace_M._Hopper%2C_USN_%28covered%29.jpg/640px-Commodore_Grace_M._Hopper%2C_USN_%28covered%29.jpg\" property=\"og:image\"/>\n",
       "<meta content=\"640\" property=\"og:image:width\"/>\n",
       "<meta content=\"800\" property=\"og:image:height\"/>\n",
       "<meta content=\"width=1000\" name=\"viewport\"/>\n",
       "<meta content=\"Grace Hopper - Wikipedia bahasa Indonesia, ensiklopedia bebas\" property=\"og:title\"/>\n",
       "<meta content=\"website\" property=\"og:type\"/>\n",
       "<link href=\"//upload.wikimedia.org\" rel=\"preconnect\"/>\n",
       "<link href=\"//id.m.wikipedia.org/wiki/Grace_Hopper\" media=\"only screen and (max-width: 720px)\" rel=\"alternate\"/>\n",
       "<link href=\"/w/index.php?title=Grace_Hopper&amp;action=edit\" rel=\"alternate\" title=\"Sunting\" type=\"application/x-wiki\"/>\n",
       "<link href=\"/static/apple-touch/wikipedia.png\" rel=\"apple-touch-icon\"/>\n",
       "<link href=\"/static/favicon/wikipedia.ico\" rel=\"icon\"/>\n",
       "<link href=\"/w/opensearch_desc.php\" rel=\"search\" title=\"Wikipedia (id)\" type=\"application/opensearchdescription+xml\"/>\n",
       "<link href=\"//id.wikipedia.org/w/api.php?action=rsd\" rel=\"EditURI\" type=\"application/rsd+xml\"/>\n",
       "<link href=\"https://creativecommons.org/licenses/by-sa/3.0/\" rel=\"license\"/>\n",
       "<link href=\"https://id.wikipedia.org/wiki/Grace_Hopper\" rel=\"canonical\"/>\n",
       "<link href=\"//meta.wikimedia.org\" rel=\"dns-prefetch\"/>\n",
       "<link href=\"//login.wikimedia.org\" rel=\"dns-prefetch\"/>\n",
       "</head>\n",
       "<body class=\"skin-vector skin-vector-search-vue vector-toc-pinned mediawiki ltr sitedir-ltr mw-hide-empty-elt ns-0 ns-subject mw-editable page-Grace_Hopper rootpage-Grace_Hopper skin-vector-2022 action-view vector-feature-language-in-header-enabled vector-feature-language-in-main-page-header-disabled vector-feature-language-alert-in-sidebar-enabled vector-feature-sticky-header-disabled vector-feature-sticky-header-edit-disabled vector-feature-page-tools-disabled vector-feature-page-tools-pinned-disabled vector-feature-main-menu-pinned-disabled vector-feature-limited-width-enabled vector-feature-limited-width-content-enabled\"><div class=\"mw-page-container\">\n",
       "<a class=\"mw-jump-link\" href=\"#bodyContent\">Lompat ke isi</a>\n",
       "<div class=\"mw-page-container-inner\">\n",
       "<input class=\"mw-checkbox-hack-checkbox\" id=\"mw-sidebar-checkbox\" type=\"checkbox\"/>\n",
       "<header class=\"mw-header mw-ui-icon-flush-left mw-ui-icon-flush-right\">\n",
       "<div class=\"vector-header-start\">\n",
       "<label aria-controls=\"mw-panel\" class=\"mw-checkbox-hack-button mw-ui-icon mw-ui-button mw-ui-quiet mw-ui-icon-element mw-ui-icon-flush-right\" data-event-name=\"ui.sidebar\" for=\"mw-sidebar-checkbox\" id=\"mw-sidebar-button\" role=\"button\" tabindex=\"0\" title=\"Menu utama\">\n",
       "<span>Buka/tutup bilah samping</span>\n",
       "</label>\n",
       "<a class=\"mw-logo\" href=\"/wiki/Halaman_Utama\">\n",
       "<img alt=\"\" aria-hidden=\"true\" class=\"mw-logo-icon\" height=\"50\" src=\"/static/images/icons/wikipedia.png\" width=\"50\"/>\n",
       "<span class=\"mw-logo-container\">\n",
       "<img alt=\"Wikipedia\" class=\"mw-logo-wordmark\" src=\"/static/images/mobile/copyright/wikipedia-wordmark-en.svg\" style=\"width: 7.5em; height: 1.125em;\"/>\n",
       "<img alt=\"Ensiklopedia Bebas\" class=\"mw-logo-tagline\" height=\"14\" src=\"/static/images/mobile/copyright/wikipedia-tagline-id.svg\" style=\"width: 7.5em; height: 0.875em;\" width=\"120\"/>\n",
       "</span>\n",
       "</a>\n",
       "</div>\n",
       "<div class=\"vector-header-end\">\n",
       "<div class=\"vector-search-box-vue vector-search-box-collapses vector-search-box-show-thumbnail vector-search-box-auto-expand-width vector-search-box\" id=\"p-search\" role=\"search\">\n",
       "<a accesskey=\"f\" class=\"mw-ui-button mw-ui-quiet mw-ui-icon mw-ui-icon-element mw-ui-icon-wikimedia-search search-toggle\" href=\"/wiki/Istimewa:Pencarian\" title=\"Cari di Wikipedia [f]\">\n",
       "<span>Pencarian</span>\n",
       "</a>\n",
       "<div>\n",
       "<form action=\"/w/index.php\" class=\"vector-search-box-form\" id=\"searchform\">\n",
       "<div class=\"vector-search-box-inner\" data-search-loc=\"header-moved\" id=\"simpleSearch\">\n",
       "<input accesskey=\"f\" aria-label=\"Telusuri Wikipedia\" autocapitalize=\"sentences\" class=\"vector-search-box-input\" id=\"searchInput\" name=\"search\" placeholder=\"Telusuri Wikipedia\" title=\"Cari di Wikipedia [f]\" type=\"search\"/>\n",
       "<input name=\"title\" type=\"hidden\" value=\"Istimewa:Pencarian\"/>\n",
       "<input class=\"searchButton mw-fallbackSearchButton\" id=\"mw-searchButton\" name=\"fulltext\" title=\"Cari halaman yang memiliki teks seperti ini\" type=\"submit\" value=\"Cari\"/>\n",
       "<input class=\"searchButton\" id=\"searchButton\" name=\"go\" title=\"Cari suatu halaman dengan nama yang persis seperti ini jika tersedia\" type=\"submit\" value=\"Lanjut\"/>\n",
       "</div>\n",
       "</form>\n",
       "</div>\n",
       "</div>\n",
       "<nav aria-label=\"Perkakas pribadi\" class=\"vector-user-links\" role=\"navigation\">\n",
       "<div class=\"vector-menu mw-portlet mw-portlet-vector-user-menu-overflow\" id=\"p-vector-user-menu-overflow\">\n",
       "<div class=\"vector-menu-heading\">\n",
       "</div>\n",
       "<div class=\"vector-menu-content\">\n",
       "<ul class=\"vector-menu-content-list\"><li class=\"user-links-collapsible-item mw-list-item\" id=\"pt-createaccount-2\"><a href=\"/w/index.php?title=Istimewa:Buat_akun&amp;returnto=Grace+Hopper\" title=\"Anda dianjurkan untuk membuat akun dan masuk log; meskipun, hal itu tidak diwajibkan\"><span>Buat akun baru</span></a></li></ul>\n",
       "</div>\n",
       "</div>\n",
       "<div class=\"vector-menu vector-dropdown vector-menu-dropdown mw-portlet mw-portlet-personal vector-user-menu vector-user-menu-logged-out\" id=\"p-personal\" title=\"Opsi lainnya\">\n",
       "<input aria-haspopup=\"true\" class=\"vector-menu-checkbox\" data-event-name=\"ui.dropdown-p-personal\" id=\"p-personal-checkbox\" role=\"button\" type=\"checkbox\"/>\n",
       "<label class=\"vector-menu-heading mw-checkbox-hack-button mw-ui-icon mw-ui-button mw-ui-quiet mw-ui-icon-element mw-ui-icon-wikimedia-ellipsis\" for=\"p-personal-checkbox\" id=\"p-personal-label\">\n",
       "<span class=\"vector-menu-heading-label\">Foo</span>\n",
       "</label>\n",
       "<div class=\"vector-menu-content\">\n",
       "<div class=\"vector-menu-content\">\n",
       "<ul class=\"vector-menu-content-list\"><li class=\"vector-user-menu-create-account user-links-collapsible-item\"><a data-mw=\"interface\" href=\"/w/index.php?title=Istimewa:Buat_akun&amp;returnto=Grace+Hopper\"><span class=\"mw-ui-icon mw-ui-icon-userAdd mw-ui-icon-wikimedia-userAdd\"></span><span>Buat akun baru</span></a>\n",
       "</li><li class=\"vector-user-menu-login\"><a data-mw=\"interface\" href=\"/w/index.php?title=Istimewa:Masuk_log&amp;returnto=Grace+Hopper\"><span class=\"mw-ui-icon mw-ui-icon-logIn mw-ui-icon-wikimedia-logIn\"></span><span>Masuk log</span></a>\n",
       "</li></ul>\n",
       "</div>\n",
       "<div class=\"vector-user-menu-anon-editor\">\n",
       "<p>\n",
       "\t\t\t\tHalaman penyunting yang telah keluar log <a aria-label=\"Pelajari lebih lanjut tentang menyunting\" data-mw=\"interface\" href=\"/wiki/Bantuan:Pengantar\"><span>pelajari lebih lanjut</span></a>\n",
       "</p>\n",
       "</div>\n",
       "<div class=\"vector-menu-content\">\n",
       "<ul class=\"vector-menu-content-list\"><li class=\"mw-list-item\" id=\"pt-anontalk\"><a accesskey=\"n\" href=\"/wiki/Istimewa:Pembicaraan_saya\" title=\"Pembicaraan tentang suntingan dari alamat IP ini [n]\"><span>Pembicaraan</span></a></li><li class=\"mw-list-item\" id=\"pt-anoncontribs\"><a accesskey=\"y\" href=\"/wiki/Istimewa:Kontribusi_saya\" title=\"Daftar suntingan yang dibuat dari alamat IP ini [y]\"><span>Kontribusi</span></a></li></ul>\n",
       "</div>\n",
       "</div>\n",
       "</div></nav>\n",
       "</div>\n",
       "</header>\n",
       "<div class=\"vector-main-menu-container\">\n",
       "<div id=\"mw-navigation\">\n",
       "<nav aria-label=\"Situs\" class=\"vector-main-menu-landmark\" id=\"mw-panel\" role=\"navigation\">\n",
       "<div class=\"vector-main-menu vector-pinnable-element\" id=\"vector-main-menu\">\n",
       "<div class=\"vector-main-menu-group vector-menu mw-portlet mw-portlet-navigation\" id=\"p-navigation\">\n",
       "<div class=\"vector-menu-heading\" id=\"p-navigation-label\">\n",
       "<span class=\"vector-menu-heading-label\">Navigasi</span>\n",
       "</div>\n",
       "<div class=\"vector-menu-content\">\n",
       "<ul class=\"vector-menu-content-list\"><li class=\"mw-list-item\" id=\"n-mainpage\"><a accesskey=\"z\" href=\"/wiki/Halaman_Utama\" title=\"Kunjungi Halaman Utama [z]\"><span>Halaman Utama</span></a></li><li class=\"mw-list-item\" id=\"n-Daftar-isi\"><a href=\"/wiki/Wikipedia:Isi\"><span>Daftar isi</span></a></li><li class=\"mw-list-item\" id=\"n-recentchanges\"><a accesskey=\"r\" href=\"/wiki/Istimewa:Perubahan_terbaru\" title=\"Daftar perubahan terbaru dalam wiki. [r]\"><span>Perubahan terbaru</span></a></li><li class=\"mw-list-item\" id=\"n-Artikel-pilihan\"><a href=\"/wiki/Wikipedia:Artikel_pilihan/Topik\"><span>Artikel pilihan</span></a></li><li class=\"mw-list-item\" id=\"n-currentevents\"><a href=\"/wiki/Portal:Peristiwa_terkini\" title=\"Temukan informasi tentang peristiwa terkini\"><span>Peristiwa terkini</span></a></li><li class=\"mw-list-item\" id=\"n-newpage\"><a href=\"/wiki/Istimewa:Halaman_baru\"><span>Halaman baru</span></a></li><li class=\"mw-list-item\" id=\"n-randompage\"><a accesskey=\"x\" href=\"/wiki/Istimewa:Halaman_sembarang\" title=\"Tampilkan sembarang halaman [x]\"><span>Halaman sembarang</span></a></li></ul>\n",
       "</div>\n",
       "</div>\n",
       "<div class=\"vector-main-menu-group vector-menu mw-portlet mw-portlet-Komunitas\" id=\"p-Komunitas\">\n",
       "<div class=\"vector-menu-heading\" id=\"p-Komunitas-label\">\n",
       "<span class=\"vector-menu-heading-label\">Komunitas</span>\n",
       "</div>\n",
       "<div class=\"vector-menu-content\">\n",
       "<ul class=\"vector-menu-content-list\"><li class=\"mw-list-item\" id=\"n-Warung-Kopi\"><a href=\"/wiki/Wikipedia:Warung_Kopi\"><span>Warung Kopi</span></a></li><li class=\"mw-list-item\" id=\"n-portal\"><a href=\"/wiki/Portal:Komunitas\" title=\"Tentang proyek, apa yang dapat Anda lakukan, di mana untuk mencari sesuatu\"><span>Portal komunitas</span></a></li><li class=\"mw-list-item\" id=\"n-help\"><a href=\"/wiki/Bantuan:Isi\" title=\"Tempat mencari bantuan.\"><span>Bantuan</span></a></li></ul>\n",
       "</div>\n",
       "</div>\n",
       "<div class=\"vector-main-menu-group vector-menu mw-portlet mw-portlet-Wikipedia\" id=\"p-Wikipedia\">\n",
       "<div class=\"vector-menu-heading\" id=\"p-Wikipedia-label\">\n",
       "<span class=\"vector-menu-heading-label\">Wikipedia</span>\n",
       "</div>\n",
       "<div class=\"vector-menu-content\">\n",
       "<ul class=\"vector-menu-content-list\"><li class=\"mw-list-item\" id=\"n-aboutsite\"><a href=\"/wiki/Wikipedia:Perihal\"><span>Tentang Wikipedia</span></a></li><li class=\"mw-list-item\" id=\"n-Pancapilar\"><a href=\"/wiki/Wikipedia:Pancapilar\"><span>Pancapilar</span></a></li><li class=\"mw-list-item\" id=\"n-Kebijakan\"><a href=\"/wiki/Wikipedia:Kebijakan_dan_pedoman\"><span>Kebijakan</span></a></li><li class=\"mw-list-item\" id=\"n-sitesupport\"><a href=\"//donate.wikimedia.org/wiki/Special:FundraiserRedirector?utm_source=donate&amp;utm_medium=sidebar&amp;utm_campaign=C13_id.wikipedia.org&amp;uselang=id\" title=\"Dukung kami\"><span>Menyumbang</span></a></li><li class=\"mw-list-item\" id=\"n-Hubungi-kami\"><a href=\"/wiki/Wikipedia:Hubungi_kami\"><span>Hubungi kami</span></a></li><li class=\"mw-list-item\" id=\"n-Bak-pasir\"><a href=\"/wiki/Wikipedia:Bak_pasir\"><span>Bak pasir</span></a></li></ul>\n",
       "</div>\n",
       "</div>\n",
       "<div class=\"vector-main-menu-group vector-menu mw-portlet mw-portlet-Bagikan emptyPortlet\" id=\"p-Bagikan\">\n",
       "<div class=\"vector-menu-heading\" id=\"p-Bagikan-label\">\n",
       "<span class=\"vector-menu-heading-label\">Bagikan</span>\n",
       "</div>\n",
       "<div class=\"vector-menu-content\">\n",
       "<ul class=\"vector-menu-content-list\"></ul>\n",
       "</div>\n",
       "</div>\n",
       "<div class=\"vector-main-menu-group vector-menu mw-portlet mw-portlet-tb\" id=\"p-tb\">\n",
       "<div class=\"vector-menu-heading\" id=\"p-tb-label\">\n",
       "<span class=\"vector-menu-heading-label\">Perkakas</span>\n",
       "</div>\n",
       "<div class=\"vector-menu-content\">\n",
       "<ul class=\"vector-menu-content-list\"><li class=\"mw-list-item\" id=\"t-whatlinkshere\"><a accesskey=\"j\" href=\"/wiki/Istimewa:Pranala_balik/Grace_Hopper\" title=\"Daftar semua halaman wiki yang memiliki pranala ke halaman ini [j]\"><span>Pranala balik</span></a></li><li class=\"mw-list-item\" id=\"t-recentchangeslinked\"><a accesskey=\"k\" href=\"/wiki/Istimewa:Perubahan_terkait/Grace_Hopper\" rel=\"nofollow\" title=\"Perubahan terbaru halaman-halaman yang memiliki pranala ke halaman ini [k]\"><span>Perubahan terkait</span></a></li><li class=\"mw-list-item\" id=\"t-specialpages\"><a accesskey=\"q\" href=\"/wiki/Istimewa:Halaman_istimewa\" title=\"Daftar semua halaman istimewa [q]\"><span>Halaman istimewa</span></a></li><li class=\"mw-list-item\" id=\"t-permalink\"><a href=\"/w/index.php?title=Grace_Hopper&amp;oldid=22705516\" title=\"Pranala permanen untuk revisi halaman ini\"><span>Pranala permanen</span></a></li><li class=\"mw-list-item\" id=\"t-info\"><a href=\"/w/index.php?title=Grace_Hopper&amp;action=info\" title=\"Informasi lanjut tentang halaman ini\"><span>Informasi halaman</span></a></li><li class=\"mw-list-item\" id=\"t-cite\"><a href=\"/w/index.php?title=Istimewa:Kutip&amp;page=Grace_Hopper&amp;id=22705516&amp;wpFormIdentifier=titleform\" title=\"Informasi tentang bagaimana mengutip halaman ini\"><span>Kutip halaman ini</span></a></li><li class=\"mw-list-item\" id=\"t-wikibase\"><a accesskey=\"g\" href=\"https://www.wikidata.org/wiki/Special:EntityPage/Q11641\" title=\"Pranala untuk menghubungkan butir pada ruang penyimpanan data [g]\"><span>Butir di Wikidata</span></a></li></ul>\n",
       "</div>\n",
       "</div>\n",
       "<div class=\"vector-main-menu-group vector-menu mw-portlet mw-portlet-coll-print_export\" id=\"p-coll-print_export\">\n",
       "<div class=\"vector-menu-heading\" id=\"p-coll-print_export-label\">\n",
       "<span class=\"vector-menu-heading-label\">Cetak/ekspor</span>\n",
       "</div>\n",
       "<div class=\"vector-menu-content\">\n",
       "<ul class=\"vector-menu-content-list\"><li class=\"mw-list-item\" id=\"coll-create_a_book\"><a href=\"/w/index.php?title=Istimewa:Buku&amp;bookcmd=book_creator&amp;referer=Grace+Hopper\"><span>Buat buku</span></a></li><li class=\"mw-list-item\" id=\"coll-download-as-rl\"><a href=\"/w/index.php?title=Istimewa:DownloadAsPdf&amp;page=Grace_Hopper&amp;action=show-download-screen\"><span>Unduh versi PDF</span></a></li><li class=\"mw-list-item\" id=\"t-print\"><a accesskey=\"p\" href=\"/w/index.php?title=Grace_Hopper&amp;printable=yes\" title=\"Versi cetak halaman ini [p]\"><span>Versi cetak</span></a></li></ul>\n",
       "</div>\n",
       "</div>\n",
       "<div class=\"vector-main-menu-group vector-menu mw-portlet mw-portlet-wikibase-otherprojects\" id=\"p-wikibase-otherprojects\">\n",
       "<div class=\"vector-menu-heading\" id=\"p-wikibase-otherprojects-label\">\n",
       "<span class=\"vector-menu-heading-label\">Dalam proyek lain</span>\n",
       "</div>\n",
       "<div class=\"vector-menu-content\">\n",
       "<ul class=\"vector-menu-content-list\"><li class=\"wb-otherproject-link wb-otherproject-commons mw-list-item\"><a href=\"https://commons.wikimedia.org/wiki/Grace_Hopper\" hreflang=\"en\"><span>Wikimedia Commons</span></a></li></ul>\n",
       "</div>\n",
       "</div>\n",
       "<div class=\"vector-main-menu-action vector-main-menu-action-lang-alert\">\n",
       "<div class=\"vector-main-menu-action-item\">\n",
       "<div class=\"vector-main-menu-action-heading vector-menu-heading\">Bahasa</div>\n",
       "<div class=\"vector-main-menu-action-content vector-menu-content\">\n",
       "<div class=\"mw-message-box-notice vector-language-sidebar-alert mw-message-box\">Di Wikipedia ini, pranala bahasa terletak di bagian atas halaman di sebelah judul artikel. <a href=\"#p-lang-btn\">Pergi ke paling atas</a>.</div>\n",
       "</div>\n",
       "</div>\n",
       "</div>\n",
       "</div>\n",
       "</nav>\n",
       "</div>\n",
       "</div>\n",
       "<div class=\"vector-sitenotice-container\">\n",
       "<div id=\"siteNotice\"><!-- CentralNotice --></div>\n",
       "</div>\n",
       "<input class=\"mw-checkbox-hack-checkbox\" id=\"vector-toc-collapsed-checkbox\" type=\"checkbox\"/>\n",
       "<nav aria-label=\"Daftar isi\" class=\"mw-table-of-contents-container\" data-event-name=\"ui.sidebar-toc\" id=\"mw-panel-toc\" role=\"navigation\">\n",
       "<div class=\"vector-pinned-container\" id=\"vector-toc-pinned-container\">\n",
       "<div class=\"vector-toc vector-pinnable-element\" id=\"vector-toc\">\n",
       "<div class=\"vector-pinnable-header vector-toc-pinnable-header vector-pinnable-header-pinned\" data-name=\"vector-toc\">\n",
       "<h2 class=\"vector-pinnable-header-label\">Daftar isi</h2>\n",
       "<button class=\"vector-pinnable-header-toggle-button vector-pinnable-header-pin-button\" data-event-name=\"pinnable-header.vector-toc.pin\">move to sidebar</button>\n",
       "<button class=\"vector-pinnable-header-toggle-button vector-pinnable-header-unpin-button\" data-event-name=\"pinnable-header.vector-toc.unpin\">sembunyikan</button>\n",
       "</div>\n",
       "<ul class=\"vector-toc-contents\" id=\"mw-panel-toc-list\">\n",
       "<li class=\"vector-toc-list-item vector-toc-level-1\" id=\"toc-mw-content-text\">\n",
       "<a class=\"vector-toc-link\" href=\"#\">\n",
       "<div class=\"vector-toc-text\">Awal</div>\n",
       "</a>\n",
       "</li>\n",
       "<li class=\"vector-toc-list-item vector-toc-level-1 vector-toc-list-item-expanded\" id=\"toc-Kehidupan_dan_karier\">\n",
       "<a class=\"vector-toc-link\" href=\"#Kehidupan_dan_karier\">\n",
       "<div class=\"vector-toc-text\">\n",
       "<span class=\"vector-toc-numb\">1</span>Kehidupan dan karier</div>\n",
       "</a>\n",
       "<ul class=\"vector-toc-list\" id=\"toc-Kehidupan_dan_karier-sublist\">\n",
       "</ul>\n",
       "</li>\n",
       "<li class=\"vector-toc-list-item vector-toc-level-1 vector-toc-list-item-expanded\" id=\"toc-Pensiun_dan_kematian\">\n",
       "<a class=\"vector-toc-link\" href=\"#Pensiun_dan_kematian\">\n",
       "<div class=\"vector-toc-text\">\n",
       "<span class=\"vector-toc-numb\">2</span>Pensiun dan kematian</div>\n",
       "</a>\n",
       "<ul class=\"vector-toc-list\" id=\"toc-Pensiun_dan_kematian-sublist\">\n",
       "</ul>\n",
       "</li>\n",
       "<li class=\"vector-toc-list-item vector-toc-level-1 vector-toc-list-item-expanded\" id=\"toc-Kehidupan_pribadi\">\n",
       "<a class=\"vector-toc-link\" href=\"#Kehidupan_pribadi\">\n",
       "<div class=\"vector-toc-text\">\n",
       "<span class=\"vector-toc-numb\">3</span>Kehidupan pribadi</div>\n",
       "</a>\n",
       "<ul class=\"vector-toc-list\" id=\"toc-Kehidupan_pribadi-sublist\">\n",
       "</ul>\n",
       "</li>\n",
       "<li class=\"vector-toc-list-item vector-toc-level-1 vector-toc-list-item-expanded\" id=\"toc-Penghargaan_dan_pengakuan\">\n",
       "<a class=\"vector-toc-link\" href=\"#Penghargaan_dan_pengakuan\">\n",
       "<div class=\"vector-toc-text\">\n",
       "<span class=\"vector-toc-numb\">4</span>Penghargaan dan pengakuan</div>\n",
       "</a>\n",
       "<ul class=\"vector-toc-list\" id=\"toc-Penghargaan_dan_pengakuan-sublist\">\n",
       "</ul>\n",
       "</li>\n",
       "<li class=\"vector-toc-list-item vector-toc-level-1 vector-toc-list-item-expanded\" id=\"toc-Obituari\">\n",
       "<a class=\"vector-toc-link\" href=\"#Obituari\">\n",
       "<div class=\"vector-toc-text\">\n",
       "<span class=\"vector-toc-numb\">5</span>Obituari</div>\n",
       "</a>\n",
       "<ul class=\"vector-toc-list\" id=\"toc-Obituari-sublist\">\n",
       "</ul>\n",
       "</li>\n",
       "<li class=\"vector-toc-list-item vector-toc-level-1 vector-toc-list-item-expanded\" id=\"toc-Lihat_juga\">\n",
       "<a class=\"vector-toc-link\" href=\"#Lihat_juga\">\n",
       "<div class=\"vector-toc-text\">\n",
       "<span class=\"vector-toc-numb\">6</span>Lihat juga</div>\n",
       "</a>\n",
       "<ul class=\"vector-toc-list\" id=\"toc-Lihat_juga-sublist\">\n",
       "</ul>\n",
       "</li>\n",
       "<li class=\"vector-toc-list-item vector-toc-level-1 vector-toc-list-item-expanded\" id=\"toc-Referensi\">\n",
       "<a class=\"vector-toc-link\" href=\"#Referensi\">\n",
       "<div class=\"vector-toc-text\">\n",
       "<span class=\"vector-toc-numb\">7</span>Referensi</div>\n",
       "</a>\n",
       "<ul class=\"vector-toc-list\" id=\"toc-Referensi-sublist\">\n",
       "</ul>\n",
       "</li>\n",
       "<li class=\"vector-toc-list-item vector-toc-level-1 vector-toc-list-item-expanded\" id=\"toc-Bacaan_lebih_lanjut\">\n",
       "<a class=\"vector-toc-link\" href=\"#Bacaan_lebih_lanjut\">\n",
       "<div class=\"vector-toc-text\">\n",
       "<span class=\"vector-toc-numb\">8</span>Bacaan lebih lanjut</div>\n",
       "</a>\n",
       "<ul class=\"vector-toc-list\" id=\"toc-Bacaan_lebih_lanjut-sublist\">\n",
       "</ul>\n",
       "</li>\n",
       "<li class=\"vector-toc-list-item vector-toc-level-1 vector-toc-list-item-expanded\" id=\"toc-Pranala_luar\">\n",
       "<a class=\"vector-toc-link\" href=\"#Pranala_luar\">\n",
       "<div class=\"vector-toc-text\">\n",
       "<span class=\"vector-toc-numb\">9</span>Pranala luar</div>\n",
       "</a>\n",
       "<ul class=\"vector-toc-list\" id=\"toc-Pranala_luar-sublist\">\n",
       "</ul>\n",
       "</li>\n",
       "</ul>\n",
       "</div>\n",
       "</div>\n",
       "</nav>\n",
       "<div class=\"mw-content-container\">\n",
       "<main class=\"mw-body\" id=\"content\" role=\"main\">\n",
       "<header class=\"mw-body-header vector-page-titlebar\">\n",
       "<label aria-controls=\"toc-toggle-list\" class=\"mw-ui-button mw-ui-quiet mw-ui-icon mw-ui-icon-flush-left mw-ui-icon-element mw-ui-icon-wikimedia-listBullet mw-checkbox-hack-button\" data-event-name=\"vector.toc-toggle-list\" for=\"vector-toc-collapsed-checkbox\" id=\"vector-toc-collapsed-button\" role=\"button\" tabindex=\"0\" title=\"Daftar Isi\">\n",
       "\t\t\t\t\t\tToggle the table of contents\n",
       "\t\t\t\t\t</label>\n",
       "<div class=\"vector-menu vector-dropdown vector-menu-dropdown vector-page-titlebar-toc mw-ui-icon-flush-left\" id=\"vector-page-titlebar-toc\">\n",
       "<input aria-haspopup=\"true\" class=\"vector-menu-checkbox\" data-event-name=\"ui.dropdown-vector-page-titlebar-toc\" id=\"vector-page-titlebar-toc-checkbox\" role=\"button\" type=\"checkbox\"/>\n",
       "<label class=\"vector-menu-heading mw-checkbox-hack-button mw-ui-icon mw-ui-button mw-ui-quiet mw-ui-icon-element mw-ui-icon-wikimedia-listBullet\" for=\"vector-page-titlebar-toc-checkbox\" id=\"vector-page-titlebar-toc-label\">\n",
       "<span class=\"vector-menu-heading-label\"></span>\n",
       "</label>\n",
       "<div class=\"vector-menu-content\">\n",
       "<div class=\"vector-unpinned-container\" id=\"vector-page-titlebar-toc-unpinned-container\">\n",
       "</div>\n",
       "</div>\n",
       "</div>\n",
       "<h1 class=\"firstHeading mw-first-heading\" id=\"firstHeading\"><span class=\"mw-page-title-main\">Grace Hopper</span></h1>\n",
       "<div class=\"vector-menu vector-dropdown vector-menu-dropdown mw-portlet mw-portlet-lang mw-ui-icon-flush-right\" id=\"p-lang-btn\">\n",
       "<input aria-haspopup=\"true\" aria-label=\"Pergi ke artikel dalam bahasa lain. Terdapat 66 bahasa\" class=\"vector-menu-checkbox mw-interlanguage-selector\" data-event-name=\"ui.dropdown-p-lang-btn\" id=\"p-lang-btn-checkbox\" role=\"button\" type=\"checkbox\"/>\n",
       "<label class=\"vector-menu-heading mw-ui-button mw-ui-quiet mw-ui-progressive mw-portlet-lang-heading-66\" for=\"p-lang-btn-checkbox\" id=\"p-lang-btn-label\">\n",
       "<span class=\"mw-ui-icon mw-ui-icon-wikimedia-language-progressive\"></span><span class=\"vector-menu-heading-label\">66 bahasa</span>\n",
       "</label>\n",
       "<div class=\"vector-menu-content\">\n",
       "<div class=\"vector-menu-content\">\n",
       "<ul class=\"vector-menu-content-list\"><li class=\"interlanguage-link interwiki-af mw-list-item\"><a class=\"interlanguage-link-target\" href=\"https://af.wikipedia.org/wiki/Grace_Hopper\" hreflang=\"af\" lang=\"af\" title=\"Grace Hopper – Afrikaans\"><span>Afrikaans</span></a></li><li class=\"interlanguage-link interwiki-ar mw-list-item\"><a class=\"interlanguage-link-target\" href=\"https://ar.wikipedia.org/wiki/%D8%AC%D8%B1%D9%8A%D8%B3_%D9%87%D9%88%D8%A8%D8%B1\" hreflang=\"ar\" lang=\"ar\" title=\"جريس هوبر – Arab\"><span>العربية</span></a></li><li class=\"interlanguage-link interwiki-arz mw-list-item\"><a class=\"interlanguage-link-target\" href=\"https://arz.wikipedia.org/wiki/%D8%AC%D8%B1%D9%8A%D8%B3_%D9%87%D9%88%D8%A8%D8%B1\" hreflang=\"arz\" lang=\"arz\" title=\"جريس هوبر – Arab Mesir\"><span>مصرى</span></a></li><li class=\"interlanguage-link interwiki-ast mw-list-item\"><a class=\"interlanguage-link-target\" href=\"https://ast.wikipedia.org/wiki/Grace_Murray_Hopper\" hreflang=\"ast\" lang=\"ast\" title=\"Grace Murray Hopper – Asturia\"><span>Asturianu</span></a></li><li class=\"interlanguage-link interwiki-az mw-list-item\"><a class=\"interlanguage-link-target\" href=\"https://az.wikipedia.org/wiki/Qreys_M%C3%BCrrey_Hopper\" hreflang=\"az\" lang=\"az\" title=\"Qreys Mürrey Hopper – Azerbaijani\"><span>Azərbaycanca</span></a></li><li class=\"interlanguage-link interwiki-bcl mw-list-item\"><a class=\"interlanguage-link-target\" href=\"https://bcl.wikipedia.org/wiki/Grace_Hopper\" hreflang=\"bcl\" lang=\"bcl\" title=\"Grace Hopper – Central Bikol\"><span>Bikol Central</span></a></li><li class=\"interlanguage-link interwiki-bg mw-list-item\"><a class=\"interlanguage-link-target\" href=\"https://bg.wikipedia.org/wiki/%D0%93%D1%80%D0%B5%D0%B9%D1%81_%D0%A5%D0%BE%D0%BF%D1%8A%D1%80\" hreflang=\"bg\" lang=\"bg\" title=\"Грейс Хопър – Bulgaria\"><span>Български</span></a></li><li class=\"interlanguage-link interwiki-bn mw-list-item\"><a class=\"interlanguage-link-target\" href=\"https://bn.wikipedia.org/wiki/%E0%A6%97%E0%A7%8D%E0%A6%B0%E0%A7%87%E0%A6%B8_%E0%A6%B9%E0%A6%AA%E0%A6%BE%E0%A6%B0\" hreflang=\"bn\" lang=\"bn\" title=\"গ্রেস হপার – Bengali\"><span>বাংলা</span></a></li><li class=\"interlanguage-link interwiki-ca mw-list-item\"><a class=\"interlanguage-link-target\" href=\"https://ca.wikipedia.org/wiki/Grace_Hopper\" hreflang=\"ca\" lang=\"ca\" title=\"Grace Hopper – Katalan\"><span>Català</span></a></li><li class=\"interlanguage-link interwiki-cs mw-list-item\"><a class=\"interlanguage-link-target\" href=\"https://cs.wikipedia.org/wiki/Grace_Hopperov%C3%A1\" hreflang=\"cs\" lang=\"cs\" title=\"Grace Hopperová – Cheska\"><span>Čeština</span></a></li><li class=\"interlanguage-link interwiki-cy mw-list-item\"><a class=\"interlanguage-link-target\" href=\"https://cy.wikipedia.org/wiki/Grace_Hopper\" hreflang=\"cy\" lang=\"cy\" title=\"Grace Hopper – Welsh\"><span>Cymraeg</span></a></li><li class=\"interlanguage-link interwiki-da mw-list-item\"><a class=\"interlanguage-link-target\" href=\"https://da.wikipedia.org/wiki/Grace_Hopper\" hreflang=\"da\" lang=\"da\" title=\"Grace Hopper – Dansk\"><span>Dansk</span></a></li><li class=\"interlanguage-link interwiki-de mw-list-item\"><a class=\"interlanguage-link-target\" href=\"https://de.wikipedia.org/wiki/Grace_Hopper\" hreflang=\"de\" lang=\"de\" title=\"Grace Hopper – Jerman\"><span>Deutsch</span></a></li><li class=\"interlanguage-link interwiki-el mw-list-item\"><a class=\"interlanguage-link-target\" href=\"https://el.wikipedia.org/wiki/%CE%93%CE%BA%CF%81%CE%AD%CE%B9%CF%82_%CE%9C%CE%AC%CF%81%CE%B5%CF%8A_%CE%A7%CF%8C%CF%80%CE%B5%CF%81\" hreflang=\"el\" lang=\"el\" title=\"Γκρέις Μάρεϊ Χόπερ – Yunani\"><span>Ελληνικά</span></a></li><li class=\"interlanguage-link interwiki-en mw-list-item\"><a class=\"interlanguage-link-target\" href=\"https://en.wikipedia.org/wiki/Grace_Hopper\" hreflang=\"en\" lang=\"en\" title=\"Grace Hopper – Inggris\"><span>English</span></a></li><li class=\"interlanguage-link interwiki-es mw-list-item\"><a class=\"interlanguage-link-target\" href=\"https://es.wikipedia.org/wiki/Grace_Murray_Hopper\" hreflang=\"es\" lang=\"es\" title=\"Grace Murray Hopper – Spanyol\"><span>Español</span></a></li><li class=\"interlanguage-link interwiki-eu mw-list-item\"><a class=\"interlanguage-link-target\" href=\"https://eu.wikipedia.org/wiki/Grace_Hopper\" hreflang=\"eu\" lang=\"eu\" title=\"Grace Hopper – Basque\"><span>Euskara</span></a></li><li class=\"interlanguage-link interwiki-fa mw-list-item\"><a class=\"interlanguage-link-target\" href=\"https://fa.wikipedia.org/wiki/%DA%AF%D8%B1%DB%8C%D8%B3_%D9%87%D8%A7%D9%BE%D8%B1\" hreflang=\"fa\" lang=\"fa\" title=\"گریس هاپر – Persia\"><span>فارسی</span></a></li><li class=\"interlanguage-link interwiki-fi mw-list-item\"><a class=\"interlanguage-link-target\" href=\"https://fi.wikipedia.org/wiki/Grace_Hopper\" hreflang=\"fi\" lang=\"fi\" title=\"Grace Hopper – Suomi\"><span>Suomi</span></a></li><li class=\"interlanguage-link interwiki-fr mw-list-item\"><a class=\"interlanguage-link-target\" href=\"https://fr.wikipedia.org/wiki/Grace_Hopper\" hreflang=\"fr\" lang=\"fr\" title=\"Grace Hopper – Prancis\"><span>Français</span></a></li><li class=\"interlanguage-link interwiki-ga mw-list-item\"><a class=\"interlanguage-link-target\" href=\"https://ga.wikipedia.org/wiki/Grace_Hopper\" hreflang=\"ga\" lang=\"ga\" title=\"Grace Hopper – Irlandia\"><span>Gaeilge</span></a></li><li class=\"interlanguage-link interwiki-gl mw-list-item\"><a class=\"interlanguage-link-target\" href=\"https://gl.wikipedia.org/wiki/Grace_Hopper\" hreflang=\"gl\" lang=\"gl\" title=\"Grace Hopper – Galisia\"><span>Galego</span></a></li><li class=\"interlanguage-link interwiki-he mw-list-item\"><a class=\"interlanguage-link-target\" href=\"https://he.wikipedia.org/wiki/%D7%92%D7%A8%D7%99%D7%99%D7%A1_%D7%94%D7%95%D7%A4%D7%A8\" hreflang=\"he\" lang=\"he\" title=\"גרייס הופר – Ibrani\"><span>עברית</span></a></li><li class=\"interlanguage-link interwiki-hi mw-list-item\"><a class=\"interlanguage-link-target\" href=\"https://hi.wikipedia.org/wiki/%E0%A4%97%E0%A5%8D%E0%A4%B0%E0%A5%87%E0%A4%B8_%E0%A4%B9%E0%A5%82%E0%A4%AA%E0%A4%B0\" hreflang=\"hi\" lang=\"hi\" title=\"ग्रेस हूपर – Hindi\"><span>हिन्दी</span></a></li><li class=\"interlanguage-link interwiki-ht mw-list-item\"><a class=\"interlanguage-link-target\" href=\"https://ht.wikipedia.org/wiki/Grace_Hopper\" hreflang=\"ht\" lang=\"ht\" title=\"Grace Hopper – Kreol Haiti\"><span>Kreyòl ayisyen</span></a></li><li class=\"interlanguage-link interwiki-hu mw-list-item\"><a class=\"interlanguage-link-target\" href=\"https://hu.wikipedia.org/wiki/Grace_Hopper\" hreflang=\"hu\" lang=\"hu\" title=\"Grace Hopper – Hungaria\"><span>Magyar</span></a></li><li class=\"interlanguage-link interwiki-hy mw-list-item\"><a class=\"interlanguage-link-target\" href=\"https://hy.wikipedia.org/wiki/%D4%B3%D6%80%D5%A5%D5%B5%D5%BD_%D5%80%D5%B8%D6%83%D5%A5%D6%80\" hreflang=\"hy\" lang=\"hy\" title=\"Գրեյս Հոփեր – Armenia\"><span>Հայերեն</span></a></li><li class=\"interlanguage-link interwiki-is mw-list-item\"><a class=\"interlanguage-link-target\" href=\"https://is.wikipedia.org/wiki/Grace_Hopper\" hreflang=\"is\" lang=\"is\" title=\"Grace Hopper – Islandia\"><span>Íslenska</span></a></li><li class=\"interlanguage-link interwiki-it mw-list-item\"><a class=\"interlanguage-link-target\" href=\"https://it.wikipedia.org/wiki/Grace_Murray_Hopper\" hreflang=\"it\" lang=\"it\" title=\"Grace Murray Hopper – Italia\"><span>Italiano</span></a></li><li class=\"interlanguage-link interwiki-ja mw-list-item\"><a class=\"interlanguage-link-target\" href=\"https://ja.wikipedia.org/wiki/%E3%82%B0%E3%83%AC%E3%83%BC%E3%82%B9%E3%83%BB%E3%83%9B%E3%83%83%E3%83%91%E3%83%BC\" hreflang=\"ja\" lang=\"ja\" title=\"グレース・ホッパー – Jepang\"><span>日本語</span></a></li><li class=\"interlanguage-link interwiki-ka mw-list-item\"><a class=\"interlanguage-link-target\" href=\"https://ka.wikipedia.org/wiki/%E1%83%92%E1%83%A0%E1%83%94%E1%83%98%E1%83%A1_%E1%83%B0%E1%83%9D%E1%83%9E%E1%83%94%E1%83%A0%E1%83%98\" hreflang=\"ka\" lang=\"ka\" title=\"გრეის ჰოპერი – Georgia\"><span>ქართული</span></a></li><li class=\"interlanguage-link interwiki-kk mw-list-item\"><a class=\"interlanguage-link-target\" href=\"https://kk.wikipedia.org/wiki/%D0%93%D1%80%D0%B5%D0%B9%D1%81_%D0%A5%D0%BE%D0%BF%D0%BF%D0%B5%D1%80\" hreflang=\"kk\" lang=\"kk\" title=\"Грейс Хоппер – Kazakh\"><span>Қазақша</span></a></li><li class=\"interlanguage-link interwiki-kn mw-list-item\"><a class=\"interlanguage-link-target\" href=\"https://kn.wikipedia.org/wiki/%E0%B2%97%E0%B3%8D%E0%B2%B0%E0%B3%87%E0%B2%B8%E0%B3%8D_%E0%B2%AC%E0%B3%8D%E0%B2%B0%E0%B3%86%E0%B2%B5%E0%B3%8D%E0%B2%B8%E0%B3%8D%E0%B2%9F%E0%B2%B0%E0%B3%8D_%E0%B2%AE%E0%B3%81%E0%B2%B0%E0%B3%8D%E0%B2%B0%E0%B3%86_%E0%B2%B9%E0%B2%BE%E0%B2%AA%E0%B2%B0%E0%B3%8D\" hreflang=\"kn\" lang=\"kn\" title=\"ಗ್ರೇಸ್ ಬ್ರೆವ್ಸ್ಟರ್ ಮುರ್ರೆ ಹಾಪರ್ – Kannada\"><span>ಕನ್ನಡ</span></a></li><li class=\"interlanguage-link interwiki-ko mw-list-item\"><a class=\"interlanguage-link-target\" href=\"https://ko.wikipedia.org/wiki/%EA%B7%B8%EB%A0%88%EC%9D%B4%EC%8A%A4_%ED%98%B8%ED%8D%BC\" hreflang=\"ko\" lang=\"ko\" title=\"그레이스 호퍼 – Korea\"><span>한국어</span></a></li><li class=\"interlanguage-link interwiki-kw mw-list-item\"><a class=\"interlanguage-link-target\" href=\"https://kw.wikipedia.org/wiki/Grace_Hopper\" hreflang=\"kw\" lang=\"kw\" title=\"Grace Hopper – Kornish\"><span>Kernowek</span></a></li><li class=\"interlanguage-link interwiki-la mw-list-item\"><a class=\"interlanguage-link-target\" href=\"https://la.wikipedia.org/wiki/Gratia_Hopper\" hreflang=\"la\" lang=\"la\" title=\"Gratia Hopper – Latin\"><span>Latina</span></a></li><li class=\"interlanguage-link interwiki-lt mw-list-item\"><a class=\"interlanguage-link-target\" href=\"https://lt.wikipedia.org/wiki/Grace_Hopper\" hreflang=\"lt\" lang=\"lt\" title=\"Grace Hopper – Lituavi\"><span>Lietuvių</span></a></li><li class=\"interlanguage-link interwiki-lv mw-list-item\"><a class=\"interlanguage-link-target\" href=\"https://lv.wikipedia.org/wiki/Greisa_Hopera\" hreflang=\"lv\" lang=\"lv\" title=\"Greisa Hopera – Latvi\"><span>Latviešu</span></a></li><li class=\"interlanguage-link interwiki-mai mw-list-item\"><a class=\"interlanguage-link-target\" href=\"https://mai.wikipedia.org/wiki/%E0%A4%97%E0%A5%8D%E0%A4%B0%E0%A5%87%E0%A4%B8_%E0%A4%B9%E0%A5%82%E0%A4%AA%E0%A4%B0\" hreflang=\"mai\" lang=\"mai\" title=\"ग्रेस हूपर – Maithili\"><span>मैथिली</span></a></li><li class=\"interlanguage-link interwiki-mk mw-list-item\"><a class=\"interlanguage-link-target\" href=\"https://mk.wikipedia.org/wiki/%D0%93%D1%80%D0%B5%D1%98%D1%81_%D0%A5%D0%BE%D0%BF%D0%B5%D1%80\" hreflang=\"mk\" lang=\"mk\" title=\"Грејс Хопер – Makedonia\"><span>Македонски</span></a></li><li class=\"interlanguage-link interwiki-ml mw-list-item\"><a class=\"interlanguage-link-target\" href=\"https://ml.wikipedia.org/wiki/%E0%B4%97%E0%B5%8D%E0%B4%B0%E0%B5%87%E0%B4%B8%E0%B5%8D_%E0%B4%AE%E0%B5%81%E0%B4%B1%E0%B5%87_%E0%B4%B9%E0%B5%8B%E0%B4%AA%E0%B5%8D%E0%B4%AA%E0%B5%BC\" hreflang=\"ml\" lang=\"ml\" title=\"ഗ്രേസ് മുറേ ഹോപ്പർ – Malayalam\"><span>മലയാളം</span></a></li><li class=\"interlanguage-link interwiki-nl mw-list-item\"><a class=\"interlanguage-link-target\" href=\"https://nl.wikipedia.org/wiki/Grace_Hopper\" hreflang=\"nl\" lang=\"nl\" title=\"Grace Hopper – Belanda\"><span>Nederlands</span></a></li><li class=\"interlanguage-link interwiki-no mw-list-item\"><a class=\"interlanguage-link-target\" href=\"https://no.wikipedia.org/wiki/Grace_Hopper\" hreflang=\"nb\" lang=\"nb\" title=\"Grace Hopper – Bokmål Norwegia\"><span>Norsk bokmål</span></a></li><li class=\"interlanguage-link interwiki-pl mw-list-item\"><a class=\"interlanguage-link-target\" href=\"https://pl.wikipedia.org/wiki/Grace_Hopper\" hreflang=\"pl\" lang=\"pl\" title=\"Grace Hopper – Polski\"><span>Polski</span></a></li><li class=\"interlanguage-link interwiki-pms mw-list-item\"><a class=\"interlanguage-link-target\" href=\"https://pms.wikipedia.org/wiki/Grace_Murray_Hopper\" hreflang=\"pms\" lang=\"pms\" title=\"Grace Murray Hopper – Piedmontese\"><span>Piemontèis</span></a></li><li class=\"interlanguage-link interwiki-pnb mw-list-item\"><a class=\"interlanguage-link-target\" href=\"https://pnb.wikipedia.org/wiki/%DA%AF%D8%B1%DB%8C%D8%B3_%DB%81%D8%A7%D9%BE%D8%B1\" hreflang=\"pnb\" lang=\"pnb\" title=\"گریس ہاپر – Western Punjabi\"><span>پنجابی</span></a></li><li class=\"interlanguage-link interwiki-ps mw-list-item\"><a class=\"interlanguage-link-target\" href=\"https://ps.wikipedia.org/wiki/%DA%AB%D8%B1%DB%90%D8%B3_%D9%87%D9%88%D9%BE%D8%B1\" hreflang=\"ps\" lang=\"ps\" title=\"ګرېس هوپر – Pashto\"><span>پښتو</span></a></li><li class=\"interlanguage-link interwiki-pt mw-list-item\"><a class=\"interlanguage-link-target\" href=\"https://pt.wikipedia.org/wiki/Grace_Hopper\" hreflang=\"pt\" lang=\"pt\" title=\"Grace Hopper – Portugis\"><span>Português</span></a></li><li class=\"interlanguage-link interwiki-ru mw-list-item\"><a class=\"interlanguage-link-target\" href=\"https://ru.wikipedia.org/wiki/%D0%A5%D0%BE%D0%BF%D0%BF%D0%B5%D1%80,_%D0%93%D1%80%D0%B5%D0%B9%D1%81\" hreflang=\"ru\" lang=\"ru\" title=\"Хоппер, Грейс – Rusia\"><span>Русский</span></a></li><li class=\"interlanguage-link interwiki-sco mw-list-item\"><a class=\"interlanguage-link-target\" href=\"https://sco.wikipedia.org/wiki/Grace_Hopper\" hreflang=\"sco\" lang=\"sco\" title=\"Grace Hopper – Skotlandia\"><span>Scots</span></a></li><li class=\"interlanguage-link interwiki-si mw-list-item\"><a class=\"interlanguage-link-target\" href=\"https://si.wikipedia.org/wiki/%E0%B6%9C%E0%B7%8A%E2%80%8D%E0%B6%BB%E0%B7%9A%E0%B7%83%E0%B7%8A_%E0%B7%84%E0%B7%9C%E0%B6%B4%E0%B6%BB%E0%B7%8A\" hreflang=\"si\" lang=\"si\" title=\"ග්‍රේස් හොපර් – Sinhala\"><span>සිංහල</span></a></li><li class=\"interlanguage-link interwiki-simple mw-list-item\"><a class=\"interlanguage-link-target\" href=\"https://simple.wikipedia.org/wiki/Grace_Hopper\" hreflang=\"en-simple\" lang=\"en-simple\" title=\"Grace Hopper – Simple English\"><span>Simple English</span></a></li><li class=\"interlanguage-link interwiki-sk mw-list-item\"><a class=\"interlanguage-link-target\" href=\"https://sk.wikipedia.org/wiki/Grace_Hopperov%C3%A1\" hreflang=\"sk\" lang=\"sk\" title=\"Grace Hopperová – Slovak\"><span>Slovenčina</span></a></li><li class=\"interlanguage-link interwiki-sl mw-list-item\"><a class=\"interlanguage-link-target\" href=\"https://sl.wikipedia.org/wiki/Grace_Hopper\" hreflang=\"sl\" lang=\"sl\" title=\"Grace Hopper – Sloven\"><span>Slovenščina</span></a></li><li class=\"interlanguage-link interwiki-sq mw-list-item\"><a class=\"interlanguage-link-target\" href=\"https://sq.wikipedia.org/wiki/Grace_Hopper\" hreflang=\"sq\" lang=\"sq\" title=\"Grace Hopper – Albania\"><span>Shqip</span></a></li><li class=\"interlanguage-link interwiki-sr mw-list-item\"><a class=\"interlanguage-link-target\" href=\"https://sr.wikipedia.org/wiki/%D0%93%D1%80%D0%B5%D1%98%D1%81_%D0%A5%D0%BE%D0%BF%D0%B5%D1%80\" hreflang=\"sr\" lang=\"sr\" title=\"Грејс Хопер – Serbia\"><span>Српски / srpski</span></a></li><li class=\"interlanguage-link interwiki-sv mw-list-item\"><a class=\"interlanguage-link-target\" href=\"https://sv.wikipedia.org/wiki/Grace_Hopper\" hreflang=\"sv\" lang=\"sv\" title=\"Grace Hopper – Swedia\"><span>Svenska</span></a></li><li class=\"interlanguage-link interwiki-ta mw-list-item\"><a class=\"interlanguage-link-target\" href=\"https://ta.wikipedia.org/wiki/%E0%AE%95%E0%AE%BF%E0%AE%B0%E0%AF%87%E0%AE%9A%E0%AF%81_%E0%AE%B9%E0%AE%BE%E0%AE%AA%E0%AF%8D%E0%AE%AA%E0%AE%B0%E0%AF%8D\" hreflang=\"ta\" lang=\"ta\" title=\"கிரேசு ஹாப்பர் – Tamil\"><span>தமிழ்</span></a></li><li class=\"interlanguage-link interwiki-th mw-list-item\"><a class=\"interlanguage-link-target\" href=\"https://th.wikipedia.org/wiki/%E0%B9%80%E0%B8%81%E0%B8%A3%E0%B8%8B_%E0%B8%AE%E0%B8%AD%E0%B8%9B%E0%B9%80%E0%B8%9B%E0%B8%AD%E0%B8%A3%E0%B9%8C\" hreflang=\"th\" lang=\"th\" title=\"เกรซ ฮอปเปอร์ – Thai\"><span>ไทย</span></a></li><li class=\"interlanguage-link interwiki-tr mw-list-item\"><a class=\"interlanguage-link-target\" href=\"https://tr.wikipedia.org/wiki/Grace_Hopper\" hreflang=\"tr\" lang=\"tr\" title=\"Grace Hopper – Turki\"><span>Türkçe</span></a></li><li class=\"interlanguage-link interwiki-uk mw-list-item\"><a class=\"interlanguage-link-target\" href=\"https://uk.wikipedia.org/wiki/%D2%90%D1%80%D0%B5%D0%B9%D1%81_%D0%93%D0%BE%D0%BF%D0%BF%D0%B5%D1%80\" hreflang=\"uk\" lang=\"uk\" title=\"Ґрейс Гоппер – Ukraina\"><span>Українська</span></a></li><li class=\"interlanguage-link interwiki-vi mw-list-item\"><a class=\"interlanguage-link-target\" href=\"https://vi.wikipedia.org/wiki/Grace_Hopper\" hreflang=\"vi\" lang=\"vi\" title=\"Grace Hopper – Vietnam\"><span>Tiếng Việt</span></a></li><li class=\"interlanguage-link interwiki-wuu mw-list-item\"><a class=\"interlanguage-link-target\" href=\"https://wuu.wikipedia.org/wiki/%E6%A0%BC%E8%95%BE%E4%B8%9D%C2%B7%E8%B5%AB%E6%9F%8F\" hreflang=\"wuu\" lang=\"wuu\" title=\"格蕾丝·赫柏 – Wu Chinese\"><span>吴语</span></a></li><li class=\"interlanguage-link interwiki-xmf mw-list-item\"><a class=\"interlanguage-link-target\" href=\"https://xmf.wikipedia.org/wiki/%E1%83%92%E1%83%A0%E1%83%94%E1%83%98%E1%83%A1_%E1%83%B0%E1%83%9D%E1%83%9E%E1%83%94%E1%83%A0%E1%83%98\" hreflang=\"xmf\" lang=\"xmf\" title=\"გრეის ჰოპერი – Mingrelian\"><span>მარგალური</span></a></li><li class=\"interlanguage-link interwiki-zh mw-list-item\"><a class=\"interlanguage-link-target\" href=\"https://zh.wikipedia.org/wiki/%E8%91%9B%E9%BA%97%E7%B5%B2%C2%B7%E9%9C%8D%E6%99%AE\" hreflang=\"zh\" lang=\"zh\" title=\"葛麗絲·霍普 – Tionghoa\"><span>中文</span></a></li><li class=\"interlanguage-link interwiki-zh-min-nan mw-list-item\"><a class=\"interlanguage-link-target\" href=\"https://zh-min-nan.wikipedia.org/wiki/Grace_Hopper\" hreflang=\"nan\" lang=\"nan\" title=\"Grace Hopper – Chinese (Min Nan)\"><span>Bân-lâm-gú</span></a></li></ul>\n",
       "<div class=\"after-portlet after-portlet-lang\"><span class=\"wb-langlinks-edit wb-langlinks-link\"><a class=\"wbc-editpage\" href=\"https://www.wikidata.org/wiki/Special:EntityPage/Q11641#sitelinks-wikipedia\" title=\"Sunting pranala interwiki\">Sunting pranala</a></span></div>\n",
       "</div>\n",
       "</div>\n",
       "</div>\n",
       "</header>\n",
       "<div class=\"vector-page-toolbar\">\n",
       "<div class=\"vector-page-toolbar-container\">\n",
       "<div id=\"left-navigation\">\n",
       "<nav aria-label=\"Ruang nama\">\n",
       "<div class=\"vector-menu vector-menu-tabs mw-portlet mw-portlet-associated-pages\" id=\"p-associated-pages\">\n",
       "<div class=\"vector-menu-content\">\n",
       "<ul class=\"vector-menu-content-list\"><li class=\"selected vector-tab-noicon mw-list-item\" id=\"ca-nstab-main\"><a accesskey=\"c\" href=\"/wiki/Grace_Hopper\" title=\"Lihat halaman isi [c]\"><span>Halaman</span></a></li><li class=\"vector-tab-noicon mw-list-item\" id=\"ca-talk\"><a accesskey=\"t\" href=\"/wiki/Pembicaraan:Grace_Hopper\" rel=\"discussion\" title=\"Pembicaraan halaman isi [t]\"><span>Pembicaraan</span></a></li></ul>\n",
       "</div>\n",
       "</div>\n",
       "<div class=\"vector-menu vector-dropdown vector-menu-dropdown mw-portlet mw-portlet-variants emptyPortlet\" id=\"p-variants\">\n",
       "<input aria-haspopup=\"true\" aria-label=\"Ubah varian bahasa\" class=\"vector-menu-checkbox\" data-event-name=\"ui.dropdown-p-variants\" id=\"p-variants-checkbox\" role=\"button\" type=\"checkbox\"/>\n",
       "<label class=\"vector-menu-heading\" for=\"p-variants-checkbox\" id=\"p-variants-label\">\n",
       "<span class=\"vector-menu-heading-label\">Bahasa Indonesia</span>\n",
       "</label>\n",
       "<div class=\"vector-menu-content\">\n",
       "<div class=\"vector-menu-content\">\n",
       "<ul class=\"vector-menu-content-list\"></ul>\n",
       "</div>\n",
       "</div>\n",
       "</div>\n",
       "</nav>\n",
       "</div>\n",
       "<div class=\"vector-collapsible\" id=\"right-navigation\">\n",
       "<nav aria-label=\"Tampilan\">\n",
       "<div class=\"vector-menu vector-menu-tabs mw-portlet mw-portlet-views\" id=\"p-views\">\n",
       "<div class=\"vector-menu-content\">\n",
       "<ul class=\"vector-menu-content-list\"><li class=\"selected vector-tab-noicon mw-list-item\" id=\"ca-view\"><a href=\"/wiki/Grace_Hopper\"><span>Baca</span></a></li><li class=\"vector-tab-noicon mw-list-item\" id=\"ca-ve-edit\"><a accesskey=\"v\" href=\"/w/index.php?title=Grace_Hopper&amp;veaction=edit\" title=\"Sunting halaman ini [v]\"><span>Sunting</span></a></li><li class=\"collapsible vector-tab-noicon mw-list-item\" id=\"ca-edit\"><a accesskey=\"e\" href=\"/w/index.php?title=Grace_Hopper&amp;action=edit\" title=\"Sunting halaman ini [e]\"><span>Sunting sumber</span></a></li><li class=\"vector-tab-noicon mw-list-item\" id=\"ca-history\"><a accesskey=\"h\" href=\"/w/index.php?title=Grace_Hopper&amp;action=history\" title=\"Revisi sebelumnya dari halaman ini. [h]\"><span>Lihat riwayat</span></a></li></ul>\n",
       "</div>\n",
       "</div>\n",
       "</nav>\n",
       "<nav aria-label=\"Opsi lainnya\" class=\"vector-page-tools-landmark\">\n",
       "<div class=\"vector-menu vector-dropdown vector-menu-dropdown mw-portlet mw-portlet-cactions emptyPortlet vector-has-collapsible-items\" id=\"p-cactions\" title=\"Opsi lainnya\">\n",
       "<input aria-haspopup=\"true\" class=\"vector-menu-checkbox\" data-event-name=\"ui.dropdown-p-cactions\" id=\"p-cactions-checkbox\" role=\"button\" type=\"checkbox\"/>\n",
       "<label class=\"vector-menu-heading\" for=\"p-cactions-checkbox\" id=\"p-cactions-label\">\n",
       "<span class=\"vector-menu-heading-label\">Lainnya</span>\n",
       "</label>\n",
       "<div class=\"vector-menu-content\">\n",
       "<div class=\"vector-menu-content\">\n",
       "<ul class=\"vector-menu-content-list\"><li class=\"selected vector-more-collapsible-item mw-list-item\" id=\"ca-more-view\"><a href=\"/wiki/Grace_Hopper\"><span>Baca</span></a></li><li class=\"vector-more-collapsible-item mw-list-item\" id=\"ca-more-ve-edit\"><a href=\"/w/index.php?title=Grace_Hopper&amp;veaction=edit\"><span>Sunting</span></a></li><li class=\"collapsible vector-more-collapsible-item mw-list-item\" id=\"ca-more-edit\"><a href=\"/w/index.php?title=Grace_Hopper&amp;action=edit\"><span>Sunting sumber</span></a></li><li class=\"vector-more-collapsible-item mw-list-item\" id=\"ca-more-history\"><a href=\"/w/index.php?title=Grace_Hopper&amp;action=history\"><span>Lihat riwayat</span></a></li></ul>\n",
       "</div>\n",
       "</div>\n",
       "</div>\n",
       "</nav>\n",
       "</div>\n",
       "</div>\n",
       "</div>\n",
       "<div aria-labelledby=\"firstHeading\" class=\"vector-body\" data-mw-ve-target-container=\"\" id=\"bodyContent\">\n",
       "<div class=\"vector-body-before-content\">\n",
       "<div class=\"mw-indicators\">\n",
       "</div>\n",
       "<div class=\"noprint\" id=\"siteSub\">Dari Wikipedia bahasa Indonesia, ensiklopedia bebas</div>\n",
       "</div>\n",
       "<div id=\"contentSub\"><div id=\"mw-content-subtitle\"></div></div>\n",
       "<div class=\"mw-body-content mw-content-ltr\" dir=\"ltr\" id=\"mw-content-text\" lang=\"id\"><div class=\"mw-parser-output\"><style data-mw-deduplicate=\"TemplateStyles:r22657712\">.mw-parser-output .infobox-subbox{padding:0;border:none;margin:-3px;width:auto;min-width:100%;font-size:100%;clear:none;float:none;background-color:transparent}.mw-parser-output .infobox-3cols-child{margin:auto}.mw-parser-output .infobox .navbar{font-size:100%}body.skin-minerva .mw-parser-output .infobox-header,body.skin-minerva .mw-parser-output .infobox-subheader,body.skin-minerva .mw-parser-output .infobox-above,body.skin-minerva .mw-parser-output .infobox-title,body.skin-minerva .mw-parser-output .infobox-image,body.skin-minerva .mw-parser-output .infobox-full-data,body.skin-minerva .mw-parser-output .infobox-below{text-align:center}</style><table class=\"infobox vcard\" style=\"width:315px;border-spacing:2px;\"><tbody><tr><th class=\"infobox-above\" colspan=\"2\" style=\"background-color:#B0C4DE;\"><span class=\"fn\">Grace Murray Hopper</span></th></tr><tr><td class=\"infobox-image\" colspan=\"2\" style=\"border-bottom: 1px solid #aaa;; line-height: 1.5em\"><a class=\"image\" href=\"/wiki/Berkas:Commodore_Grace_M._Hopper,_USN_(covered).jpg\"><img alt=\"Commodore Grace M. Hopper, USN (covered).jpg\" data-file-height=\"3000\" data-file-width=\"2400\" decoding=\"async\" height=\"275\" src=\"//upload.wikimedia.org/wikipedia/commons/thumb/a/ad/Commodore_Grace_M._Hopper%2C_USN_%28covered%29.jpg/220px-Commodore_Grace_M._Hopper%2C_USN_%28covered%29.jpg\" srcset=\"//upload.wikimedia.org/wikipedia/commons/thumb/a/ad/Commodore_Grace_M._Hopper%2C_USN_%28covered%29.jpg/330px-Commodore_Grace_M._Hopper%2C_USN_%28covered%29.jpg 1.5x, //upload.wikimedia.org/wikipedia/commons/thumb/a/ad/Commodore_Grace_M._Hopper%2C_USN_%28covered%29.jpg/440px-Commodore_Grace_M._Hopper%2C_USN_%28covered%29.jpg 2x\" width=\"220\"/></a><div class=\"infobox-caption\" style=\"font-size: 100%\">Hopper pada Januari 1984</div></td></tr><tr><th class=\"infobox-label\" scope=\"row\" style=\"padding-right: 1em\">Julukan</th><td class=\"infobox-data nickname\">\"Amazing Grace\"</td></tr><tr><th class=\"infobox-label\" scope=\"row\" style=\"padding-right: 1em\">Lahir</th><td class=\"infobox-data\"><span style=\"display:none\">(<span class=\"bday\">1906-12-09</span>)</span>9 Desember 1906<br/><a class=\"mw-redirect\" href=\"/wiki/New_York_City\" title=\"New York City\">New York City</a>, <a class=\"mw-disambig\" href=\"/wiki/New_York\" title=\"New York\">New York</a>, <a href=\"/wiki/Amerika_Serikat\" title=\"Amerika Serikat\">Amerika Serikat</a></td></tr><tr><th class=\"infobox-label\" scope=\"row\" style=\"padding-right: 1em\">Meninggal</th><td class=\"infobox-data\">1 Januari 1992<span style=\"display:none\">(1992-01-01)</span> (umur 85)<br/><a class=\"mw-redirect\" href=\"/wiki/Arlington,_Virginia\" title=\"Arlington, Virginia\">Arlington, Virginia</a>, Amerika Serikat</td></tr><tr><th class=\"infobox-label\" scope=\"row\" style=\"padding-right: 1em\">Dimakamkan</th><td class=\"infobox-data\"><span class=\"label\"><a href=\"/wiki/Pemakaman_Nasional_Arlington\" title=\"Pemakaman Nasional Arlington\">Pemakaman Nasional Arlington</a></span></td></tr><tr><th class=\"infobox-label\" scope=\"row\" style=\"padding-right: 1em\">Pengabdian</th><td class=\"infobox-data\"><span class=\"flagicon\"><img alt=\"\" class=\"thumbborder\" data-file-height=\"650\" data-file-width=\"1235\" decoding=\"async\" height=\"12\" src=\"//upload.wikimedia.org/wikipedia/commons/thumb/a/a4/Flag_of_the_United_States.svg/23px-Flag_of_the_United_States.svg.png\" srcset=\"//upload.wikimedia.org/wikipedia/commons/thumb/a/a4/Flag_of_the_United_States.svg/35px-Flag_of_the_United_States.svg.png 1.5x, //upload.wikimedia.org/wikipedia/commons/thumb/a/a4/Flag_of_the_United_States.svg/46px-Flag_of_the_United_States.svg.png 2x\" width=\"23\"/> </span><a href=\"/wiki/Amerika_Serikat\" title=\"Amerika Serikat\">Amerika Serikat</a></td></tr><tr><th class=\"infobox-label\" scope=\"row\" style=\"padding-right: 1em\">Dinas/cabang</th><td class=\"infobox-data\"><span class=\"flagicon\"><a href=\"/wiki/Angkatan_Laut_Amerika_Serikat\" title=\"Angkatan Laut Amerika Serikat\"><img alt=\"Angkatan Laut Amerika Serikat\" class=\"thumbborder\" data-file-height=\"794\" data-file-width=\"1280\" decoding=\"async\" height=\"14\" src=\"//upload.wikimedia.org/wikipedia/commons/thumb/4/46/Flag_of_the_United_States_Navy_%28unofficial_proportions%29.svg/23px-Flag_of_the_United_States_Navy_%28unofficial_proportions%29.svg.png\" srcset=\"//upload.wikimedia.org/wikipedia/commons/thumb/4/46/Flag_of_the_United_States_Navy_%28unofficial_proportions%29.svg/35px-Flag_of_the_United_States_Navy_%28unofficial_proportions%29.svg.png 1.5x, //upload.wikimedia.org/wikipedia/commons/thumb/4/46/Flag_of_the_United_States_Navy_%28unofficial_proportions%29.svg/46px-Flag_of_the_United_States_Navy_%28unofficial_proportions%29.svg.png 2x\" width=\"23\"/></a></span><a href=\"/wiki/Angkatan_Laut_Amerika_Serikat\" title=\"Angkatan Laut Amerika Serikat\">Angkatan Laut Amerika Serikat</a></td></tr><tr><th class=\"infobox-label\" scope=\"row\" style=\"padding-right: 1em\">Lama dinas</th><td class=\"infobox-data\">1943–1966, 1967–1971, 1972–1986</td></tr><tr><th class=\"infobox-label\" scope=\"row\" style=\"padding-right: 1em\">Pangkat</th><td class=\"infobox-data\"><a class=\"image\" href=\"/wiki/Berkas:US-O7_insignia.svg\"><img alt=\"US-O7 insignia.svg\" data-file-height=\"583\" data-file-width=\"622\" decoding=\"async\" height=\"22\" src=\"//upload.wikimedia.org/wikipedia/commons/thumb/2/23/US-O7_insignia.svg/24px-US-O7_insignia.svg.png\" srcset=\"//upload.wikimedia.org/wikipedia/commons/thumb/2/23/US-O7_insignia.svg/36px-US-O7_insignia.svg.png 1.5x, //upload.wikimedia.org/wikipedia/commons/thumb/2/23/US-O7_insignia.svg/48px-US-O7_insignia.svg.png 2x\" width=\"24\"/></a> <a href=\"/wiki/Laksamana_Pertama\" title=\"Laksamana Pertama\">Laksamana Pertama</a></td></tr><tr><th class=\"infobox-label\" scope=\"row\" style=\"padding-right: 1em\">Penghargaan</th><td class=\"infobox-data\"><a class=\"image\" href=\"/wiki/Berkas:Defense_Distinguished_Service_Medal_ribbon.svg\"><img alt=\"Defense Distinguished Service Medal ribbon.svg\" class=\"thumbborder\" data-file-height=\"279\" data-file-width=\"1024\" decoding=\"async\" height=\"6\" src=\"//upload.wikimedia.org/wikipedia/commons/thumb/3/34/Defense_Distinguished_Service_Medal_ribbon.svg/22px-Defense_Distinguished_Service_Medal_ribbon.svg.png\" srcset=\"//upload.wikimedia.org/wikipedia/commons/thumb/3/34/Defense_Distinguished_Service_Medal_ribbon.svg/33px-Defense_Distinguished_Service_Medal_ribbon.svg.png 1.5x, //upload.wikimedia.org/wikipedia/commons/thumb/3/34/Defense_Distinguished_Service_Medal_ribbon.svg/44px-Defense_Distinguished_Service_Medal_ribbon.svg.png 2x\" width=\"22\"/></a> <a class=\"new\" href=\"/w/index.php?title=Defense_Distinguished_Service_Medal&amp;action=edit&amp;redlink=1\" title=\"Defense Distinguished Service Medal (halaman belum tersedia)\">Defense Distinguished Service Medal</a><br/><a class=\"image\" href=\"/wiki/Berkas:Legion_of_Merit_ribbon.svg\"><img alt=\"Legion of Merit ribbon.svg\" class=\"thumbborder\" data-file-height=\"279\" data-file-width=\"1024\" decoding=\"async\" height=\"6\" src=\"//upload.wikimedia.org/wikipedia/commons/thumb/4/43/Legion_of_Merit_ribbon.svg/22px-Legion_of_Merit_ribbon.svg.png\" srcset=\"//upload.wikimedia.org/wikipedia/commons/thumb/4/43/Legion_of_Merit_ribbon.svg/33px-Legion_of_Merit_ribbon.svg.png 1.5x, //upload.wikimedia.org/wikipedia/commons/thumb/4/43/Legion_of_Merit_ribbon.svg/44px-Legion_of_Merit_ribbon.svg.png 2x\" width=\"22\"/></a> <a class=\"new\" href=\"/w/index.php?title=Legion_of_Merit&amp;action=edit&amp;redlink=1\" title=\"Legion of Merit (halaman belum tersedia)\">Legion of Merit</a><br/><a class=\"image\" href=\"/wiki/Berkas:Meritorious_Service_Medal_ribbon.svg\"><img alt=\"Meritorious Service Medal ribbon.svg\" class=\"thumbborder\" data-file-height=\"279\" data-file-width=\"1024\" decoding=\"async\" height=\"6\" src=\"//upload.wikimedia.org/wikipedia/commons/thumb/e/eb/Meritorious_Service_Medal_ribbon.svg/22px-Meritorious_Service_Medal_ribbon.svg.png\" srcset=\"//upload.wikimedia.org/wikipedia/commons/thumb/e/eb/Meritorious_Service_Medal_ribbon.svg/33px-Meritorious_Service_Medal_ribbon.svg.png 1.5x, //upload.wikimedia.org/wikipedia/commons/thumb/e/eb/Meritorious_Service_Medal_ribbon.svg/44px-Meritorious_Service_Medal_ribbon.svg.png 2x\" width=\"22\"/></a> <a class=\"new\" href=\"/w/index.php?title=Meritorious_Service_Medal_(USA)&amp;action=edit&amp;redlink=1\" title=\"Meritorious Service Medal (USA) (halaman belum tersedia)\">Meritorious Service Medal</a><br/><a class=\"image\" href=\"/wiki/Berkas:American_Campaign_Medal_ribbon.svg\"><img alt=\"American Campaign Medal ribbon.svg\" class=\"thumbborder\" data-file-height=\"279\" data-file-width=\"1024\" decoding=\"async\" height=\"6\" src=\"//upload.wikimedia.org/wikipedia/commons/thumb/e/e0/American_Campaign_Medal_ribbon.svg/22px-American_Campaign_Medal_ribbon.svg.png\" srcset=\"//upload.wikimedia.org/wikipedia/commons/thumb/e/e0/American_Campaign_Medal_ribbon.svg/33px-American_Campaign_Medal_ribbon.svg.png 1.5x, //upload.wikimedia.org/wikipedia/commons/thumb/e/e0/American_Campaign_Medal_ribbon.svg/44px-American_Campaign_Medal_ribbon.svg.png 2x\" width=\"22\"/></a> <a class=\"new\" href=\"/w/index.php?title=American_Campaign_Medal&amp;action=edit&amp;redlink=1\" title=\"American Campaign Medal (halaman belum tersedia)\">American Campaign Medal</a><br/><a class=\"image\" href=\"/wiki/Berkas:World_War_II_Victory_Medal_ribbon.svg\"><img alt=\"World War II Victory Medal ribbon.svg\" class=\"thumbborder\" data-file-height=\"29\" data-file-width=\"106\" decoding=\"async\" height=\"6\" src=\"//upload.wikimedia.org/wikipedia/commons/thumb/0/06/World_War_II_Victory_Medal_ribbon.svg/22px-World_War_II_Victory_Medal_ribbon.svg.png\" srcset=\"//upload.wikimedia.org/wikipedia/commons/thumb/0/06/World_War_II_Victory_Medal_ribbon.svg/33px-World_War_II_Victory_Medal_ribbon.svg.png 1.5x, //upload.wikimedia.org/wikipedia/commons/thumb/0/06/World_War_II_Victory_Medal_ribbon.svg/44px-World_War_II_Victory_Medal_ribbon.svg.png 2x\" width=\"22\"/></a> <a href=\"/wiki/World_War_II_Victory_Medal\" title=\"World War II Victory Medal\">World War II Victory Medal</a><br/><a class=\"image\" href=\"/wiki/Berkas:National_Defense_Service_Medal_ribbon.svg\"><img alt=\"National Defense Service Medal ribbon.svg\" class=\"thumbborder\" data-file-height=\"279\" data-file-width=\"1024\" decoding=\"async\" height=\"6\" src=\"//upload.wikimedia.org/wikipedia/commons/thumb/0/0d/National_Defense_Service_Medal_ribbon.svg/22px-National_Defense_Service_Medal_ribbon.svg.png\" srcset=\"//upload.wikimedia.org/wikipedia/commons/thumb/0/0d/National_Defense_Service_Medal_ribbon.svg/33px-National_Defense_Service_Medal_ribbon.svg.png 1.5x, //upload.wikimedia.org/wikipedia/commons/thumb/0/0d/National_Defense_Service_Medal_ribbon.svg/44px-National_Defense_Service_Medal_ribbon.svg.png 2x\" width=\"22\"/></a> <a class=\"new\" href=\"/w/index.php?title=National_Defense_Service_Medal&amp;action=edit&amp;redlink=1\" title=\"National Defense Service Medal (halaman belum tersedia)\">National Defense Service Medal</a><br/><a class=\"image\" href=\"/wiki/Berkas:U.S._Naval_Reserve_Medal_ribbon.svg\"><img alt=\"U.S. Naval Reserve Medal ribbon.svg\" class=\"thumbborder\" data-file-height=\"279\" data-file-width=\"1024\" decoding=\"async\" height=\"6\" src=\"//upload.wikimedia.org/wikipedia/commons/thumb/7/7f/U.S._Naval_Reserve_Medal_ribbon.svg/22px-U.S._Naval_Reserve_Medal_ribbon.svg.png\" srcset=\"//upload.wikimedia.org/wikipedia/commons/thumb/7/7f/U.S._Naval_Reserve_Medal_ribbon.svg/33px-U.S._Naval_Reserve_Medal_ribbon.svg.png 1.5x, //upload.wikimedia.org/wikipedia/commons/thumb/7/7f/U.S._Naval_Reserve_Medal_ribbon.svg/44px-U.S._Naval_Reserve_Medal_ribbon.svg.png 2x\" width=\"22\"/></a> <a class=\"new\" href=\"/w/index.php?title=Naval_Reserve_Medal&amp;action=edit&amp;redlink=1\" title=\"Naval Reserve Medal (halaman belum tersedia)\">Naval Reserve Medal</a></td></tr></tbody></table>\n",
       "<p><b>Grace Murray Hopper</b> (9 Desember 1906 – 1 Januari 1992) adalah seorang <a href=\"/wiki/Ilmuwan\" title=\"Ilmuwan\">ilmuwan</a> <a href=\"/wiki/Komputer\" title=\"Komputer\">komputer</a> dan perwira tinggi <a href=\"/wiki/Angkatan_Laut_Amerika_Serikat\" title=\"Angkatan Laut Amerika Serikat\">Angkatan Laut Amerika Serikat</a> berpangkat <a class=\"mw-redirect\" href=\"/wiki/Laksamana_pertama\" title=\"Laksamana pertama\">laksamana pertama</a>. Menjadi pelopor di bidangnya, ia adalah salah satu pemrogram komputer <a class=\"new\" href=\"/w/index.php?title=Harvard_Mark_I&amp;action=edit&amp;redlink=1\" title=\"Harvard Mark I (halaman belum tersedia)\">Harvard Mark I</a>, dan mengembangkan <a href=\"/wiki/Kompilator\" title=\"Kompilator\">kompilator</a> pertama untuk bahasa pemrograman komputer.<sup class=\"reference\" id=\"cite_ref-Wexelblat81_1-0\"><a href=\"#cite_note-Wexelblat81-1\">[1]</a></sup><sup class=\"reference\" id=\"cite_ref-Spencer85_2-0\"><a href=\"#cite_note-Spencer85-2\">[2]</a></sup><sup class=\"reference\" id=\"cite_ref-Laplante01_3-0\"><a href=\"#cite_note-Laplante01-3\">[3]</a></sup><sup class=\"reference\" id=\"cite_ref-Bunch93_4-0\"><a href=\"#cite_note-Bunch93-4\">[4]</a></sup><sup class=\"reference\" id=\"cite_ref-Booss03_5-0\"><a href=\"#cite_note-Booss03-5\">[5]</a></sup> Ia menyusun konsep <a href=\"/wiki/Bahasa_pemrograman\" title=\"Bahasa pemrograman\">bahasa pemrograman</a> independen dari mesin yang berujung pada pengembangan <a href=\"/wiki/COBOL\" title=\"COBOL\">COBOL</a>, salah satu <a href=\"/wiki/Bahasa_pemrograman_tingkat_tinggi\" title=\"Bahasa pemrograman tingkat tinggi\">bahasa pemrograman modern</a> pertama. Hopper juga dianggap sebagai tokoh yang memopulerkan istilah \"<a class=\"mw-redirect\" href=\"/wiki/Debugging\" title=\"Debugging\">debugging</a>\" untuk memperbaiki gangguan pada komputer (terinspirasi dari <a href=\"/wiki/Ngengat\" title=\"Ngengat\">ngengat</a> yang ditemuinya pada komputernya). Karena banyaknya prestasi dan pangkatnya di angkatan laut, ia dijuluki dengan \"Amazing Grace\".<sup class=\"reference\" id=\"cite_ref-urlCyber_Heroes_of_the_past:_Amazing_Grace_Hopper_6-0\"><a href=\"#cite_note-urlCyber_Heroes_of_the_past:_Amazing_Grace_Hopper-6\">[6]</a></sup><sup class=\"reference\" id=\"cite_ref-urlGrace_Murray_Hopper_7-0\"><a href=\"#cite_note-urlGrace_Murray_Hopper-7\">[7]</a></sup> Kapal penghancur Angkatan Laut Amerika Serikat, <a class=\"new\" href=\"/w/index.php?title=USS_Hopper_(DDG-70)&amp;action=edit&amp;redlink=1\" title=\"USS Hopper (DDG-70) (halaman belum tersedia)\">USS <i>Hopper</i> (DDG-70)</a>, dinamai berdasarkan namanya, begitu juga dengan superkomputer \"Hopper\" <a class=\"new\" href=\"/w/index.php?title=Cray_XE6&amp;action=edit&amp;redlink=1\" title=\"Cray XE6 (halaman belum tersedia)\">Cray XE6</a> di <a class=\"new\" href=\"/w/index.php?title=NERSC&amp;action=edit&amp;redlink=1\" title=\"NERSC (halaman belum tersedia)\">NERSC</a> dan ruang belajar <a class=\"new\" href=\"/w/index.php?title=Universitas_Teknologi_Chalmers&amp;action=edit&amp;redlink=1\" title=\"Universitas Teknologi Chalmers (halaman belum tersedia)\">Universitas Teknologi Chalmers</a>.\n",
       "</p>\n",
       "<meta property=\"mw:PageProp/toc\"/>\n",
       "<h2><span class=\"mw-headline\" id=\"Kehidupan_dan_karier\">Kehidupan dan karier</span><span class=\"mw-editsection\"><span class=\"mw-editsection-bracket\">[</span><a class=\"mw-editsection-visualeditor\" href=\"/w/index.php?title=Grace_Hopper&amp;veaction=edit&amp;section=1\" title=\"Sunting bagian: Kehidupan dan karier\">sunting</a><span class=\"mw-editsection-divider\"> | </span><a href=\"/w/index.php?title=Grace_Hopper&amp;action=edit&amp;section=1\" title=\"Sunting bagian: Kehidupan dan karier\">sunting sumber</a><span class=\"mw-editsection-bracket\">]</span></span></h2>\n",
       "<p>Hopper terlahir dengan nama <b>Grace Brewster Murray</b> di <a class=\"mw-redirect\" href=\"/wiki/New_York_City\" title=\"New York City\">New York City</a>. Ia adalah anak tertua dari tiga bersaudara. Hopper kecil adalah seorang anak yang selalu ingin tahu; saat berusia tujuh tahun, ia memutuskan untuk mengetahui bagaimana sebuah jam alarm bekerja, dan membongkar tujuh buah jam alarm sebelum ibunya memarahinya.<sup class=\"reference\" id=\"cite_ref-8\"><a href=\"#cite_note-8\">[8]</a></sup> Pada usia 16 tahun, ia ditolak masuk <a class=\"new\" href=\"/w/index.php?title=Vassar_College&amp;action=edit&amp;redlink=1\" title=\"Vassar College (halaman belum tersedia)\">Vassar College</a> karena nilai pelajaran bahasa Latinnya terlalu rendah. Ia akhirnya lulus dari Vassar pada tahun 1928 dengan gelar sarjana dalam bidang matematika dan fisika, dan meraih gelar master dari <a href=\"/wiki/Universitas_Yale\" title=\"Universitas Yale\">Universitas Yale</a> pada tahun 1930.\n",
       "</p><p>Pada tahun 1934, ia meraih gelar Ph.D. dalam bidang matematika dari Yale di bawah bimbingan <a class=\"new\" href=\"/w/index.php?title=%C3%98ystein_Ore&amp;action=edit&amp;redlink=1\" title=\"Øystein Ore (halaman belum tersedia)\">Øystein Ore</a>.<sup class=\"reference\" id=\"cite_ref-greenladuke09_9-0\"><a href=\"#cite_note-greenladuke09-9\">[9]</a></sup><sup class=\"reference\" id=\"cite_ref-10\"><a href=\"#cite_note-10\">[10]</a></sup> Disertasinya yang berjudul \"Jenis Baru Kriteria Iredusibilitas\" diterbitkan pada tahun yang sama.<sup class=\"reference\" id=\"cite_ref-11\"><a href=\"#cite_note-11\">[11]</a></sup> Hopper mulai mengajar matematika di Vassar pada 1931, dan diangkat sebagai profesor pada 1941.<sup class=\"reference\" id=\"cite_ref-Ogilvie_12-0\"><a href=\"#cite_note-Ogilvie-12\">[12]</a></sup>\n",
       "</p><p>Pada tahun 1943, saat <a href=\"/wiki/Perang_Dunia_II\" title=\"Perang Dunia II\">Perang Dunia II</a> meletus, Hopper memperoleh cuti dari Vassar dan bergabung dengan Reservasi <a href=\"/wiki/Angkatan_Laut_Amerika_Serikat\" title=\"Angkatan Laut Amerika Serikat\">Angkatan Laut Amerika Serikat</a>, menjadi satu dari banyak perempuan yang menjadi sukarelawan di <a class=\"new\" href=\"/w/index.php?title=WAVES&amp;action=edit&amp;redlink=1\" title=\"WAVES (halaman belum tersedia)\">WAVES</a>. Pada tahun 1949, Hopper bekerja sebagai karyawan di <a class=\"new\" href=\"/w/index.php?title=Eckert-Mauchly_Computer_Corporation&amp;action=edit&amp;redlink=1\" title=\"Eckert-Mauchly Computer Corporation (halaman belum tersedia)\">Eckert-Mauchly Computer Corporation</a>, menjabat sebagai ahli matematika senior dan bergabung dengan tim pengembang <a class=\"new\" href=\"/w/index.php?title=UNIVAC_I&amp;action=edit&amp;redlink=1\" title=\"UNIVAC I (halaman belum tersedia)\">UNIVAC I</a>.<sup class=\"reference\" id=\"cite_ref-Ogilvie_12-1\"><a href=\"#cite_note-Ogilvie-12\">[12]</a></sup> Pada tahun 1952, ia menciptakan sebuah <a href=\"/wiki/Kompilator\" title=\"Kompilator\">kompilator</a> operasional,<sup class=\"reference\" id=\"cite_ref-13\"><a href=\"#cite_note-13\">[13]</a></sup> dan pada 1954 Hopper ditunjuk sebagai direktur pemrograman otomatis perusahaan. Hopper dan departemennya merilis beberapa bahasa pemrograman berbasis kompilator pertama, termasuk <a class=\"new\" href=\"/w/index.php?title=MATH-MATIC&amp;action=edit&amp;redlink=1\" title=\"MATH-MATIC (halaman belum tersedia)\">MATH-MATIC</a> dan <a class=\"new\" href=\"/w/index.php?title=FLOW-MATIC&amp;action=edit&amp;redlink=1\" title=\"FLOW-MATIC (halaman belum tersedia)\">FLOW-MATIC</a>.<sup class=\"reference\" id=\"cite_ref-Ogilvie_12-2\"><a href=\"#cite_note-Ogilvie-12\">[12]</a></sup>\n",
       "</p><p>Pada musim semi 1959, konferensi dua hari yang dikenal dengan Konferensi Bahasa Sistem Data <a class=\"new\" href=\"/w/index.php?title=CODASYL&amp;action=edit&amp;redlink=1\" title=\"CODASYL (halaman belum tersedia)\">CODASYL</a> digelar oleh para ahli komputer, bersama dengan kalangan industri dan pemerintah. Dalam konferensi itu, Hopper menjabat sebagai konsultan teknis, dan ia bersama mantan karyawannya mengembangkan bahasa pemrograman baru yang dikenal dengan <a href=\"/wiki/COBOL\" title=\"COBOL\">COBOL</a>.<sup class=\"reference\" id=\"cite_ref-KWB_14-0\"><a href=\"#cite_note-KWB-14\">[14]</a></sup>\n",
       "</p>\n",
       "<h2><span class=\"mw-headline\" id=\"Pensiun_dan_kematian\">Pensiun dan kematian</span><span class=\"mw-editsection\"><span class=\"mw-editsection-bracket\">[</span><a class=\"mw-editsection-visualeditor\" href=\"/w/index.php?title=Grace_Hopper&amp;veaction=edit&amp;section=2\" title=\"Sunting bagian: Pensiun dan kematian\">sunting</a><span class=\"mw-editsection-divider\"> | </span><a href=\"/w/index.php?title=Grace_Hopper&amp;action=edit&amp;section=2\" title=\"Sunting bagian: Pensiun dan kematian\">sunting sumber</a><span class=\"mw-editsection-bracket\">]</span></span></h2>\n",
       "<div class=\"thumb tright\"><div class=\"thumbinner\" style=\"width:222px;\"><a class=\"image\" href=\"/wiki/Berkas:Grace_Hopper_and_UNIVAC.jpg\"><img alt=\"\" class=\"thumbimage\" data-file-height=\"450\" data-file-width=\"513\" decoding=\"async\" height=\"193\" src=\"//upload.wikimedia.org/wikipedia/commons/thumb/3/37/Grace_Hopper_and_UNIVAC.jpg/220px-Grace_Hopper_and_UNIVAC.jpg\" srcset=\"//upload.wikimedia.org/wikipedia/commons/thumb/3/37/Grace_Hopper_and_UNIVAC.jpg/330px-Grace_Hopper_and_UNIVAC.jpg 1.5x, //upload.wikimedia.org/wikipedia/commons/thumb/3/37/Grace_Hopper_and_UNIVAC.jpg/440px-Grace_Hopper_and_UNIVAC.jpg 2x\" width=\"220\"/></a> <div class=\"thumbcaption\"><div class=\"magnify\"><a class=\"internal\" href=\"/wiki/Berkas:Grace_Hopper_and_UNIVAC.jpg\" title=\"Perbesar\"></a></div>Grace Murray Hopper dengan papan ketik UNIVAC, 1960</div></div></div>\n",
       "<p>Hopper pensiun dari Angkatan Laut pada usia 60 tahun, sesuai dengan peraturan yang berlaku, dengan pangkat <a href=\"/wiki/Komandan\" title=\"Komandan\">komandan</a> pada tahun 1966.<sup class=\"reference\" id=\"cite_ref-urlAttrition/Retirement_15-0\"><a href=\"#cite_note-urlAttrition/Retirement-15\">[15]</a></sup> Ia kemudian dipanggil kembali untuk bertugas pada Agustus 1967 selama enam bulan, dan pensiun kembali pada tahun 1971. Hopper dipromosikan sebagai kapten pada tahun 1973 oleh Laksamana <a class=\"new\" href=\"/w/index.php?title=Elmo_R._Zumwalt,_Jr.&amp;action=edit&amp;redlink=1\" title=\"Elmo R. Zumwalt, Jr. (halaman belum tersedia)\">Elmo R. Zumwalt, Jr.</a><sup class=\"reference\" id=\"cite_ref-navybio_16-0\"><a href=\"#cite_note-navybio-16\">[16]</a></sup>\n",
       "</p><p>Setelah pensiun, Hopper bekerja sebagai konsultan senior di <a href=\"/wiki/Digital_Equipment_Corporation\" title=\"Digital Equipment Corporation\">Digital Equipment Corporation</a>, posisi yang dijabatnya hingga kematiannya pada tahun 1992 di usia 85 tahun. Ia dimakamkan secara militer di <a href=\"/wiki/Pemakaman_Nasional_Arlington\" title=\"Pemakaman Nasional Arlington\">Taman Makam Pahlawan Nasional Arlington</a>.\n",
       "</p>\n",
       "<h2><span class=\"mw-headline\" id=\"Kehidupan_pribadi\">Kehidupan pribadi</span><span class=\"mw-editsection\"><span class=\"mw-editsection-bracket\">[</span><a class=\"mw-editsection-visualeditor\" href=\"/w/index.php?title=Grace_Hopper&amp;veaction=edit&amp;section=3\" title=\"Sunting bagian: Kehidupan pribadi\">sunting</a><span class=\"mw-editsection-divider\"> | </span><a href=\"/w/index.php?title=Grace_Hopper&amp;action=edit&amp;section=3\" title=\"Sunting bagian: Kehidupan pribadi\">sunting sumber</a><span class=\"mw-editsection-bracket\">]</span></span></h2>\n",
       "<p>Hopper menikah dengan seorang profesor <a href=\"/wiki/Universitas_New_York\" title=\"Universitas New York\">Universitas New York</a> bernama Vincent Foster Hopper (1906–1976<sup class=\"reference\" id=\"cite_ref-17\"><a href=\"#cite_note-17\">[17]</a></sup>) dari tahun 1930 hingga perceraian mereka pada 1945.<sup class=\"reference\" id=\"cite_ref-greenladuke09_9-1\"><a href=\"#cite_note-greenladuke09-9\">[9]</a></sup> Setelah itu ia tak pernah menikah lagi dan tetap menggunakan nama belakang Hopper.\n",
       "</p>\n",
       "<h2><span class=\"mw-headline\" id=\"Penghargaan_dan_pengakuan\">Penghargaan dan pengakuan</span><span class=\"mw-editsection\"><span class=\"mw-editsection-bracket\">[</span><a class=\"mw-editsection-visualeditor\" href=\"/w/index.php?title=Grace_Hopper&amp;veaction=edit&amp;section=4\" title=\"Sunting bagian: Penghargaan dan pengakuan\">sunting</a><span class=\"mw-editsection-divider\"> | </span><a href=\"/w/index.php?title=Grace_Hopper&amp;action=edit&amp;section=4\" title=\"Sunting bagian: Penghargaan dan pengakuan\">sunting sumber</a><span class=\"mw-editsection-bracket\">]</span></span></h2>\n",
       "<ul><li>1969: Hopper dianugerahi penghargaan \"computer sciences man of the year\" oleh <a class=\"new\" href=\"/w/index.php?title=Association_of_Information_Technology_Professionals&amp;action=edit&amp;redlink=1\" title=\"Association of Information Technology Professionals (halaman belum tersedia)\">Data Processing Management Association</a>.<sup class=\"reference\" id=\"cite_ref-18\"><a href=\"#cite_note-18\">[18]</a></sup></li>\n",
       "<li>1971: Penghargaan tahunan <a class=\"new\" href=\"/w/index.php?title=Grace_Murray_Hopper_Award&amp;action=edit&amp;redlink=1\" title=\"Grace Murray Hopper Award (halaman belum tersedia)\">Grace Murray Hopper Award for Outstanding Young Computer Professionals</a> didirikan pada 1971 oleh <a href=\"/wiki/Association_for_Computing_Machinery\" title=\"Association for Computing Machinery\">Association for Computing Machinery</a>.</li>\n",
       "<li>1973: Hopper menjadi orang Amerika Serikat pertama dan wanita pertama di dunia yang dianugerahi <a class=\"new\" href=\"/w/index.php?title=DFBCS&amp;action=edit&amp;redlink=1\" title=\"DFBCS (halaman belum tersedia)\">Distinguished Fellow of the British Computer Society</a>.</li>\n",
       "<li>1982: Ia menerima <a class=\"new\" href=\"/w/index.php?title=American_Association_of_University_Women&amp;action=edit&amp;redlink=1\" title=\"American Association of University Women (halaman belum tersedia)\">American Association of University Women</a> Achievement Award.</li>\n",
       "<li>1986: Menerima Defense Distinguished Service Medal.</li>\n",
       "<li>1987: Menjadi penerima <a class=\"mw-redirect\" href=\"/wiki/Computer_History_Museum\" title=\"Computer History Museum\">Computer History Museum</a> Fellow Award.<sup class=\"reference\" id=\"cite_ref-19\"><a href=\"#cite_note-19\">[19]</a></sup></li>\n",
       "<li>1988: Menerima Golden Gavel Award di konvensi <a class=\"new\" href=\"/w/index.php?title=Toastmasters_International&amp;action=edit&amp;redlink=1\" title=\"Toastmasters International (halaman belum tersedia)\">Toastmasters International</a> di Washington, DC.</li>\n",
       "<li>1991: Menerima <a class=\"new\" href=\"/w/index.php?title=National_Medal_of_Technology&amp;action=edit&amp;redlink=1\" title=\"National Medal of Technology (halaman belum tersedia)\">National Medal of Technology</a>.</li>\n",
       "<li>1996: <a class=\"new\" href=\"/w/index.php?title=USS_Hopper_(DDG-70)&amp;action=edit&amp;redlink=1\" title=\"USS Hopper (DDG-70) (halaman belum tersedia)\">USS <i>Hopper</i> (DDG-70)</a> diluncurkan. Dijuluki dengan <i>Amazing Grace</i>, ini adalah satu-satunya kapal militer AS yang dinamai berdasarkan nama wanita.</li>\n",
       "<li>2001: <a class=\"new\" href=\"/w/index.php?title=Eavan_Boland&amp;action=edit&amp;redlink=1\" title=\"Eavan Boland (halaman belum tersedia)\">Eavan Boland</a> menulis sebuah puisi yang didedikasikan untuk Grace Hopper berjudul \"Code\".</li>\n",
       "<li>2009: <a class=\"new\" href=\"/w/index.php?title=National_Energy_Research_Scientific_Computing_Center&amp;action=edit&amp;redlink=1\" title=\"National Energy Research Scientific Computing Center (halaman belum tersedia)\">National Energy Research Scientific Computing Center</a> menamai kapalnya \"Hopper\".<sup class=\"reference\" id=\"cite_ref-20\"><a href=\"#cite_note-20\">[20]</a></sup></li>\n",
       "<li>2013: Tampil di fitur <a href=\"/wiki/Google_Doodle\" title=\"Google Doodle\">Google Doodle</a> pada halaman utama mesin pencari <a href=\"/wiki/Google\" title=\"Google\">Google</a>.</li></ul>\n",
       "<h2><span class=\"mw-headline\" id=\"Obituari\">Obituari</span><span class=\"mw-editsection\"><span class=\"mw-editsection-bracket\">[</span><a class=\"mw-editsection-visualeditor\" href=\"/w/index.php?title=Grace_Hopper&amp;veaction=edit&amp;section=5\" title=\"Sunting bagian: Obituari\">sunting</a><span class=\"mw-editsection-divider\"> | </span><a href=\"/w/index.php?title=Grace_Hopper&amp;action=edit&amp;section=5\" title=\"Sunting bagian: Obituari\">sunting sumber</a><span class=\"mw-editsection-bracket\">]</span></span></h2>\n",
       "<ul><li>Betts, Mitch (<i><a class=\"new\" href=\"/w/index.php?title=Computerworld&amp;action=edit&amp;redlink=1\" title=\"Computerworld (halaman belum tersedia)\">Computerworld</a></i> 26: 14, 1992)</li>\n",
       "<li>Bromberg, Howard (<i><a class=\"new\" href=\"/w/index.php?title=IEEE_Software&amp;action=edit&amp;redlink=1\" title=\"IEEE Software (halaman belum tersedia)\">IEEE Software</a></i> 9: 103–104, 1992)</li>\n",
       "<li>Danca, Richard A. (<i>Federal Computer Week</i> 6: 26–27, 1992)</li>\n",
       "<li>Hancock, Bill (<i>Digital Review</i> 9: 40, 1992)</li>\n",
       "<li>Power, Kevin (<i>Government Computer News</i> 11: 70, 1992)</li>\n",
       "<li><a class=\"new\" href=\"/w/index.php?title=Jean_E._Sammet&amp;action=edit&amp;redlink=1\" title=\"Jean E. Sammet (halaman belum tersedia)\">Sammet, J.E.</a> (<i><a class=\"new\" href=\"/w/index.php?title=Communications_of_the_ACM&amp;action=edit&amp;redlink=1\" title=\"Communications of the ACM (halaman belum tersedia)\">Communications of the ACM</a></i> 35 (4): 128–131, 1992)</li>\n",
       "<li>Weiss, Eric A. (<i><a class=\"new\" href=\"/w/index.php?title=IEEE_Annals_of_the_History_of_Computing&amp;action=edit&amp;redlink=1\" title=\"IEEE Annals of the History of Computing (halaman belum tersedia)\">IEEE Annals of the History of Computing</a></i> 14: 56–58, 1992)</li></ul>\n",
       "<h2><span class=\"mw-headline\" id=\"Lihat_juga\">Lihat juga</span><span class=\"mw-editsection\"><span class=\"mw-editsection-bracket\">[</span><a class=\"mw-editsection-visualeditor\" href=\"/w/index.php?title=Grace_Hopper&amp;veaction=edit&amp;section=6\" title=\"Sunting bagian: Lihat juga\">sunting</a><span class=\"mw-editsection-divider\"> | </span><a href=\"/w/index.php?title=Grace_Hopper&amp;action=edit&amp;section=6\" title=\"Sunting bagian: Lihat juga\">sunting sumber</a><span class=\"mw-editsection-bracket\">]</span></span></h2>\n",
       "<ul><li><a class=\"new\" href=\"/w/index.php?title=Wanita_dalam_komputasi&amp;action=edit&amp;redlink=1\" title=\"Wanita dalam komputasi (halaman belum tersedia)\">Wanita dalam komputasi</a></li>\n",
       "<li><a class=\"new\" href=\"/w/index.php?title=Wanita_di_Angkatan_Laut_Amerika_Serikat&amp;action=edit&amp;redlink=1\" title=\"Wanita di Angkatan Laut Amerika Serikat (halaman belum tersedia)\">Wanita di Angkatan Laut Amerika Serikat</a></li></ul>\n",
       "<h2><span class=\"mw-headline\" id=\"Referensi\">Referensi</span><span class=\"mw-editsection\"><span class=\"mw-editsection-bracket\">[</span><a class=\"mw-editsection-visualeditor\" href=\"/w/index.php?title=Grace_Hopper&amp;veaction=edit&amp;section=7\" title=\"Sunting bagian: Referensi\">sunting</a><span class=\"mw-editsection-divider\"> | </span><a href=\"/w/index.php?title=Grace_Hopper&amp;action=edit&amp;section=7\" title=\"Sunting bagian: Referensi\">sunting sumber</a><span class=\"mw-editsection-bracket\">]</span></span></h2>\n",
       "<style data-mw-deduplicate=\"TemplateStyles:r18833634\">.mw-parser-output .reflist{font-size:90%;margin-bottom:0.5em;list-style-type:decimal}.mw-parser-output .reflist .references{font-size:100%;margin-bottom:0;list-style-type:inherit}.mw-parser-output .reflist-columns-2{column-width:30em}.mw-parser-output .reflist-columns-3{column-width:25em}.mw-parser-output .reflist-columns{margin-top:0.3em}.mw-parser-output .reflist-columns ol{margin-top:0}.mw-parser-output .reflist-columns li{page-break-inside:avoid;break-inside:avoid-column}.mw-parser-output .reflist-upper-alpha{list-style-type:upper-alpha}.mw-parser-output .reflist-upper-roman{list-style-type:upper-roman}.mw-parser-output .reflist-lower-alpha{list-style-type:lower-alpha}.mw-parser-output .reflist-lower-greek{list-style-type:lower-greek}.mw-parser-output .reflist-lower-roman{list-style-type:lower-roman}</style><div class=\"reflist reflist-columns references-column-width reflist-columns-2\" style=\"\">\n",
       "<ol class=\"references\">\n",
       "<li id=\"cite_note-Wexelblat81-1\"><span class=\"mw-cite-backlink\"><b><a href=\"#cite_ref-Wexelblat81_1-0\">^</a></b></span> <span class=\"reference-text\"><cite class=\"citation book\">Richard L. Wexelblat, ed. (1981). <i>History of Programming Languages</i>. New York: <a href=\"/wiki/Academic_Press\" title=\"Academic Press\">Academic Press</a>. <a href=\"/wiki/International_Standard_Book_Number\" title=\"International Standard Book Number\">ISBN</a> <a href=\"/wiki/Istimewa:Sumber_buku/0-12-745040-8\" title=\"Istimewa:Sumber buku/0-12-745040-8\">0-12-745040-8</a>.</cite><span class=\"Z3988\" title=\"ctx_ver=Z39.88-2004&amp;rft_val_fmt=info%3Aofi%2Ffmt%3Akev%3Amtx%3Abook&amp;rft.genre=book&amp;rft.btitle=History+of+Programming+Languages&amp;rft.place=New+York&amp;rft.pub=Academic+Press&amp;rft.date=1981&amp;rft.isbn=0-12-745040-8&amp;rft.au=Richard+L.+Wexelblat%2C+ed.&amp;rfr_id=info%3Asid%2Fid.wikipedia.org%3AGrace+Hopper\"><span style=\"display:none;\"> </span></span><span class=\"citation-comment\" style=\"display:none; color:#33aa33; margin-left:0.3em\">Pemeliharaan CS1: Teks tambahan: authors list (<a href=\"/wiki/Kategori:Pemeliharaan_CS1:_Teks_tambahan:_authors_list\" title=\"Kategori:Pemeliharaan CS1: Teks tambahan: authors list\">link</a>) </span></span>\n",
       "</li>\n",
       "<li id=\"cite_note-Spencer85-2\"><span class=\"mw-cite-backlink\"><b><a href=\"#cite_ref-Spencer85_2-0\">^</a></b></span> <span class=\"reference-text\"><cite class=\"citation book\">Donald D. Spencer (1985). <a class=\"external text\" href=\"https://archive.org/details/computerinformat0000unse_n4p5\" rel=\"nofollow\"><i>Computers and Information Processing</i></a>. C.E. Merrill Publishing Co. <a href=\"/wiki/International_Standard_Book_Number\" title=\"International Standard Book Number\">ISBN</a> <a href=\"/wiki/Istimewa:Sumber_buku/978-0-675-20290-9\" title=\"Istimewa:Sumber buku/978-0-675-20290-9\">978-0-675-20290-9</a>.</cite><span class=\"Z3988\" title=\"ctx_ver=Z39.88-2004&amp;rft_val_fmt=info%3Aofi%2Ffmt%3Akev%3Amtx%3Abook&amp;rft.genre=book&amp;rft.btitle=Computers+and+Information+Processing&amp;rft.pub=C.E.+Merrill+Publishing+Co&amp;rft.date=1985&amp;rft.isbn=978-0-675-20290-9&amp;rft.au=Donald+D.+Spencer&amp;rft_id=https%3A%2F%2Farchive.org%2Fdetails%2Fcomputerinformat0000unse_n4p5&amp;rfr_id=info%3Asid%2Fid.wikipedia.org%3AGrace+Hopper\"><span style=\"display:none;\"> </span></span></span>\n",
       "</li>\n",
       "<li id=\"cite_note-Laplante01-3\"><span class=\"mw-cite-backlink\"><b><a href=\"#cite_ref-Laplante01_3-0\">^</a></b></span> <span class=\"reference-text\"><cite class=\"citation book\">Phillip A. Laplante (2001). <i>Dictionary of computer science, engineering, and technology</i>. <a href=\"/wiki/CRC_Press\" title=\"CRC Press\">CRC Press</a>. <a href=\"/wiki/International_Standard_Book_Number\" title=\"International Standard Book Number\">ISBN</a> <a href=\"/wiki/Istimewa:Sumber_buku/978-0-8493-2691-2\" title=\"Istimewa:Sumber buku/978-0-8493-2691-2\">978-0-8493-2691-2</a>.</cite><span class=\"Z3988\" title=\"ctx_ver=Z39.88-2004&amp;rft_val_fmt=info%3Aofi%2Ffmt%3Akev%3Amtx%3Abook&amp;rft.genre=book&amp;rft.btitle=Dictionary+of+computer+science%2C+engineering%2C+and+technology&amp;rft.pub=CRC+Press&amp;rft.date=2001&amp;rft.isbn=978-0-8493-2691-2&amp;rft.au=Phillip+A.+Laplante&amp;rfr_id=info%3Asid%2Fid.wikipedia.org%3AGrace+Hopper\"><span style=\"display:none;\"> </span></span></span>\n",
       "</li>\n",
       "<li id=\"cite_note-Bunch93-4\"><span class=\"mw-cite-backlink\"><b><a href=\"#cite_ref-Bunch93_4-0\">^</a></b></span> <span class=\"reference-text\"><cite class=\"citation book\">Bryan H. Bunch, Alexander Hellemans (1993). <a class=\"external text\" href=\"https://archive.org/details/timetablesoftech00brya\" rel=\"nofollow\"><i>The Timetables of Technology: A Chronology of the Most Important People and Events in the History of Technology</i></a>. <a href=\"/wiki/Simon_%26_Schuster\" title=\"Simon &amp; Schuster\">Simon &amp; Schuster</a>. <a href=\"/wiki/International_Standard_Book_Number\" title=\"International Standard Book Number\">ISBN</a> <a href=\"/wiki/Istimewa:Sumber_buku/978-0-671-76918-5\" title=\"Istimewa:Sumber buku/978-0-671-76918-5\">978-0-671-76918-5</a>.</cite><span class=\"Z3988\" title=\"ctx_ver=Z39.88-2004&amp;rft_val_fmt=info%3Aofi%2Ffmt%3Akev%3Amtx%3Abook&amp;rft.genre=book&amp;rft.btitle=The+Timetables+of+Technology%3A+A+Chronology+of+the+Most+Important+People+and+Events+in+the+History+of+Technology&amp;rft.pub=Simon+%26+Schuster&amp;rft.date=1993&amp;rft.isbn=978-0-671-76918-5&amp;rft.au=Bryan+H.+Bunch%2C+Alexander+Hellemans&amp;rft_id=https%3A%2F%2Farchive.org%2Fdetails%2Ftimetablesoftech00brya&amp;rfr_id=info%3Asid%2Fid.wikipedia.org%3AGrace+Hopper\"><span style=\"display:none;\"> </span></span></span>\n",
       "</li>\n",
       "<li id=\"cite_note-Booss03-5\"><span class=\"mw-cite-backlink\"><b><a href=\"#cite_ref-Booss03_5-0\">^</a></b></span> <span class=\"reference-text\"><cite class=\"citation book\">Bernhelm Booss-Bavnbek, Jens Høyrup (2003). <i>Mathematics and War</i>. <a class=\"new\" href=\"/w/index.php?title=Birkh%C3%A4user_Verlag&amp;action=edit&amp;redlink=1\" title=\"Birkhäuser Verlag (halaman belum tersedia)\">Birkhäuser Verlag</a>. <a href=\"/wiki/International_Standard_Book_Number\" title=\"International Standard Book Number\">ISBN</a> <a href=\"/wiki/Istimewa:Sumber_buku/978-3-7643-1634-1\" title=\"Istimewa:Sumber buku/978-3-7643-1634-1\">978-3-7643-1634-1</a>.</cite><span class=\"Z3988\" title=\"ctx_ver=Z39.88-2004&amp;rft_val_fmt=info%3Aofi%2Ffmt%3Akev%3Amtx%3Abook&amp;rft.genre=book&amp;rft.btitle=Mathematics+and+War&amp;rft.pub=Birkh%C3%A4user+Verlag&amp;rft.date=2003&amp;rft.isbn=978-3-7643-1634-1&amp;rft.au=Bernhelm+Booss-Bavnbek%2C+Jens+H%C3%B8yrup&amp;rfr_id=info%3Asid%2Fid.wikipedia.org%3AGrace+Hopper\"><span style=\"display:none;\"> </span></span></span>\n",
       "</li>\n",
       "<li id=\"cite_note-urlCyber_Heroes_of_the_past:_Amazing_Grace_Hopper-6\"><span class=\"mw-cite-backlink\"><b><a href=\"#cite_ref-urlCyber_Heroes_of_the_past:_Amazing_Grace_Hopper_6-0\">^</a></b></span> <span class=\"reference-text\"><cite class=\"citation web\"><a class=\"external text\" href=\"http://wvegter.hivemind.net/abacus/CyberHeroes/Hopper.htm\" rel=\"nofollow\">\"Cyber Heroes of the past: \"Amazing Grace\" Hopper\"</a><span class=\"reference-accessdate\">. Diakses tanggal <span class=\"nowrap\">December 12,</span> 2012</span>.</cite><span class=\"Z3988\" title=\"ctx_ver=Z39.88-2004&amp;rft_val_fmt=info%3Aofi%2Ffmt%3Akev%3Amtx%3Abook&amp;rft.genre=unknown&amp;rft.btitle=Cyber+Heroes+of+the+past%3A+%22Amazing+Grace%22+Hopper&amp;rft_id=http%3A%2F%2Fwvegter.hivemind.net%2Fabacus%2FCyberHeroes%2FHopper.htm&amp;rfr_id=info%3Asid%2Fid.wikipedia.org%3AGrace+Hopper\"><span style=\"display:none;\"> </span></span></span>\n",
       "</li>\n",
       "<li id=\"cite_note-urlGrace_Murray_Hopper-7\"><span class=\"mw-cite-backlink\"><b><a href=\"#cite_ref-urlGrace_Murray_Hopper_7-0\">^</a></b></span> <span class=\"reference-text\"><cite class=\"citation web\"><a class=\"external text\" href=\"http://www.agnesscott.edu/lriddle/women/hopper.htm\" rel=\"nofollow\">\"Grace Murray Hopper\"</a><span class=\"reference-accessdate\">. Diakses tanggal <span class=\"nowrap\">December 12,</span> 2012</span>.</cite><span class=\"Z3988\" title=\"ctx_ver=Z39.88-2004&amp;rft_val_fmt=info%3Aofi%2Ffmt%3Akev%3Amtx%3Abook&amp;rft.genre=unknown&amp;rft.btitle=Grace+Murray+Hopper&amp;rft_id=http%3A%2F%2Fwww.agnesscott.edu%2Flriddle%2Fwomen%2Fhopper.htm&amp;rfr_id=info%3Asid%2Fid.wikipedia.org%3AGrace+Hopper\"><span style=\"display:none;\"> </span></span></span>\n",
       "</li>\n",
       "<li id=\"cite_note-8\"><span class=\"mw-cite-backlink\"><b><a href=\"#cite_ref-8\">^</a></b></span> <span class=\"reference-text\"><cite class=\"citation journal\">Dickason, Elizabeth (April 1992). <a class=\"external text\" href=\"http://inventors.about.com/library/inventors/bl_Grace_Murray_Hopper.htm\" rel=\"nofollow\">\"Looking Back: Grace Murray Hopper's Younger Years\"</a>. <i>Chips</i>.</cite><span class=\"Z3988\" title=\"ctx_ver=Z39.88-2004&amp;rft_val_fmt=info%3Aofi%2Ffmt%3Akev%3Amtx%3Ajournal&amp;rft.genre=article&amp;rft.jtitle=Chips&amp;rft.atitle=Looking+Back%3A+Grace+Murray+Hopper%27s+Younger+Years&amp;rft.date=1992-04&amp;rft.aulast=Dickason&amp;rft.aufirst=Elizabeth&amp;rft_id=http%3A%2F%2Finventors.about.com%2Flibrary%2Finventors%2Fbl_Grace_Murray_Hopper.htm&amp;rfr_id=info%3Asid%2Fid.wikipedia.org%3AGrace+Hopper\"><span style=\"display:none;\"> </span></span><sup class=\"noprint Inline-Template\"><span style=\"white-space: nowrap;\">[<i><a href=\"/wiki/Wikipedia:Pranala_mati\" title=\"Wikipedia:Pranala mati\"><span title=\" pranala nonaktif sejak Januari 2023\">pranala nonaktif permanen</span></a></i>]</span></sup></span>\n",
       "</li>\n",
       "<li id=\"cite_note-greenladuke09-9\"><span class=\"mw-cite-backlink\">^ <a href=\"#cite_ref-greenladuke09_9-0\"><sup><i><b>a</b></i></sup></a> <a href=\"#cite_ref-greenladuke09_9-1\"><sup><i><b>b</b></i></sup></a></span> <span class=\"reference-text\"><cite class=\"citation book\">Green, Judy and Jeanne LaDuke (2009). <a class=\"external text\" href=\"https://archive.org/details/pioneeringwomeni0000gree\" rel=\"nofollow\"><i>Pioneering Women in American Mathematics: The Pre-1940 PhD's</i></a>. <a class=\"new\" href=\"/w/index.php?title=Providence,_R.I.&amp;action=edit&amp;redlink=1\" title=\"Providence, R.I. (halaman belum tersedia)\">Providence, R.I.</a>: <a href=\"/wiki/American_Mathematical_Society\" title=\"American Mathematical Society\">American Mathematical Society</a>. <a href=\"/wiki/International_Standard_Book_Number\" title=\"International Standard Book Number\">ISBN</a> <a href=\"/wiki/Istimewa:Sumber_buku/978-0821843765\" title=\"Istimewa:Sumber buku/978-0821843765\">978-0821843765</a>.</cite><span class=\"Z3988\" title=\"ctx_ver=Z39.88-2004&amp;rft_val_fmt=info%3Aofi%2Ffmt%3Akev%3Amtx%3Abook&amp;rft.genre=book&amp;rft.btitle=Pioneering+Women+in+American+Mathematics%3A+The+Pre-1940+PhD%27s&amp;rft.place=Providence%2C+R.I.&amp;rft.pub=American+Mathematical+Society&amp;rft.date=2009&amp;rft.isbn=978-0821843765&amp;rft.aulast=Green&amp;rft.aufirst=Judy+and+Jeanne+LaDuke&amp;rft_id=https%3A%2F%2Farchive.org%2Fdetails%2Fpioneeringwomeni0000gree&amp;rfr_id=info%3Asid%2Fid.wikipedia.org%3AGrace+Hopper\"><span style=\"display:none;\"> </span></span></span>\n",
       "</li>\n",
       "<li id=\"cite_note-10\"><span class=\"mw-cite-backlink\"><b><a href=\"#cite_ref-10\">^</a></b></span> <span class=\"reference-text\">Though some books, including Kurt Beyer's <i>Grace Hopper and the Invention of the Information Age</i>, reported that Hopper was the first woman to earn a Yale PhD in mathematics, the first of ten women prior to 1934 was Charlotte Cynthia Barnum (1860-1934). <cite class=\"citation news\">Murray, Margaret A. M. (May/June 2010). \"The first lady of math?\". <i>Yale Alumni Magazine</i>. <b>73</b> (5). hlm. 5–6. <a href=\"/wiki/International_Standard_Serial_Number\" title=\"International Standard Serial Number\">ISSN</a> <a class=\"external text\" href=\"//www.worldcat.org/issn/0044-0051\" rel=\"nofollow\">0044-0051</a>.</cite><span class=\"Z3988\" title=\"ctx_ver=Z39.88-2004&amp;rft_val_fmt=info%3Aofi%2Ffmt%3Akev%3Amtx%3Ajournal&amp;rft.genre=article&amp;rft.jtitle=Yale+Alumni+Magazine&amp;rft.atitle=The+first+lady+of+math%3F&amp;rft.chron=May%2FJune+2010&amp;rft.volume=73&amp;rft.issue=5&amp;rft.pages=5-6&amp;rft.issn=0044-0051&amp;rft.aulast=Murray&amp;rft.aufirst=Margaret+A.+M.&amp;rfr_id=info%3Asid%2Fid.wikipedia.org%3AGrace+Hopper\"><span style=\"display:none;\"> </span></span> <span class=\"error citation-comment\" style=\"display:none;font-size:100%\">Periksa nilai tanggal di: <code style=\"color:inherit; border:inherit; padding:inherit;\">|publication-date=</code> (<a href=\"/wiki/Bantuan:Galat_CS1#bad_date\" title=\"Bantuan:Galat CS1\">bantuan</a>)</span></span>\n",
       "</li>\n",
       "<li id=\"cite_note-11\"><span class=\"mw-cite-backlink\"><b><a href=\"#cite_ref-11\">^</a></b></span> <span class=\"reference-text\">G. M. Hopper and O. Ore, \"New types of irreducibility criteria,\" <i>Bull. Amer. Math. Soc.</i> 40 (1934) 216</span>\n",
       "</li>\n",
       "<li id=\"cite_note-Ogilvie-12\"><span class=\"mw-cite-backlink\">^ <a href=\"#cite_ref-Ogilvie_12-0\"><sup><i><b>a</b></i></sup></a> <a href=\"#cite_ref-Ogilvie_12-1\"><sup><i><b>b</b></i></sup></a> <a href=\"#cite_ref-Ogilvie_12-2\"><sup><i><b>c</b></i></sup></a></span> <span class=\"reference-text\"><cite class=\"citation book\">Ogilvie, Marilyn (2000). <a class=\"external text\" href=\"http://books.google.ca/books?id=QmfyK0QtsRAC&amp;q=hopper#v=snippet&amp;q=hopper&amp;f=false\" rel=\"nofollow\"><i>The biographical dictionary of women in science : pioneering lives from ancient times to the mid-20th century</i></a>. New York: Routledge. <a href=\"/wiki/International_Standard_Book_Number\" title=\"International Standard Book Number\">ISBN</a> <a href=\"/wiki/Istimewa:Sumber_buku/0-415-92040-X\" title=\"Istimewa:Sumber buku/0-415-92040-X\">0-415-92040-X</a>.</cite><span class=\"Z3988\" title=\"ctx_ver=Z39.88-2004&amp;rft_val_fmt=info%3Aofi%2Ffmt%3Akev%3Amtx%3Abook&amp;rft.genre=book&amp;rft.btitle=The+biographical+dictionary+of+women+in+science+%3A+pioneering+lives+from+ancient+times+to+the+mid-20th+century.&amp;rft.place=New+York&amp;rft.pub=Routledge&amp;rft.date=2000&amp;rft.isbn=0-415-92040-X&amp;rft.aulast=Ogilvie&amp;rft.aufirst=Marilyn&amp;rft_id=http%3A%2F%2Fbooks.google.ca%2Fbooks%3Fid%3DQmfyK0QtsRAC%26q%3Dhopper%23v%3Dsnippet%26q%3Dhopper%26f%3Dfalse&amp;rfr_id=info%3Asid%2Fid.wikipedia.org%3AGrace+Hopper\"><span style=\"display:none;\"> </span></span> <span class=\"error citation-comment\" style=\"display:none;font-size:100%\">Parameter <code style=\"color:inherit; border:inherit; padding:inherit;\">|coauthors=</code> yang tidak diketahui mengabaikan (<code style=\"color:inherit; border:inherit; padding:inherit;\">|author=</code> yang disarankan) (<a href=\"/wiki/Bantuan:Galat_CS1#parameter_ignored_suggest\" title=\"Bantuan:Galat CS1\">bantuan</a>)</span><a class=\"new\" href=\"/w/index.php?title=Templat:Check_cite&amp;action=edit&amp;redlink=1\" title=\"Templat:Check cite (halaman belum tersedia)\">Templat:Check cite</a></span>\n",
       "</li>\n",
       "<li id=\"cite_note-13\"><span class=\"mw-cite-backlink\"><b><a href=\"#cite_ref-13\">^</a></b></span> <span class=\"reference-text\"><cite class=\"citation web\"><a class=\"external text\" href=\"http://www.cs.yale.edu/homes/tap/Files/hopper-wit.html\" rel=\"nofollow\">\"The Wit and Wisdom of Grace Hopper\"</a>.</cite><span class=\"Z3988\" title=\"ctx_ver=Z39.88-2004&amp;rft_val_fmt=info%3Aofi%2Ffmt%3Akev%3Amtx%3Abook&amp;rft.genre=unknown&amp;rft.btitle=The+Wit+and+Wisdom+of+Grace+Hopper&amp;rft_id=http%3A%2F%2Fwww.cs.yale.edu%2Fhomes%2Ftap%2FFiles%2Fhopper-wit.html&amp;rfr_id=info%3Asid%2Fid.wikipedia.org%3AGrace+Hopper\"><span style=\"display:none;\"> </span></span></span>\n",
       "</li>\n",
       "<li id=\"cite_note-KWB-14\"><span class=\"mw-cite-backlink\"><b><a href=\"#cite_ref-KWB_14-0\">^</a></b></span> <span class=\"reference-text\"><cite class=\"citation book\">Beyer, Kurt W. (2009). <i>Grace Hopper and the Invention of the Information Age</i>. <a class=\"new\" href=\"/w/index.php?title=Cambridge,_MA&amp;action=edit&amp;redlink=1\" title=\"Cambridge, MA (halaman belum tersedia)\">Cambridge, MA</a>: <a class=\"new\" href=\"/w/index.php?title=The_MIT_Press&amp;action=edit&amp;redlink=1\" title=\"The MIT Press (halaman belum tersedia)\">The MIT Press</a>. <a href=\"/wiki/International_Standard_Book_Number\" title=\"International Standard Book Number\">ISBN</a> <a href=\"/wiki/Istimewa:Sumber_buku/978-0-262-01310-9\" title=\"Istimewa:Sumber buku/978-0-262-01310-9\">978-0-262-01310-9</a>.</cite><span class=\"Z3988\" title=\"ctx_ver=Z39.88-2004&amp;rft_val_fmt=info%3Aofi%2Ffmt%3Akev%3Amtx%3Abook&amp;rft.genre=book&amp;rft.btitle=Grace+Hopper+and+the+Invention+of+the+Information+Age&amp;rft.place=Cambridge%2C+MA&amp;rft.pub=The+MIT+Press&amp;rft.date=2009&amp;rft.isbn=978-0-262-01310-9&amp;rft.aulast=Beyer&amp;rft.aufirst=Kurt+W.&amp;rfr_id=info%3Asid%2Fid.wikipedia.org%3AGrace+Hopper\"><span style=\"display:none;\"> </span></span></span>\n",
       "</li>\n",
       "<li id=\"cite_note-urlAttrition/Retirement-15\"><span class=\"mw-cite-backlink\"><b><a href=\"#cite_ref-urlAttrition/Retirement_15-0\">^</a></b></span> <span class=\"reference-text\"><cite class=\"citation web\"><a class=\"external text\" href=\"https://web.archive.org/web/20171019021126/http://www.public.navy.mil/BUPERS-NPC/CAREER/RESERVEPERSONNELMGMT/OFFICERS/Pages/AttritionRetirement.aspx\" rel=\"nofollow\">\"Attrition/Retirement\"</a>. Diarsipkan dari <a class=\"external text\" href=\"http://www.public.navy.mil/BUPERS-NPC/CAREER/RESERVEPERSONNELMGMT/OFFICERS/Pages/AttritionRetirement.aspx\" rel=\"nofollow\">versi asli</a> tanggal 2017-10-19<span class=\"reference-accessdate\">. Diakses tanggal <span class=\"nowrap\">April 29,</span> 2013</span>.</cite><span class=\"Z3988\" title=\"ctx_ver=Z39.88-2004&amp;rft_val_fmt=info%3Aofi%2Ffmt%3Akev%3Amtx%3Abook&amp;rft.genre=unknown&amp;rft.btitle=Attrition%2FRetirement&amp;rft_id=http%3A%2F%2Fwww.public.navy.mil%2FBUPERS-NPC%2FCAREER%2FRESERVEPERSONNELMGMT%2FOFFICERS%2FPages%2FAttritionRetirement.aspx&amp;rfr_id=info%3Asid%2Fid.wikipedia.org%3AGrace+Hopper\"><span style=\"display:none;\"> </span></span></span>\n",
       "</li>\n",
       "<li id=\"cite_note-navybio-16\"><span class=\"mw-cite-backlink\"><b><a href=\"#cite_ref-navybio_16-0\">^</a></b></span> <span class=\"reference-text\"><cite class=\"citation web\"><a class=\"external text\" href=\"https://www.webcitation.org/6G0JOYsC1?url=http://www.history.navy.mil/bios/hopper_grace.htm\" rel=\"nofollow\">\"Rear Admiral Grace Murray Hopper, USN\"</a>. <i>Biographies in Naval History</i>. <a class=\"mw-redirect\" href=\"/wiki/United_States_Navy\" title=\"United States Navy\">United States Navy</a> <a class=\"new\" href=\"/w/index.php?title=Naval_Historical_Center&amp;action=edit&amp;redlink=1\" title=\"Naval Historical Center (halaman belum tersedia)\">Naval Historical Center</a>. Diarsipkan dari <a class=\"external text\" href=\"http://www.history.navy.mil/bios/hopper_grace.htm\" rel=\"nofollow\">versi asli</a> tanggal 2013-04-19<span class=\"reference-accessdate\">. Diakses tanggal <span class=\"nowrap\">May 28,</span> 2007</span>.</cite><span class=\"Z3988\" title=\"ctx_ver=Z39.88-2004&amp;rft_val_fmt=info%3Aofi%2Ffmt%3Akev%3Amtx%3Ajournal&amp;rft.genre=unknown&amp;rft.jtitle=Biographies+in+Naval+History&amp;rft.atitle=Rear+Admiral+Grace+Murray+Hopper%2C+USN&amp;rft_id=http%3A%2F%2Fwww.history.navy.mil%2Fbios%2Fhopper_grace.htm&amp;rfr_id=info%3Asid%2Fid.wikipedia.org%3AGrace+Hopper\"><span style=\"display:none;\"> </span></span></span>\n",
       "</li>\n",
       "<li id=\"cite_note-17\"><span class=\"mw-cite-backlink\"><b><a href=\"#cite_ref-17\">^</a></b></span> <span class=\"reference-text\"><cite class=\"citation news\">\"Prof. Vincent Hopper of N.Y.U., Literature Teacher, Dead at 69\". <i>New York Times</i>. January 21, 1976.</cite><span class=\"Z3988\" title=\"ctx_ver=Z39.88-2004&amp;rft_val_fmt=info%3Aofi%2Ffmt%3Akev%3Amtx%3Ajournal&amp;rft.genre=article&amp;rft.jtitle=New+York+Times&amp;rft.atitle=Prof.+Vincent+Hopper+of+N.Y.U.%2C+Literature+Teacher%2C+Dead+at+69&amp;rft.date=1976-01-21&amp;rfr_id=info%3Asid%2Fid.wikipedia.org%3AGrace+Hopper\"><span style=\"display:none;\"> </span></span></span>\n",
       "</li>\n",
       "<li id=\"cite_note-18\"><span class=\"mw-cite-backlink\"><b><a href=\"#cite_ref-18\">^</a></b></span> <span class=\"reference-text\">Thomas J. Misa, ed., Gender Codes: Why Women Are Leaving Computing (Wiley/IEEE Computer Society Press, 2010), pp. 63, 117.</span>\n",
       "</li>\n",
       "<li id=\"cite_note-19\"><span class=\"mw-cite-backlink\"><b><a href=\"#cite_ref-19\">^</a></b></span> <span class=\"reference-text\"><cite class=\"citation web\"><a class=\"external text\" href=\"https://web.archive.org/web/20050301093117/http://www.computerhistory.org/events/hall_of_fellows/hopper/\" rel=\"nofollow\">\"Computer History Museum Fellow Award Recipient\"</a>. Diarsipkan dari <a class=\"external text\" href=\"http://www.computerhistory.org/events/hall_of_fellows/hopper/\" rel=\"nofollow\">versi asli</a> tanggal 2005-03-01<span class=\"reference-accessdate\">. Diakses tanggal <span class=\"nowrap\">2013-12-08</span></span>.</cite><span class=\"Z3988\" title=\"ctx_ver=Z39.88-2004&amp;rft_val_fmt=info%3Aofi%2Ffmt%3Akev%3Amtx%3Abook&amp;rft.genre=unknown&amp;rft.btitle=Computer+History+Museum+Fellow+Award+Recipient&amp;rft_id=http%3A%2F%2Fwww.computerhistory.org%2Fevents%2Fhall_of_fellows%2Fhopper%2F&amp;rfr_id=info%3Asid%2Fid.wikipedia.org%3AGrace+Hopper\"><span style=\"display:none;\"> </span></span></span>\n",
       "</li>\n",
       "<li id=\"cite_note-20\"><span class=\"mw-cite-backlink\"><b><a href=\"#cite_ref-20\">^</a></b></span> <span class=\"reference-text\"><cite class=\"citation web\"><a class=\"external text\" href=\"https://web.archive.org/web/20110325155710/http://www.nersc.gov/nusers/systems/hopper/\" rel=\"nofollow\">\"Hopper Home Page\"</a>. <i>nersc.gov</i>. Diarsipkan dari <a class=\"external text\" href=\"http://www.nersc.gov/nusers/systems/hopper/\" rel=\"nofollow\">versi asli</a> tanggal 2011-03-25<span class=\"reference-accessdate\">. Diakses tanggal <span class=\"nowrap\">2013-12-08</span></span>.</cite><span class=\"Z3988\" title=\"ctx_ver=Z39.88-2004&amp;rft_val_fmt=info%3Aofi%2Ffmt%3Akev%3Amtx%3Ajournal&amp;rft.genre=unknown&amp;rft.jtitle=nersc.gov&amp;rft.atitle=Hopper+Home+Page&amp;rft_id=http%3A%2F%2Fwww.nersc.gov%2Fnusers%2Fsystems%2Fhopper%2F&amp;rfr_id=info%3Asid%2Fid.wikipedia.org%3AGrace+Hopper\"><span style=\"display:none;\"> </span></span></span>\n",
       "</li>\n",
       "</ol></div>\n",
       "<h2><span class=\"mw-headline\" id=\"Bacaan_lebih_lanjut\">Bacaan lebih lanjut</span><span class=\"mw-editsection\"><span class=\"mw-editsection-bracket\">[</span><a class=\"mw-editsection-visualeditor\" href=\"/w/index.php?title=Grace_Hopper&amp;veaction=edit&amp;section=8\" title=\"Sunting bagian: Bacaan lebih lanjut\">sunting</a><span class=\"mw-editsection-divider\"> | </span><a href=\"/w/index.php?title=Grace_Hopper&amp;action=edit&amp;section=8\" title=\"Sunting bagian: Bacaan lebih lanjut\">sunting sumber</a><span class=\"mw-editsection-bracket\">]</span></span></h2>\n",
       "<ul><li><cite class=\"citation book\">Beyer, Kurt W. (September 30, 2009). <i>Grace Hopper and the Invention of the Information Age</i> (edisi ke-1st). <a href=\"/wiki/Cambridge,_Massachusetts\" title=\"Cambridge, Massachusetts\">Cambridge, Massachusetts</a>: <a class=\"new\" href=\"/w/index.php?title=The_MIT_Press&amp;action=edit&amp;redlink=1\" title=\"The MIT Press (halaman belum tersedia)\">The MIT Press</a>. <a href=\"/wiki/International_Standard_Book_Number\" title=\"International Standard Book Number\">ISBN</a> <a href=\"/wiki/Istimewa:Sumber_buku/978-0-262-01310-9\" title=\"Istimewa:Sumber buku/978-0-262-01310-9\">978-0-262-01310-9</a>.</cite><span class=\"Z3988\" title=\"ctx_ver=Z39.88-2004&amp;rft_val_fmt=info%3Aofi%2Ffmt%3Akev%3Amtx%3Abook&amp;rft.genre=book&amp;rft.btitle=Grace+Hopper+and+the+Invention+of+the+Information+Age&amp;rft.place=Cambridge%2C+Massachusetts&amp;rft.edition=1st&amp;rft.pub=The+MIT+Press&amp;rft.date=2009-09-30&amp;rft.isbn=978-0-262-01310-9&amp;rft.aulast=Beyer&amp;rft.aufirst=Kurt+W.&amp;rfr_id=info%3Asid%2Fid.wikipedia.org%3AGrace+Hopper\"><span style=\"display:none;\"> </span></span> <span class=\"error citation-comment\" style=\"display:none;font-size:100%\">Parameter <code style=\"color:inherit; border:inherit; padding:inherit;\">|access-date=</code> membutuhkan <code style=\"color:inherit; border:inherit; padding:inherit;\">|url=</code> (<a href=\"/wiki/Bantuan:Galat_CS1#accessdate_missing_url\" title=\"Bantuan:Galat CS1\">bantuan</a>)</span></li>\n",
       "<li><cite class=\"citation book\">Williams, Kathleen Broome (November 15, 2004). <i>Grace Hopper: Admiral of the Cyber Sea</i> (edisi ke-1st). <a href=\"/wiki/Annapolis,_Maryland\" title=\"Annapolis, Maryland\">Annapolis, Maryland</a>: <a class=\"new\" href=\"/w/index.php?title=Naval_Institute_Press&amp;action=edit&amp;redlink=1\" title=\"Naval Institute Press (halaman belum tersedia)\">Naval Institute Press</a>. <a href=\"/wiki/International_Standard_Book_Number\" title=\"International Standard Book Number\">ISBN</a> <a href=\"/wiki/Istimewa:Sumber_buku/978-1-55750-952-9\" title=\"Istimewa:Sumber buku/978-1-55750-952-9\">978-1-55750-952-9</a>.</cite><span class=\"Z3988\" title=\"ctx_ver=Z39.88-2004&amp;rft_val_fmt=info%3Aofi%2Ffmt%3Akev%3Amtx%3Abook&amp;rft.genre=book&amp;rft.btitle=Grace+Hopper%3A+Admiral+of+the+Cyber+Sea&amp;rft.place=Annapolis%2C+Maryland&amp;rft.edition=1st&amp;rft.pub=Naval+Institute+Press&amp;rft.date=2004-11-15&amp;rft.isbn=978-1-55750-952-9&amp;rft.aulast=Williams&amp;rft.aufirst=Kathleen+Broome&amp;rfr_id=info%3Asid%2Fid.wikipedia.org%3AGrace+Hopper\"><span style=\"display:none;\"> </span></span> <span class=\"error citation-comment\" style=\"display:none;font-size:100%\">Parameter <code style=\"color:inherit; border:inherit; padding:inherit;\">|access-date=</code> membutuhkan <code style=\"color:inherit; border:inherit; padding:inherit;\">|url=</code> (<a href=\"/wiki/Bantuan:Galat_CS1#accessdate_missing_url\" title=\"Bantuan:Galat CS1\">bantuan</a>)</span></li>\n",
       "<li><cite class=\"citation book\"><a class=\"new\" href=\"/w/index.php?title=Christy_Marx&amp;action=edit&amp;redlink=1\" title=\"Christy Marx (halaman belum tersedia)\">Marx, Christy</a> (2003). <i>Grace Hopper: the first woman to program the first computer in the United States</i>. Women hall of famers in mathematics and science (edisi ke-1st). New York City: Rosen Publishing Group. <a href=\"/wiki/International_Standard_Book_Number\" title=\"International Standard Book Number\">ISBN</a> <a href=\"/wiki/Istimewa:Sumber_buku/978-0-8239-3877-3\" title=\"Istimewa:Sumber buku/978-0-8239-3877-3\">978-0-8239-3877-3</a>.</cite><span class=\"Z3988\" title=\"ctx_ver=Z39.88-2004&amp;rft_val_fmt=info%3Aofi%2Ffmt%3Akev%3Amtx%3Abook&amp;rft.genre=book&amp;rft.btitle=Grace+Hopper%3A+the+first+woman+to+program+the+first+computer+in+the+United+States&amp;rft.place=New+York+City&amp;rft.series=Women+hall+of+famers+in+mathematics+and+science&amp;rft.edition=1st&amp;rft.pub=Rosen+Publishing+Group&amp;rft.date=2003&amp;rft.isbn=978-0-8239-3877-3&amp;rft.aulast=Marx&amp;rft.aufirst=Christy&amp;rfr_id=info%3Asid%2Fid.wikipedia.org%3AGrace+Hopper\"><span style=\"display:none;\"> </span></span> <span class=\"error citation-comment\" style=\"display:none;font-size:100%\">Parameter <code style=\"color:inherit; border:inherit; padding:inherit;\">|month=</code> yang tidak diketahui akan diabaikan (<a href=\"/wiki/Bantuan:Galat_CS1#parameter_ignored\" title=\"Bantuan:Galat CS1\">bantuan</a>); </span><span class=\"error citation-comment\" style=\"display:none;font-size:100%\">Parameter <code style=\"color:inherit; border:inherit; padding:inherit;\">|access-date=</code> membutuhkan <code style=\"color:inherit; border:inherit; padding:inherit;\">|url=</code> (<a href=\"/wiki/Bantuan:Galat_CS1#accessdate_missing_url\" title=\"Bantuan:Galat CS1\">bantuan</a>)</span></li>\n",
       "<li><cite class=\"citation book\">Williams, Kathleen Broome (2001). <a class=\"external text\" href=\"https://archive.org/details/improbablewarrio0000will\" rel=\"nofollow\"><i>Improbable Warriors: Women Scientists and the U.S. Navy in World War II</i></a>. <a href=\"/wiki/Annapolis,_Maryland\" title=\"Annapolis, Maryland\">Annapolis, Maryland</a>: <a class=\"new\" href=\"/w/index.php?title=Naval_Institute_Press&amp;action=edit&amp;redlink=1\" title=\"Naval Institute Press (halaman belum tersedia)\">Naval Institute Press</a>. <a href=\"/wiki/International_Standard_Book_Number\" title=\"International Standard Book Number\">ISBN</a> <a href=\"/wiki/Istimewa:Sumber_buku/978-1-55750-961-1\" title=\"Istimewa:Sumber buku/978-1-55750-961-1\">978-1-55750-961-1</a>.</cite><span class=\"Z3988\" title=\"ctx_ver=Z39.88-2004&amp;rft_val_fmt=info%3Aofi%2Ffmt%3Akev%3Amtx%3Abook&amp;rft.genre=book&amp;rft.btitle=Improbable+Warriors%3A+Women+Scientists+and+the+U.S.+Navy+in+World+War+II&amp;rft.place=Annapolis%2C+Maryland&amp;rft.pub=Naval+Institute+Press&amp;rft.date=2001&amp;rft.isbn=978-1-55750-961-1&amp;rft.aulast=Williams&amp;rft.aufirst=Kathleen+Broome&amp;rft_id=https%3A%2F%2Farchive.org%2Fdetails%2Fimprobablewarrio0000will&amp;rfr_id=info%3Asid%2Fid.wikipedia.org%3AGrace+Hopper\"><span style=\"display:none;\"> </span></span> Williams' book focuses on the lives and contributions of four notable women scientists: <a class=\"new\" href=\"/w/index.php?title=Mary_Sears_(oceanographer)&amp;action=edit&amp;redlink=1\" title=\"Mary Sears (oceanographer) (halaman belum tersedia)\">Mary Sears</a> (1905–1997); <a class=\"new\" href=\"/w/index.php?title=Florence_van_Straten&amp;action=edit&amp;redlink=1\" title=\"Florence van Straten (halaman belum tersedia)\">Florence van Straten</a> (1913–1992); Grace Murray Hopper (1906–1992); <a class=\"new\" href=\"/w/index.php?title=Mina_Spiegel_Rees&amp;action=edit&amp;redlink=1\" title=\"Mina Spiegel Rees (halaman belum tersedia)\">Mina Spiegel Rees</a> (1902–1997).</li></ul>\n",
       "<h2><span class=\"mw-headline\" id=\"Pranala_luar\">Pranala luar</span><span class=\"mw-editsection\"><span class=\"mw-editsection-bracket\">[</span><a class=\"mw-editsection-visualeditor\" href=\"/w/index.php?title=Grace_Hopper&amp;veaction=edit&amp;section=9\" title=\"Sunting bagian: Pranala luar\">sunting</a><span class=\"mw-editsection-divider\"> | </span><a href=\"/w/index.php?title=Grace_Hopper&amp;action=edit&amp;section=9\" title=\"Sunting bagian: Pranala luar\">sunting sumber</a><span class=\"mw-editsection-bracket\">]</span></span></h2>\n",
       "<style data-mw-deduplicate=\"TemplateStyles:r22645200\">.mw-parser-output .side-box{margin:4px 0;box-sizing:border-box;border:1px solid #aaa;font-size:88%;line-height:1.25em;background-color:#f9f9f9;box-shadow:4px 4px 4px rgba(0,0,0,0.35);border-radius:2px}.mw-parser-output .side-box-abovebelow,.mw-parser-output .side-box-text{padding:0.25em 0.9em}.mw-parser-output .side-box-image{padding:2px 0 2px 0.9em;text-align:center}.mw-parser-output .side-box-imageright{padding:2px 0.9em 2px 0;text-align:center}@media(min-width:500px){.mw-parser-output .side-box-flex{display:flex;align-items:center}.mw-parser-output .side-box-text{flex:1}}@media(min-width:720px){.mw-parser-output .side-box{width:238px}.mw-parser-output .side-box-right{clear:right;float:right;margin-left:1em}.mw-parser-output .side-box-left{margin-right:1em}}</style><div class=\"side-box side-box-right plainlinks sistersitebox\"><style data-mw-deduplicate=\"TemplateStyles:r22543530\">.mw-parser-output .plainlist ol,.mw-parser-output .plainlist ul{line-height:inherit;list-style:none;margin:0;padding:0}.mw-parser-output .plainlist ol li,.mw-parser-output .plainlist ul li{margin-bottom:0}</style>\n",
       "<div class=\"side-box-flex\">\n",
       "<div class=\"side-box-image\"><img alt=\"\" data-file-height=\"355\" data-file-width=\"300\" decoding=\"async\" height=\"40\" src=\"//upload.wikimedia.org/wikipedia/commons/thumb/f/fa/Wikiquote-logo.svg/34px-Wikiquote-logo.svg.png\" srcset=\"//upload.wikimedia.org/wikipedia/commons/thumb/f/fa/Wikiquote-logo.svg/51px-Wikiquote-logo.svg.png 1.5x, //upload.wikimedia.org/wikipedia/commons/thumb/f/fa/Wikiquote-logo.svg/68px-Wikiquote-logo.svg.png 2x\" width=\"34\"/></div>\n",
       "<div class=\"side-box-text plainlist\"><a href=\"/wiki/Wikiquote\" title=\"Wikiquote\">Wikiquote</a> memiliki koleksi kutipan yang berkaitan dengan: <i><b><a class=\"extiw\" href=\"https://id.wikiquote.org/wiki/Special:Search/Grace_Hopper\" title=\"q:Special:Search/Grace Hopper\">Grace Hopper</a></b></i>.</div></div>\n",
       "</div>\n",
       "<ul><li>Extensive <a class=\"external text\" href=\"http://www.history.navy.mil/bios/hopper_grace.htm\" rel=\"nofollow\">Grace Hopper Biography</a><a class=\"external text\" href=\"https://web.archive.org/web/20130515000852/http://www.history.navy.mil/bios/hopper_grace.htm\" rel=\"nofollow\">Diarsipkan</a> 2013-05-15 di <a href=\"/wiki/Wayback_Machine\" title=\"Wayback Machine\">Wayback Machine</a>. and <a class=\"external text\" href=\"http://www.history.navy.mil/photos/pers-us/uspers-h/g-hoppr.htm\" rel=\"nofollow\">Images</a> from the <a class=\"mw-redirect\" href=\"/wiki/United_States_Navy\" title=\"United States Navy\">United States Navy</a> <a class=\"new\" href=\"/w/index.php?title=Naval_Historical_Center&amp;action=edit&amp;redlink=1\" title=\"Naval Historical Center (halaman belum tersedia)\">Naval Historical Center</a></li>\n",
       "<li><a class=\"external text\" href=\"http://www.chips.navy.mil/links/grace_hopper/womn.htm\" rel=\"nofollow\">Grace Hopper links</a> <a class=\"external text\" href=\"https://web.archive.org/web/20100224101438/http://www.chips.navy.mil/links/grace_hopper/womn.htm\" rel=\"nofollow\">Diarsipkan</a> 2010-02-24 di <a href=\"/wiki/Wayback_Machine\" title=\"Wayback Machine\">Wayback Machine</a>. from <i>Chips</i>, the United States Navy <a class=\"mw-redirect\" href=\"/wiki/Information_technology\" title=\"Information technology\">information technology</a> magazine</li>\n",
       "<li><a class=\"external text\" href=\"http://www.agnesscott.edu/lriddle/women/hopper.htm\" rel=\"nofollow\">\"Grace Murray Hopper\", Biographies of Women Mathematicians</a>, <a class=\"new\" href=\"/w/index.php?title=Agnes_Scott_College&amp;action=edit&amp;redlink=1\" title=\"Agnes Scott College (halaman belum tersedia)\">Agnes Scott College</a></li>\n",
       "<li>John J. O'Connor and Edmund F. Robertson. <i><a class=\"external text\" href=\"http://www-groups.dcs.st-and.ac.uk/~history/Mathematicians/Hopper.html\" rel=\"nofollow\">Grace Hopper</a></i> di <a class=\"new\" href=\"/w/index.php?title=MacTutor_archive&amp;action=edit&amp;redlink=1\" title=\"MacTutor archive (halaman belum tersedia)\">MacTutor archive</a>.</li>\n",
       "<li><a class=\"external text\" href=\"http://www.gracehopper.org/\" rel=\"nofollow\">www.GraceHopper.org</a> <a class=\"external text\" href=\"https://web.archive.org/web/20140109154843/http://gracehopper.org/\" rel=\"nofollow\">Diarsipkan</a> 2014-01-09 di <a href=\"/wiki/Wayback_Machine\" title=\"Wayback Machine\">Wayback Machine</a>. site for the annual <i>Grace Hopper Celebration of Women in Computing</i></li>\n",
       "<li><a class=\"external text\" href=\"http://www.hopper.navy.mil/\" rel=\"nofollow\">www.hopper.navy.mil</a> <a class=\"external text\" href=\"https://web.archive.org/web/20130813021621/http://www.hopper.navy.mil/\" rel=\"nofollow\">Diarsipkan</a> 2013-08-13 di <a href=\"/wiki/Wayback_Machine\" title=\"Wayback Machine\">Wayback Machine</a>. Official United States Navy website for the <a class=\"new\" href=\"/w/index.php?title=USS_Hopper_(DDG-70)&amp;action=edit&amp;redlink=1\" title=\"USS Hopper (DDG-70) (halaman belum tersedia)\">USS <i>Hopper</i></a>, which includes a <a class=\"external text\" href=\"http://www.hopper.navy.mil/USS%20HOPPER%20HOMEPAGE/Our%20Namesake.html\" rel=\"nofollow\">biography of Hopper</a> <a class=\"external text\" href=\"https://web.archive.org/web/20070824050541/http://www.hopper.navy.mil/USS%20HOPPER%20HOMEPAGE/Our%20Namesake.html\" rel=\"nofollow\">Diarsipkan</a> 2007-08-24 di <a href=\"/wiki/Wayback_Machine\" title=\"Wayback Machine\">Wayback Machine</a>.</li>\n",
       "<li><a class=\"external text\" href=\"http://awards.acm.org/hopper/\" rel=\"nofollow\">Grace Murray Hopper Award</a></li>\n",
       "<li><a class=\"external text\" href=\"http://www2.govexec.com/gtla/\" rel=\"nofollow\">The Government Technology Leadership Awards: The Gracies</a> <a class=\"external text\" href=\"https://web.archive.org/web/20080819145813/http://www2.govexec.com/gtla/\" rel=\"nofollow\">Diarsipkan</a> 2008-08-19 di <a href=\"/wiki/Wayback_Machine\" title=\"Wayback Machine\">Wayback Machine</a>.</li>\n",
       "<li><a class=\"external text\" href=\"http://www.genealogy.ams.org/html/id.phtml?id=15664\" rel=\"nofollow\">Grace Hopper</a> di <a href=\"/wiki/Mathematics_Genealogy_Project\" title=\"Mathematics Genealogy Project\">Mathematics Genealogy Project</a></li>\n",
       "<li><a class=\"external text\" href=\"http://nrs.harvard.edu/urn-3:RAD.SCHL:sch01242\" rel=\"nofollow\">Schlesinger Library Luncheon Series. Audio collection, 1979-1987 (inclusive): A Finding Aid.</a> <a class=\"external text\" href=\"http://www.radcliffe.harvard.edu/schlesinger-library\" rel=\"nofollow\">Schlesinger Library</a>, Radcliffe Institute, Harvard University.</li></ul>\n",
       "<div aria-labelledby=\"Pengawasan_otoritas_frameless_&amp;#124;text-top_&amp;#124;10px_&amp;#124;alt=Sunting_ini_di_Wikidata_&amp;#124;link=https&amp;#58;//www.wikidata.org/wiki/Q11641#identifiers&amp;#124;Sunting_ini_di_Wikidata\" class=\"navbox authority-control\" role=\"navigation\" style=\"padding:3px\"><table class=\"nowraplinks hlist mw-collapsible autocollapse navbox-inner\" style=\"border-spacing:0;background:transparent;color:inherit\"><tbody><tr><th class=\"navbox-title\" colspan=\"2\" scope=\"col\"><div id=\"Pengawasan_otoritas_frameless_&amp;#124;text-top_&amp;#124;10px_&amp;#124;alt=Sunting_ini_di_Wikidata_&amp;#124;link=https&amp;#58;//www.wikidata.org/wiki/Q11641#identifiers&amp;#124;Sunting_ini_di_Wikidata\" style=\"font-size:114%;margin:0 4em\"><a href=\"/wiki/Bantuan:Pengawasan_otoritas\" title=\"Bantuan:Pengawasan otoritas\">Pengawasan otoritas</a> <a href=\"https://www.wikidata.org/wiki/Q11641#identifiers\" title=\"Sunting ini di Wikidata\"><img alt=\"Sunting ini di Wikidata\" data-file-height=\"20\" data-file-width=\"20\" decoding=\"async\" height=\"10\" src=\"//upload.wikimedia.org/wikipedia/commons/thumb/8/8a/OOjs_UI_icon_edit-ltr-progressive.svg/10px-OOjs_UI_icon_edit-ltr-progressive.svg.png\" srcset=\"//upload.wikimedia.org/wikipedia/commons/thumb/8/8a/OOjs_UI_icon_edit-ltr-progressive.svg/15px-OOjs_UI_icon_edit-ltr-progressive.svg.png 1.5x, //upload.wikimedia.org/wikipedia/commons/thumb/8/8a/OOjs_UI_icon_edit-ltr-progressive.svg/20px-OOjs_UI_icon_edit-ltr-progressive.svg.png 2x\" style=\"vertical-align: text-top\" width=\"10\"/></a></div></th></tr><tr><th class=\"navbox-group\" scope=\"row\" style=\"width:1%\">Umum</th><td class=\"navbox-list navbox-odd\" style=\"text-align:left;border-left-width:2px;border-left-style:solid;width:100%;padding:0px\"><div style=\"padding:0em 0.25em\">\n",
       "<ul><li><span class=\"uid\"><a class=\"external text\" href=\"https://d-nb.info/gnd/121579948\" rel=\"nofollow\">Integrated Authority File (Jerman)</a></span></li>\n",
       "<li><a class=\"mw-redirect\" href=\"/wiki/ISNI_(identifier)\" title=\"ISNI (identifier)\">ISNI</a>\n",
       "<ul><li><span class=\"uid\"><a class=\"external text\" href=\"https://isni.org/isni/0000000110349992\" rel=\"nofollow\">1</a></span></li></ul></li>\n",
       "<li><a class=\"mw-redirect\" href=\"/wiki/VIAF_(identifier)\" title=\"VIAF (identifier)\">VIAF</a>\n",
       "<ul><li><span class=\"uid\"><a class=\"external text\" href=\"https://viaf.org/viaf/873229\" rel=\"nofollow\">1</a></span></li></ul></li>\n",
       "<li><span class=\"nowrap\"><a class=\"external text\" href=\"https://www.worldcat.org/identities/lccn-n83175996\" rel=\"nofollow\">WorldCat</a></span></li></ul>\n",
       "</div></td></tr><tr><th class=\"navbox-group\" scope=\"row\" style=\"width:1%\">Perpustakaan nasional</th><td class=\"navbox-list navbox-even\" style=\"text-align:left;border-left-width:2px;border-left-style:solid;width:100%;padding:0px\"><div style=\"padding:0em 0.25em\">\n",
       "<ul><li><span class=\"uid\"><a class=\"external text\" href=\"https://authority.bibsys.no/authority/rest/authorities/html/98034489\" rel=\"nofollow\">Norwegia</a></span></li>\n",
       "<li><span class=\"uid\"><a class=\"external text\" href=\"https://catalogue.bnf.fr/ark:/12148/cb16228841g\" rel=\"nofollow\">Prancis</a> <a class=\"external text\" href=\"https://data.bnf.fr/ark:/12148/cb16228841g\" rel=\"nofollow\">(data)</a></span></li>\n",
       "<li><span class=\"uid\"><a class=\"external text\" href=\"https://id.loc.gov/authorities/names/n83175996\" rel=\"nofollow\">Amerika Serikat</a></span></li>\n",
       "<li><span class=\"uid\"><a class=\"external text\" href=\"https://aleph.nkp.cz/F/?func=find-c&amp;local_base=aut&amp;ccl_term=ica=jx20100825003&amp;CON_LNG=ENG\" rel=\"nofollow\">Republik Ceko</a></span></li>\n",
       "<li><span class=\"uid\"><a class=\"external text\" href=\"https://nla.gov.au/anbd.aut-an36506213\" rel=\"nofollow\">Australia</a></span></li>\n",
       "<li><span class=\"uid\"><a class=\"external text\" href=\"http://uli.nli.org.il/F/?func=direct&amp;doc_number=004740227&amp;local_base=nlx10\" rel=\"nofollow\">Israel</a></span></li>\n",
       "<li><span class=\"uid\"><a class=\"external text\" href=\"http://data.bibliotheken.nl/id/thes/p324982577\" rel=\"nofollow\">Belanda</a></span></li>\n",
       "<li><span class=\"uid\"><a class=\"external text\" href=\"http://mak.bn.org.pl/cgi-bin/KHW/makwww.exe?BM=1&amp;NU=1&amp;IM=4&amp;WI=9810570379205606\" rel=\"nofollow\">Polandia</a></span></li></ul>\n",
       "</div></td></tr><tr><th class=\"navbox-group\" scope=\"row\" style=\"width:1%\">Basis data ilmiah</th><td class=\"navbox-list navbox-odd\" style=\"text-align:left;border-left-width:2px;border-left-style:solid;width:100%;padding:0px\"><div style=\"padding:0em 0.25em\">\n",
       "<ul><li><span class=\"uid\"><a class=\"external text\" href=\"https://dl.acm.org/profile/81100172438\" rel=\"nofollow\">Association for Computing Machinery</a></span></li>\n",
       "<li><span class=\"uid\"><a class=\"external text\" href=\"https://dblp.org/pid/51/3005\" rel=\"nofollow\">DBLP (computer science)</a></span></li>\n",
       "<li><span class=\"uid\"><a class=\"external text\" href=\"https://genealogy.math.ndsu.nodak.edu/id.php?id=15664\" rel=\"nofollow\">Mathematics Genealogy Project</a></span></li>\n",
       "<li><span class=\"uid\"><a class=\"external text\" href=\"https://www.semanticscholar.org/author/49493597\" rel=\"nofollow\">Semantic Scholar</a></span></li></ul>\n",
       "</div></td></tr><tr><th class=\"navbox-group\" scope=\"row\" style=\"width:1%\">Lain-lain</th><td class=\"navbox-list navbox-even\" style=\"text-align:left;border-left-width:2px;border-left-style:solid;width:100%;padding:0px\"><div style=\"padding:0em 0.25em\">\n",
       "<ul><li><span class=\"uid\"><a class=\"external text\" href=\"http://id.worldcat.org/fast/118017/\" rel=\"nofollow\">Faceted Application of Subject Terminology</a></span></li>\n",
       "<li><span class=\"uid\"><a class=\"external text\" href=\"https://snaccooperative.org/ark:/99166/w6nt1htb\" rel=\"nofollow\">Social Networks and Archival Context</a></span>\n",
       "<ul><li><span class=\"uid\"><a class=\"external text\" href=\"https://snaccooperative.org/ark:/99166/w6hq4r5k\" rel=\"nofollow\">2</a></span></li></ul></li>\n",
       "<li><a class=\"mw-redirect\" href=\"/wiki/SUDOC_(identifier)\" title=\"SUDOC (identifier)\">SUDOC (Prancis)</a>\n",
       "<ul><li><span class=\"uid\"><a class=\"external text\" href=\"https://www.idref.fr/079152783\" rel=\"nofollow\">1</a></span></li></ul></li>\n",
       "<li><a class=\"new\" href=\"/w/index.php?title=Trove_(identifier)&amp;action=edit&amp;redlink=1\" title=\"Trove (identifier) (halaman belum tersedia)\">Trove (Australia)</a>\n",
       "<ul><li><span class=\"uid\"><a class=\"external text\" href=\"https://trove.nla.gov.au/people/1262981\" rel=\"nofollow\">1</a></span></li></ul></li></ul>\n",
       "</div></td></tr></tbody></table></div>\n",
       "<table class=\"persondata\" id=\"persondata\" style=\"border:1px solid #aaa; display:none; speak:none;\">\n",
       "<tbody><tr>\n",
       "<th colspan=\"2\"><a class=\"extiw\" href=\"https://en.wikipedia.org/wiki/Wikipedia:Persondata\" title=\"en:Wikipedia:Persondata\">Persondata</a>\n",
       "</th></tr>\n",
       "<tr>\n",
       "<td class=\"persondata-label\" style=\"color:#aaa;\">Nama\n",
       "</td>\n",
       "<td>Hopper, Grace\n",
       "</td></tr>\n",
       "<tr>\n",
       "<td class=\"persondata-label\" style=\"color:#aaa;\">Nama alternatif\n",
       "</td>\n",
       "<td>Hopper, Grace Murray\n",
       "</td></tr>\n",
       "<tr>\n",
       "<td class=\"persondata-label\" style=\"color:#aaa;\">Deskripsi singkat\n",
       "</td>\n",
       "<td>American computer scientist and United States Navy officer.\n",
       "</td></tr>\n",
       "<tr>\n",
       "<td class=\"persondata-label\" style=\"color:#aaa;\">Tanggal lahir\n",
       "</td>\n",
       "<td>December 9, 1906\n",
       "</td></tr>\n",
       "<tr>\n",
       "<td class=\"persondata-label\" style=\"color:#aaa;\">Tempat lahir\n",
       "</td>\n",
       "<td><a class=\"mw-redirect\" href=\"/wiki/New_York_City\" title=\"New York City\">New York City</a>, <a class=\"mw-disambig\" href=\"/wiki/New_York\" title=\"New York\">New York</a>\n",
       "</td></tr>\n",
       "<tr>\n",
       "<td class=\"persondata-label\" style=\"color:#aaa;\">Tanggal kematian\n",
       "</td>\n",
       "<td>January 1, 1992\n",
       "</td></tr>\n",
       "<tr>\n",
       "<td class=\"persondata-label\" style=\"color:#aaa;\">Tempat kematian\n",
       "</td>\n",
       "<td><a class=\"mw-redirect\" href=\"/wiki/Arlington,_Virginia\" title=\"Arlington, Virginia\">Arlington, Virginia</a>\n",
       "</td></tr></tbody></table>\n",
       "<!-- \n",
       "NewPP limit report\n",
       "Parsed by mw2285\n",
       "Cached time: 20230123050115\n",
       "Cache expiry: 86400\n",
       "Reduced expiry: true\n",
       "Complications: [show‐toc]\n",
       "CPU time usage: 0.392 seconds\n",
       "Real time usage: 0.534 seconds\n",
       "Preprocessor visited node count: 4202/1000000\n",
       "Post‐expand include size: 69947/2097152 bytes\n",
       "Template argument size: 3642/2097152 bytes\n",
       "Highest expansion depth: 18/100\n",
       "Expensive parser function count: 21/500\n",
       "Unstrip recursion depth: 0/20\n",
       "Unstrip post‐expand size: 24136/5000000 bytes\n",
       "Lua time usage: 0.187/10.000 seconds\n",
       "Lua memory usage: 5029119/52428800 bytes\n",
       "Number of Wikibase entities loaded: 1/400\n",
       "-->\n",
       "<!--\n",
       "Transclusion expansion time report (%,ms,calls,template)\n",
       "100.00%  434.759      1 -total\n",
       " 30.99%  134.719      1 Templat:Reflist\n",
       " 25.26%  109.841      1 Templat:Infobox_military_person\n",
       " 24.47%  106.386      1 Templat:Infobox\n",
       " 21.77%   94.657      1 Templat:Authority_control\n",
       " 17.02%   74.013     12 Templat:Cite_book\n",
       "  6.47%   28.116      3 Templat:Br_separated_entries\n",
       "  6.25%   27.157      1 Templat:Wikiquote\n",
       "  5.71%   24.838      1 Templat:Lahirmati\n",
       "  5.70%   24.779      1 Templat:Sister\n",
       "-->\n",
       "<!-- Saved in parser cache with key idwiki:pcache:idhash:1408997-0!canonical and timestamp 20230123050114 and revision id 22705516.\n",
       " -->\n",
       "</div><!--esi <esi:include src=\"/esitest-fa8a495983347898/content\" /> --><noscript><img alt=\"\" height=\"1\" src=\"//id.wikipedia.org/wiki/Special:CentralAutoLogin/start?type=1x1\" style=\"border: none; position: absolute;\" title=\"\" width=\"1\"/></noscript>\n",
       "<div class=\"printfooter\" data-nosnippet=\"\">Diperoleh dari \"<a dir=\"ltr\" href=\"https://id.wikipedia.org/w/index.php?title=Grace_Hopper&amp;oldid=22705516\">https://id.wikipedia.org/w/index.php?title=Grace_Hopper&amp;oldid=22705516</a>\"</div></div>\n",
       "<div class=\"catlinks\" data-mw=\"interface\" id=\"catlinks\"><div class=\"mw-normal-catlinks\" id=\"mw-normal-catlinks\"><a href=\"/wiki/Istimewa:Daftar_kategori\" title=\"Istimewa:Daftar kategori\">Kategori</a>: <ul><li><a href=\"/wiki/Kategori:Tanggal_kelahiran_9_Desember\" title=\"Kategori:Tanggal kelahiran 9 Desember\">Tanggal kelahiran 9 Desember</a></li><li><a href=\"/wiki/Kategori:Kelahiran_1906\" title=\"Kategori:Kelahiran 1906\">Kelahiran 1906</a></li><li><a href=\"/wiki/Kategori:Tanggal_kematian_1_Januari\" title=\"Kategori:Tanggal kematian 1 Januari\">Tanggal kematian 1 Januari</a></li><li><a href=\"/wiki/Kategori:Kematian_1992\" title=\"Kategori:Kematian 1992\">Kematian 1992</a></li><li><a href=\"/wiki/Kategori:Meninggal_usia_86\" title=\"Kategori:Meninggal usia 86\">Meninggal usia 86</a></li><li><a href=\"/wiki/Kategori:Matematikawan_Amerika_Serikat\" title=\"Kategori:Matematikawan Amerika Serikat\">Matematikawan Amerika Serikat</a></li><li><a href=\"/wiki/Kategori:Pemrogram_komputer_Amerika_Serikat\" title=\"Kategori:Pemrogram komputer Amerika Serikat\">Pemrogram komputer Amerika Serikat</a></li><li><a href=\"/wiki/Kategori:Ilmuwan_Amerika_Serikat\" title=\"Kategori:Ilmuwan Amerika Serikat\">Ilmuwan Amerika Serikat</a></li><li><a class=\"new\" href=\"/w/index.php?title=Kategori:Penerima_National_Medal_of_Technology&amp;action=edit&amp;redlink=1\" title=\"Kategori:Penerima National Medal of Technology (halaman belum tersedia)\">Penerima National Medal of Technology</a></li><li><a href=\"/wiki/Kategori:Tokoh_dari_New_York_City\" title=\"Kategori:Tokoh dari New York City\">Tokoh dari New York City</a></li><li><a class=\"new\" href=\"/w/index.php?title=Kategori:Perancang_bahasa_pemrograman&amp;action=edit&amp;redlink=1\" title=\"Kategori:Perancang bahasa pemrograman (halaman belum tersedia)\">Perancang bahasa pemrograman</a></li><li><a href=\"/wiki/Kategori:Alumni_Universitas_Yale\" title=\"Kategori:Alumni Universitas Yale\">Alumni Universitas Yale</a></li><li><a href=\"/wiki/Kategori:Matematikawan_wanita\" title=\"Kategori:Matematikawan wanita\">Matematikawan wanita</a></li></ul></div><div class=\"mw-hidden-catlinks mw-hidden-cats-hidden\" id=\"mw-hidden-catlinks\">Kategori tersembunyi: <ul><li><a href=\"/wiki/Kategori:Pemeliharaan_CS1:_Teks_tambahan:_authors_list\" title=\"Kategori:Pemeliharaan CS1: Teks tambahan: authors list\">Pemeliharaan CS1: Teks tambahan: authors list</a></li><li><a href=\"/wiki/Kategori:Artikel_dengan_pranala_luar_nonaktif\" title=\"Kategori:Artikel dengan pranala luar nonaktif\">Artikel dengan pranala luar nonaktif</a></li><li><a href=\"/wiki/Kategori:Artikel_dengan_pranala_luar_nonaktif_permanen\" title=\"Kategori:Artikel dengan pranala luar nonaktif permanen\">Artikel dengan pranala luar nonaktif permanen</a></li><li><a href=\"/wiki/Kategori:Galat_CS1:_tanggal\" title=\"Kategori:Galat CS1: tanggal\">Galat CS1: tanggal</a></li><li><a href=\"/wiki/Kategori:Halaman_dengan_rujukan_yang_menggunakan_parameter_yang_tidak_didukung\" title=\"Kategori:Halaman dengan rujukan yang menggunakan parameter yang tidak didukung\">Halaman dengan rujukan yang menggunakan parameter yang tidak didukung</a></li><li><a href=\"/wiki/Kategori:Semua_orang_yang_sudah_meninggal\" title=\"Kategori:Semua orang yang sudah meninggal\">Semua orang yang sudah meninggal</a></li><li><a href=\"/wiki/Kategori:Semua_artikel_biografi\" title=\"Kategori:Semua artikel biografi\">Semua artikel biografi</a></li><li><a href=\"/wiki/Kategori:Artikel_biografi_Januari_2023\" title=\"Kategori:Artikel biografi Januari 2023\">Artikel biografi Januari 2023</a></li><li><a href=\"/wiki/Kategori:Halaman_yang_menggunakan_rujukan_dengan_accessdate_dan_tanpa_URL\" title=\"Kategori:Halaman yang menggunakan rujukan dengan accessdate dan tanpa URL\">Halaman yang menggunakan rujukan dengan accessdate dan tanpa URL</a></li><li><a href=\"/wiki/Kategori:Templat_webarchive_tautan_wayback\" title=\"Kategori:Templat webarchive tautan wayback\">Templat webarchive tautan wayback</a></li><li><a href=\"/wiki/Kategori:Artikel_Wikipedia_dengan_penanda_GND\" title=\"Kategori:Artikel Wikipedia dengan penanda GND\">Artikel Wikipedia dengan penanda GND</a></li><li><a href=\"/wiki/Kategori:Artikel_Wikipedia_dengan_penanda_ISNI\" title=\"Kategori:Artikel Wikipedia dengan penanda ISNI\">Artikel Wikipedia dengan penanda ISNI</a></li><li><a href=\"/wiki/Kategori:Artikel_Wikipedia_dengan_penanda_VIAF\" title=\"Kategori:Artikel Wikipedia dengan penanda VIAF\">Artikel Wikipedia dengan penanda VIAF</a></li><li><a href=\"/wiki/Kategori:Artikel_Wikipedia_dengan_penanda_BIBSYS\" title=\"Kategori:Artikel Wikipedia dengan penanda BIBSYS\">Artikel Wikipedia dengan penanda BIBSYS</a></li><li><a href=\"/wiki/Kategori:Artikel_Wikipedia_dengan_penanda_BNF\" title=\"Kategori:Artikel Wikipedia dengan penanda BNF\">Artikel Wikipedia dengan penanda BNF</a></li><li><a href=\"/wiki/Kategori:Artikel_Wikipedia_dengan_penanda_LCCN\" title=\"Kategori:Artikel Wikipedia dengan penanda LCCN\">Artikel Wikipedia dengan penanda LCCN</a></li><li><a href=\"/wiki/Kategori:Artikel_Wikipedia_dengan_penanda_NKC\" title=\"Kategori:Artikel Wikipedia dengan penanda NKC\">Artikel Wikipedia dengan penanda NKC</a></li><li><a href=\"/wiki/Kategori:Artikel_Wikipedia_dengan_penanda_NLA\" title=\"Kategori:Artikel Wikipedia dengan penanda NLA\">Artikel Wikipedia dengan penanda NLA</a></li><li><a href=\"/wiki/Kategori:Artikel_Wikipedia_dengan_penanda_NLI\" title=\"Kategori:Artikel Wikipedia dengan penanda NLI\">Artikel Wikipedia dengan penanda NLI</a></li><li><a href=\"/wiki/Kategori:Artikel_Wikipedia_dengan_penanda_NTA\" title=\"Kategori:Artikel Wikipedia dengan penanda NTA\">Artikel Wikipedia dengan penanda NTA</a></li><li><a href=\"/wiki/Kategori:Artikel_Wikipedia_dengan_penanda_PLWABN\" title=\"Kategori:Artikel Wikipedia dengan penanda PLWABN\">Artikel Wikipedia dengan penanda PLWABN</a></li><li><a href=\"/wiki/Kategori:Artikel_Wikipedia_dengan_penanda_ACM-DL\" title=\"Kategori:Artikel Wikipedia dengan penanda ACM-DL\">Artikel Wikipedia dengan penanda ACM-DL</a></li><li><a href=\"/wiki/Kategori:Artikel_Wikipedia_dengan_penanda_DBLP\" title=\"Kategori:Artikel Wikipedia dengan penanda DBLP\">Artikel Wikipedia dengan penanda DBLP</a></li><li><a href=\"/wiki/Kategori:Artikel_Wikipedia_dengan_penanda_MGP\" title=\"Kategori:Artikel Wikipedia dengan penanda MGP\">Artikel Wikipedia dengan penanda MGP</a></li><li><a href=\"/wiki/Kategori:Artikel_Wikipedia_dengan_penanda_Semantic_Scholar_author\" title=\"Kategori:Artikel Wikipedia dengan penanda Semantic Scholar author\">Artikel Wikipedia dengan penanda Semantic Scholar author</a></li><li><a href=\"/wiki/Kategori:Artikel_Wikipedia_dengan_penanda_FAST\" title=\"Kategori:Artikel Wikipedia dengan penanda FAST\">Artikel Wikipedia dengan penanda FAST</a></li><li><a href=\"/wiki/Kategori:Artikel_Wikipedia_dengan_penanda_SNAC-ID\" title=\"Kategori:Artikel Wikipedia dengan penanda SNAC-ID\">Artikel Wikipedia dengan penanda SNAC-ID</a></li><li><a href=\"/wiki/Kategori:Artikel_Wikipedia_dengan_penanda_SUDOC\" title=\"Kategori:Artikel Wikipedia dengan penanda SUDOC\">Artikel Wikipedia dengan penanda SUDOC</a></li><li><a href=\"/wiki/Kategori:Artikel_Wikipedia_dengan_penanda_Trove\" title=\"Kategori:Artikel Wikipedia dengan penanda Trove\">Artikel Wikipedia dengan penanda Trove</a></li><li><a href=\"/wiki/Kategori:Artikel_Wikipedia_dengan_penanda_WORLDCATID\" title=\"Kategori:Artikel Wikipedia dengan penanda WORLDCATID\">Artikel Wikipedia dengan penanda WORLDCATID</a></li><li><a href=\"/wiki/Kategori:Artikel_Wikipedia_dengan_penanda_ganda\" title=\"Kategori:Artikel Wikipedia dengan penanda ganda\">Artikel Wikipedia dengan penanda ganda</a></li></ul></div></div>\n",
       "</div>\n",
       "</main>\n",
       "</div>\n",
       "<div class=\"mw-footer-container\">\n",
       "<footer class=\"mw-footer\" id=\"footer\" role=\"contentinfo\">\n",
       "<ul id=\"footer-info\">\n",
       "<li id=\"footer-info-lastmod\"> Halaman ini terakhir diubah pada 21 Januari 2023, pukul 23.36.</li>\n",
       "<li id=\"footer-info-copyright\">Teks tersedia di bawah <a href=\"https://creativecommons.org/licenses/by-sa/3.0/deed.id\">Lisensi Creative Commons Atribusi-BerbagiSerupa</a>; ketentuan tambahan mungkin berlaku.\n",
       "Lihat <a href=\"https://foundation.wikimedia.org/wiki/Terms_of_Use/id\">Ketentuan Penggunaan</a> untuk lebih jelasnya.</li>\n",
       "</ul>\n",
       "<ul id=\"footer-places\">\n",
       "<li id=\"footer-places-privacy\"><a href=\"https://foundation.wikimedia.org/wiki/Privacy_policy\">Kebijakan privasi</a></li>\n",
       "<li id=\"footer-places-about\"><a href=\"/wiki/Wikipedia:Tentang\">Tentang Wikipedia</a></li>\n",
       "<li id=\"footer-places-disclaimers\"><a href=\"/wiki/Wikipedia:Penyangkalan_umum\">Penyangkalan</a></li>\n",
       "<li id=\"footer-places-mobileview\"><a class=\"noprint stopMobileRedirectToggle\" href=\"//id.m.wikipedia.org/w/index.php?title=Grace_Hopper&amp;mobileaction=toggle_view_mobile\">Tampilan seluler</a></li>\n",
       "<li id=\"footer-places-developers\"><a href=\"https://developer.wikimedia.org\">Pengembang</a></li>\n",
       "<li id=\"footer-places-statslink\"><a href=\"https://stats.wikimedia.org/#/id.wikipedia.org\">Statistik</a></li>\n",
       "<li id=\"footer-places-cookiestatement\"><a href=\"https://foundation.wikimedia.org/wiki/Cookie_statement\">Pernyataan kuki</a></li>\n",
       "</ul>\n",
       "<ul class=\"noprint\" id=\"footer-icons\">\n",
       "<li id=\"footer-copyrightico\"><a href=\"https://wikimediafoundation.org/\"><img alt=\"Wikimedia Foundation\" height=\"31\" loading=\"lazy\" src=\"/static/images/footer/wikimedia-button.png\" srcset=\"/static/images/footer/wikimedia-button-1.5x.png 1.5x, /static/images/footer/wikimedia-button-2x.png 2x\" width=\"88\"/></a></li>\n",
       "<li id=\"footer-poweredbyico\"><a href=\"https://www.mediawiki.org/\"><img alt=\"Powered by MediaWiki\" height=\"31\" loading=\"lazy\" src=\"/static/images/footer/poweredby_mediawiki_88x31.png\" srcset=\"/static/images/footer/poweredby_mediawiki_132x47.png 1.5x, /static/images/footer/poweredby_mediawiki_176x62.png 2x\" width=\"88\"/></a></li>\n",
       "</ul>\n",
       "</footer>\n",
       "</div>\n",
       "</div>\n",
       "</div>\n",
       "<script>(RLQ=window.RLQ||[]).push(function(){mw.config.set({\"wgPageParseReport\":{\"limitreport\":{\"cputime\":\"0.392\",\"walltime\":\"0.534\",\"ppvisitednodes\":{\"value\":4202,\"limit\":1000000},\"postexpandincludesize\":{\"value\":69947,\"limit\":2097152},\"templateargumentsize\":{\"value\":3642,\"limit\":2097152},\"expansiondepth\":{\"value\":18,\"limit\":100},\"expensivefunctioncount\":{\"value\":21,\"limit\":500},\"unstrip-depth\":{\"value\":0,\"limit\":20},\"unstrip-size\":{\"value\":24136,\"limit\":5000000},\"entityaccesscount\":{\"value\":1,\"limit\":400},\"timingprofile\":[\"100.00%  434.759      1 -total\",\" 30.99%  134.719      1 Templat:Reflist\",\" 25.26%  109.841      1 Templat:Infobox_military_person\",\" 24.47%  106.386      1 Templat:Infobox\",\" 21.77%   94.657      1 Templat:Authority_control\",\" 17.02%   74.013     12 Templat:Cite_book\",\"  6.47%   28.116      3 Templat:Br_separated_entries\",\"  6.25%   27.157      1 Templat:Wikiquote\",\"  5.71%   24.838      1 Templat:Lahirmati\",\"  5.70%   24.779      1 Templat:Sister\"]},\"scribunto\":{\"limitreport-timeusage\":{\"value\":\"0.187\",\"limit\":\"10.000\"},\"limitreport-memusage\":{\"value\":5029119,\"limit\":52428800}},\"cachereport\":{\"origin\":\"mw2285\",\"timestamp\":\"20230123050115\",\"ttl\":86400,\"transientcontent\":true}}});});</script>\n",
       "<script type=\"application/ld+json\">{\"@context\":\"https:\\/\\/schema.org\",\"@type\":\"Article\",\"name\":\"Grace Hopper\",\"url\":\"https:\\/\\/id.wikipedia.org\\/wiki\\/Grace_Hopper\",\"sameAs\":\"http:\\/\\/www.wikidata.org\\/entity\\/Q11641\",\"mainEntity\":\"http:\\/\\/www.wikidata.org\\/entity\\/Q11641\",\"author\":{\"@type\":\"Organization\",\"name\":\"Kontributor dari proyek Wikimedia.\"},\"publisher\":{\"@type\":\"Organization\",\"name\":\"Wikimedia Foundation, Inc.\",\"logo\":{\"@type\":\"ImageObject\",\"url\":\"https:\\/\\/www.wikimedia.org\\/static\\/images\\/wmf-hor-googpub.png\"}},\"datePublished\":\"2013-12-08T19:21:08Z\",\"dateModified\":\"2023-01-21T23:36:04Z\",\"image\":\"https:\\/\\/upload.wikimedia.org\\/wikipedia\\/commons\\/a\\/ad\\/Commodore_Grace_M._Hopper%2C_USN_%28covered%29.jpg\",\"headline\":\"seorang ilmuwan komputer dan perwira tinggi Angkatan Laut Amerika Serikat berpangkat laksamana pertama.\"}</script><script type=\"application/ld+json\">{\"@context\":\"https:\\/\\/schema.org\",\"@type\":\"Article\",\"name\":\"Grace Hopper\",\"url\":\"https:\\/\\/id.wikipedia.org\\/wiki\\/Grace_Hopper\",\"sameAs\":\"http:\\/\\/www.wikidata.org\\/entity\\/Q11641\",\"mainEntity\":\"http:\\/\\/www.wikidata.org\\/entity\\/Q11641\",\"author\":{\"@type\":\"Organization\",\"name\":\"Kontributor dari proyek Wikimedia.\"},\"publisher\":{\"@type\":\"Organization\",\"name\":\"Wikimedia Foundation, Inc.\",\"logo\":{\"@type\":\"ImageObject\",\"url\":\"https:\\/\\/www.wikimedia.org\\/static\\/images\\/wmf-hor-googpub.png\"}},\"datePublished\":\"2013-12-08T19:21:08Z\",\"dateModified\":\"2023-01-21T23:36:04Z\",\"image\":\"https:\\/\\/upload.wikimedia.org\\/wikipedia\\/commons\\/a\\/ad\\/Commodore_Grace_M._Hopper%2C_USN_%28covered%29.jpg\",\"headline\":\"seorang ilmuwan komputer dan perwira tinggi Angkatan Laut Amerika Serikat berpangkat laksamana pertama.\"}</script>\n",
       "<script>(RLQ=window.RLQ||[]).push(function(){mw.config.set({\"wgBackendResponseTime\":111,\"wgHostname\":\"mw2413\"});});</script>\n",
       "</body>\n",
       "</html>"
      ]
     },
     "execution_count": 62,
     "metadata": {},
     "output_type": "execute_result"
    }
   ],
   "source": [
    "soup"
   ]
  },
  {
   "cell_type": "code",
   "execution_count": 66,
   "metadata": {},
   "outputs": [
    {
     "data": {
      "text/plain": [
       "[<th class=\"infobox-label\" scope=\"row\" style=\"padding-right: 1em\">Julukan</th>,\n",
       " <th class=\"infobox-label\" scope=\"row\" style=\"padding-right: 1em\">Lahir</th>,\n",
       " <th class=\"infobox-label\" scope=\"row\" style=\"padding-right: 1em\">Meninggal</th>,\n",
       " <th class=\"infobox-label\" scope=\"row\" style=\"padding-right: 1em\">Dimakamkan</th>,\n",
       " <th class=\"infobox-label\" scope=\"row\" style=\"padding-right: 1em\">Pengabdian</th>,\n",
       " <th class=\"infobox-label\" scope=\"row\" style=\"padding-right: 1em\">Dinas/cabang</th>,\n",
       " <th class=\"infobox-label\" scope=\"row\" style=\"padding-right: 1em\">Lama dinas</th>,\n",
       " <th class=\"infobox-label\" scope=\"row\" style=\"padding-right: 1em\">Pangkat</th>,\n",
       " <th class=\"infobox-label\" scope=\"row\" style=\"padding-right: 1em\">Penghargaan</th>]"
      ]
     },
     "execution_count": 66,
     "metadata": {},
     "output_type": "execute_result"
    }
   ],
   "source": [
    "soup.select(\".infobox-label\")"
   ]
  },
  {
   "cell_type": "code",
   "execution_count": 67,
   "metadata": {},
   "outputs": [
    {
     "name": "stdout",
     "output_type": "stream",
     "text": [
      "Julukan\n",
      "Lahir\n",
      "Meninggal\n",
      "Dimakamkan\n",
      "Pengabdian\n",
      "Dinas/cabang\n",
      "Lama dinas\n",
      "Pangkat\n",
      "Penghargaan\n"
     ]
    }
   ],
   "source": [
    "for item in soup.select(\".infobox-label\"):\n",
    "    print(item.text)"
   ]
  },
  {
   "cell_type": "markdown",
   "metadata": {},
   "source": [
    "## grabing image"
   ]
  },
  {
   "cell_type": "code",
   "execution_count": 7,
   "metadata": {},
   "outputs": [],
   "source": [
    "import bs4"
   ]
  },
  {
   "cell_type": "code",
   "execution_count": 5,
   "metadata": {},
   "outputs": [],
   "source": [
    "res = requests.get(\"https://en.wikipedia.org/wiki/SpaceX\")"
   ]
  },
  {
   "cell_type": "code",
   "execution_count": 8,
   "metadata": {},
   "outputs": [],
   "source": [
    "soup = bs4.BeautifulSoup(res.text,'lxml')"
   ]
  },
  {
   "cell_type": "code",
   "execution_count": 14,
   "metadata": {},
   "outputs": [
    {
     "data": {
      "text/plain": [
       "[<img alt=\"\" class=\"thumbimage\" data-file-height=\"480\" data-file-width=\"640\" decoding=\"async\" height=\"165\" src=\"//upload.wikimedia.org/wikipedia/commons/thumb/c/c8/Falcon_1_Flight_4_liftoff.jpg/220px-Falcon_1_Flight_4_liftoff.jpg\" srcset=\"//upload.wikimedia.org/wikipedia/commons/thumb/c/c8/Falcon_1_Flight_4_liftoff.jpg/330px-Falcon_1_Flight_4_liftoff.jpg 1.5x, //upload.wikimedia.org/wikipedia/commons/thumb/c/c8/Falcon_1_Flight_4_liftoff.jpg/440px-Falcon_1_Flight_4_liftoff.jpg 2x\" width=\"220\"/>,\n",
       " <video class=\"thumbimage\" controls=\"\" data-durationhint=\"113\" data-mwprovider=\"wikimediacommons\" data-mwtitle=\"SpaceX_Falcon_9_Flight_1_launch.ogv\" height=\"165\" id=\"mwe_player_0\" poster=\"//upload.wikimedia.org/wikipedia/commons/thumb/a/af/SpaceX_Falcon_9_Flight_1_launch.ogv/220px-seek%3D18-SpaceX_Falcon_9_Flight_1_launch.ogv.jpg\" preload=\"none\" width=\"220\"><source data-bandwidth=\"450916\" data-framerate=\"29.970029829795\" data-height=\"384\" data-shorttitle=\"Ogg source\" data-title=\"Original Ogg file, 512 × 384 (451 kbps)\" data-width=\"512\" src=\"//upload.wikimedia.org/wikipedia/commons/a/af/SpaceX_Falcon_9_Flight_1_launch.ogv\" type='video/ogg; codecs=\"theora, vorbis\"'/><source data-bandwidth=\"95248\" data-framerate=\"29.970029829795\" data-height=\"120\" data-shorttitle=\"VP9 120P\" data-title=\"Lowest bandwidth VP9 (120P)\" data-transcodekey=\"120p.vp9.webm\" data-width=\"160\" src=\"//upload.wikimedia.org/wikipedia/commons/transcoded/a/af/SpaceX_Falcon_9_Flight_1_launch.ogv/SpaceX_Falcon_9_Flight_1_launch.ogv.120p.vp9.webm\" type='video/webm; codecs=\"vp9, opus\"'/><source data-bandwidth=\"191272\" data-framerate=\"29.970029829795\" data-height=\"160\" data-shorttitle=\"WebM 160P\" data-title=\"Low bandwidth WebM (160P)\" data-transcodekey=\"160p.webm\" data-width=\"214\" src=\"//upload.wikimedia.org/wikipedia/commons/transcoded/a/af/SpaceX_Falcon_9_Flight_1_launch.ogv/SpaceX_Falcon_9_Flight_1_launch.ogv.160p.webm\" type='video/webm; codecs=\"vp8, vorbis\"'/><source data-bandwidth=\"105864\" data-framerate=\"29.970029829795\" data-height=\"180\" data-shorttitle=\"VP9 180P\" data-title=\"Low bandwidth VP9 (180P)\" data-transcodekey=\"180p.vp9.webm\" data-width=\"240\" src=\"//upload.wikimedia.org/wikipedia/commons/transcoded/a/af/SpaceX_Falcon_9_Flight_1_launch.ogv/SpaceX_Falcon_9_Flight_1_launch.ogv.180p.vp9.webm\" type='video/webm; codecs=\"vp9, opus\"'/><source data-bandwidth=\"113560\" data-framerate=\"29.970029829795\" data-height=\"240\" data-shorttitle=\"VP9 240P\" data-title=\"Small VP9 (240P)\" data-transcodekey=\"240p.vp9.webm\" data-width=\"320\" src=\"//upload.wikimedia.org/wikipedia/commons/transcoded/a/af/SpaceX_Falcon_9_Flight_1_launch.ogv/SpaceX_Falcon_9_Flight_1_launch.ogv.240p.vp9.webm\" type='video/webm; codecs=\"vp9, opus\"'/><source data-bandwidth=\"311320\" data-framerate=\"29.970029829795\" data-height=\"240\" data-shorttitle=\"WebM 240P\" data-title=\"Small WebM (240P)\" data-transcodekey=\"240p.webm\" data-width=\"320\" src=\"//upload.wikimedia.org/wikipedia/commons/transcoded/a/af/SpaceX_Falcon_9_Flight_1_launch.ogv/SpaceX_Falcon_9_Flight_1_launch.ogv.240p.webm\" type='video/webm; codecs=\"vp8, vorbis\"'/><source data-bandwidth=\"140688\" data-framerate=\"29.970029829795\" data-height=\"360\" data-shorttitle=\"VP9 360P\" data-title=\"VP9 (360P)\" data-transcodekey=\"360p.vp9.webm\" data-width=\"480\" src=\"//upload.wikimedia.org/wikipedia/commons/transcoded/a/af/SpaceX_Falcon_9_Flight_1_launch.ogv/SpaceX_Falcon_9_Flight_1_launch.ogv.360p.vp9.webm\" type='video/webm; codecs=\"vp9, opus\"'/><source data-bandwidth=\"564216\" data-framerate=\"29.970029829795\" data-height=\"360\" data-shorttitle=\"WebM 360P\" data-title=\"WebM (360P)\" data-transcodekey=\"360p.webm\" data-width=\"480\" src=\"//upload.wikimedia.org/wikipedia/commons/transcoded/a/af/SpaceX_Falcon_9_Flight_1_launch.ogv/SpaceX_Falcon_9_Flight_1_launch.ogv.360p.webm\" type='video/webm; codecs=\"vp8, vorbis\"'/></video>,\n",
       " <img alt=\"\" class=\"thumbimage\" data-file-height=\"3000\" data-file-width=\"2000\" decoding=\"async\" height=\"255\" src=\"//upload.wikimedia.org/wikipedia/commons/thumb/1/1d/Launch_of_Falcon_9_carrying_ORBCOMM_OG2-M1_%2816601442698%29.jpg/170px-Launch_of_Falcon_9_carrying_ORBCOMM_OG2-M1_%2816601442698%29.jpg\" srcset=\"//upload.wikimedia.org/wikipedia/commons/thumb/1/1d/Launch_of_Falcon_9_carrying_ORBCOMM_OG2-M1_%2816601442698%29.jpg/255px-Launch_of_Falcon_9_carrying_ORBCOMM_OG2-M1_%2816601442698%29.jpg 1.5x, //upload.wikimedia.org/wikipedia/commons/thumb/1/1d/Launch_of_Falcon_9_carrying_ORBCOMM_OG2-M1_%2816601442698%29.jpg/340px-Launch_of_Falcon_9_carrying_ORBCOMM_OG2-M1_%2816601442698%29.jpg 2x\" width=\"170\"/>,\n",
       " <img alt=\"\" class=\"thumbimage\" data-file-height=\"2000\" data-file-width=\"3000\" decoding=\"async\" height=\"147\" src=\"//upload.wikimedia.org/wikipedia/commons/thumb/5/54/CRS-8_%2826239020092%29.jpg/220px-CRS-8_%2826239020092%29.jpg\" srcset=\"//upload.wikimedia.org/wikipedia/commons/thumb/5/54/CRS-8_%2826239020092%29.jpg/330px-CRS-8_%2826239020092%29.jpg 1.5x, //upload.wikimedia.org/wikipedia/commons/thumb/5/54/CRS-8_%2826239020092%29.jpg/440px-CRS-8_%2826239020092%29.jpg 2x\" width=\"220\"/>,\n",
       " <img alt=\"see caption\" class=\"thumbimage\" data-file-height=\"3427\" data-file-width=\"1099\" decoding=\"async\" height=\"300\" src=\"//upload.wikimedia.org/wikipedia/commons/thumb/3/3a/Starship_full_stack.jpg/96px-Starship_full_stack.jpg\" srcset=\"//upload.wikimedia.org/wikipedia/commons/thumb/3/3a/Starship_full_stack.jpg/144px-Starship_full_stack.jpg 1.5x, //upload.wikimedia.org/wikipedia/commons/thumb/3/3a/Starship_full_stack.jpg/192px-Starship_full_stack.jpg 2x\" width=\"96\"/>,\n",
       " <img alt=\"\" class=\"thumbimage\" data-file-height=\"2000\" data-file-width=\"3000\" decoding=\"async\" height=\"147\" src=\"//upload.wikimedia.org/wikipedia/commons/thumb/8/83/CRS-18_Mission_%2848380511427%29.jpg/220px-CRS-18_Mission_%2848380511427%29.jpg\" srcset=\"//upload.wikimedia.org/wikipedia/commons/thumb/8/83/CRS-18_Mission_%2848380511427%29.jpg/330px-CRS-18_Mission_%2848380511427%29.jpg 1.5x, //upload.wikimedia.org/wikipedia/commons/thumb/8/83/CRS-18_Mission_%2848380511427%29.jpg/440px-CRS-18_Mission_%2848380511427%29.jpg 2x\" width=\"220\"/>,\n",
       " <img alt=\"\" class=\"thumbimage\" data-file-height=\"614\" data-file-width=\"921\" decoding=\"async\" height=\"147\" src=\"//upload.wikimedia.org/wikipedia/commons/thumb/4/44/SpaceX_Testing_Merlin_1D_Engine_In_Texas.jpg/220px-SpaceX_Testing_Merlin_1D_Engine_In_Texas.jpg\" srcset=\"//upload.wikimedia.org/wikipedia/commons/thumb/4/44/SpaceX_Testing_Merlin_1D_Engine_In_Texas.jpg/330px-SpaceX_Testing_Merlin_1D_Engine_In_Texas.jpg 1.5x, //upload.wikimedia.org/wikipedia/commons/thumb/4/44/SpaceX_Testing_Merlin_1D_Engine_In_Texas.jpg/440px-SpaceX_Testing_Merlin_1D_Engine_In_Texas.jpg 2x\" width=\"220\"/>,\n",
       " <img alt=\"\" class=\"thumbimage\" data-file-height=\"1500\" data-file-width=\"2000\" decoding=\"async\" height=\"165\" src=\"//upload.wikimedia.org/wikipedia/commons/thumb/7/7d/Crew_Dragon_at_the_ISS_for_Demo_Mission_1_%28cropped%29.jpg/220px-Crew_Dragon_at_the_ISS_for_Demo_Mission_1_%28cropped%29.jpg\" srcset=\"//upload.wikimedia.org/wikipedia/commons/thumb/7/7d/Crew_Dragon_at_the_ISS_for_Demo_Mission_1_%28cropped%29.jpg/330px-Crew_Dragon_at_the_ISS_for_Demo_Mission_1_%28cropped%29.jpg 1.5x, //upload.wikimedia.org/wikipedia/commons/thumb/7/7d/Crew_Dragon_at_the_ISS_for_Demo_Mission_1_%28cropped%29.jpg/440px-Crew_Dragon_at_the_ISS_for_Demo_Mission_1_%28cropped%29.jpg 2x\" width=\"220\"/>,\n",
       " <img alt=\"\" class=\"thumbimage\" data-file-height=\"1407\" data-file-width=\"1969\" decoding=\"async\" height=\"157\" src=\"//upload.wikimedia.org/wikipedia/commons/thumb/9/97/SpaceX_ASDS_in_position_prior_to_Falcon_9_Flight_17_carrying_CRS-6_%2817127808431%29.jpg/220px-SpaceX_ASDS_in_position_prior_to_Falcon_9_Flight_17_carrying_CRS-6_%2817127808431%29.jpg\" srcset=\"//upload.wikimedia.org/wikipedia/commons/thumb/9/97/SpaceX_ASDS_in_position_prior_to_Falcon_9_Flight_17_carrying_CRS-6_%2817127808431%29.jpg/330px-SpaceX_ASDS_in_position_prior_to_Falcon_9_Flight_17_carrying_CRS-6_%2817127808431%29.jpg 1.5x, //upload.wikimedia.org/wikipedia/commons/thumb/9/97/SpaceX_ASDS_in_position_prior_to_Falcon_9_Flight_17_carrying_CRS-6_%2817127808431%29.jpg/440px-SpaceX_ASDS_in_position_prior_to_Falcon_9_Flight_17_carrying_CRS-6_%2817127808431%29.jpg 2x\" width=\"220\"/>,\n",
       " <img alt=\"\" class=\"thumbimage\" data-file-height=\"3574\" data-file-width=\"5361\" decoding=\"async\" height=\"147\" src=\"//upload.wikimedia.org/wikipedia/commons/thumb/2/2f/Starship_SN9_Evening_Rays.jpg/220px-Starship_SN9_Evening_Rays.jpg\" srcset=\"//upload.wikimedia.org/wikipedia/commons/thumb/2/2f/Starship_SN9_Evening_Rays.jpg/330px-Starship_SN9_Evening_Rays.jpg 1.5x, //upload.wikimedia.org/wikipedia/commons/thumb/2/2f/Starship_SN9_Evening_Rays.jpg/440px-Starship_SN9_Evening_Rays.jpg 2x\" width=\"220\"/>,\n",
       " <img alt=\"\" class=\"thumbimage\" data-file-height=\"540\" data-file-width=\"960\" decoding=\"async\" height=\"124\" src=\"//upload.wikimedia.org/wikipedia/commons/thumb/9/91/Starlink_Mission_%2847926144123%29.jpg/220px-Starlink_Mission_%2847926144123%29.jpg\" srcset=\"//upload.wikimedia.org/wikipedia/commons/thumb/9/91/Starlink_Mission_%2847926144123%29.jpg/330px-Starlink_Mission_%2847926144123%29.jpg 1.5x, //upload.wikimedia.org/wikipedia/commons/thumb/9/91/Starlink_Mission_%2847926144123%29.jpg/440px-Starlink_Mission_%2847926144123%29.jpg 2x\" width=\"220\"/>,\n",
       " <img alt=\"\" class=\"thumbimage\" data-file-height=\"3648\" data-file-width=\"5173\" decoding=\"async\" height=\"155\" src=\"//upload.wikimedia.org/wikipedia/commons/thumb/7/79/The_SpaceX_Factory.jpg/220px-The_SpaceX_Factory.jpg\" srcset=\"//upload.wikimedia.org/wikipedia/commons/thumb/7/79/The_SpaceX_Factory.jpg/330px-The_SpaceX_Factory.jpg 1.5x, //upload.wikimedia.org/wikipedia/commons/thumb/7/79/The_SpaceX_Factory.jpg/440px-The_SpaceX_Factory.jpg 2x\" width=\"220\"/>,\n",
       " <img alt=\"\" class=\"thumbimage\" data-file-height=\"2000\" data-file-width=\"3000\" decoding=\"async\" height=\"147\" src=\"//upload.wikimedia.org/wikipedia/commons/thumb/7/7b/2008_SpaceX%27s_Rocket_Development_facility%2C_McGregor%2C_TX.jpg/220px-2008_SpaceX%27s_Rocket_Development_facility%2C_McGregor%2C_TX.jpg\" srcset=\"//upload.wikimedia.org/wikipedia/commons/thumb/7/7b/2008_SpaceX%27s_Rocket_Development_facility%2C_McGregor%2C_TX.jpg/330px-2008_SpaceX%27s_Rocket_Development_facility%2C_McGregor%2C_TX.jpg 1.5x, //upload.wikimedia.org/wikipedia/commons/thumb/7/7b/2008_SpaceX%27s_Rocket_Development_facility%2C_McGregor%2C_TX.jpg/440px-2008_SpaceX%27s_Rocket_Development_facility%2C_McGregor%2C_TX.jpg 2x\" width=\"220\"/>,\n",
       " <img alt=\"\" class=\"thumbimage\" data-file-height=\"2000\" data-file-width=\"3000\" decoding=\"async\" height=\"147\" src=\"//upload.wikimedia.org/wikipedia/commons/thumb/5/52/Falcon_Heavy_Side_Boosters_landing_on_LZ1_and_LZ2_-_2018_%2825254688767%29.jpg/220px-Falcon_Heavy_Side_Boosters_landing_on_LZ1_and_LZ2_-_2018_%2825254688767%29.jpg\" srcset=\"//upload.wikimedia.org/wikipedia/commons/thumb/5/52/Falcon_Heavy_Side_Boosters_landing_on_LZ1_and_LZ2_-_2018_%2825254688767%29.jpg/330px-Falcon_Heavy_Side_Boosters_landing_on_LZ1_and_LZ2_-_2018_%2825254688767%29.jpg 1.5x, //upload.wikimedia.org/wikipedia/commons/thumb/5/52/Falcon_Heavy_Side_Boosters_landing_on_LZ1_and_LZ2_-_2018_%2825254688767%29.jpg/440px-Falcon_Heavy_Side_Boosters_landing_on_LZ1_and_LZ2_-_2018_%2825254688767%29.jpg 2x\" width=\"220\"/>,\n",
       " <img alt=\"\" class=\"thumbimage\" data-file-height=\"1914\" data-file-width=\"2871\" decoding=\"async\" height=\"147\" src=\"//upload.wikimedia.org/wikipedia/commons/thumb/5/58/Launch_of_Falcon_9_carrying_CASSIOPE_%28130929-F-ET475-012%29.jpg/220px-Launch_of_Falcon_9_carrying_CASSIOPE_%28130929-F-ET475-012%29.jpg\" srcset=\"//upload.wikimedia.org/wikipedia/commons/thumb/5/58/Launch_of_Falcon_9_carrying_CASSIOPE_%28130929-F-ET475-012%29.jpg/330px-Launch_of_Falcon_9_carrying_CASSIOPE_%28130929-F-ET475-012%29.jpg 1.5x, //upload.wikimedia.org/wikipedia/commons/thumb/5/58/Launch_of_Falcon_9_carrying_CASSIOPE_%28130929-F-ET475-012%29.jpg/440px-Launch_of_Falcon_9_carrying_CASSIOPE_%28130929-F-ET475-012%29.jpg 2x\" width=\"220\"/>,\n",
       " <img alt=\"\" class=\"thumbimage\" data-file-height=\"3005\" data-file-width=\"4124\" decoding=\"async\" height=\"160\" src=\"//upload.wikimedia.org/wikipedia/commons/thumb/4/4c/The_Boca_Chica_Rocket_Factory.jpg/220px-The_Boca_Chica_Rocket_Factory.jpg\" srcset=\"//upload.wikimedia.org/wikipedia/commons/thumb/4/4c/The_Boca_Chica_Rocket_Factory.jpg/330px-The_Boca_Chica_Rocket_Factory.jpg 1.5x, //upload.wikimedia.org/wikipedia/commons/thumb/4/4c/The_Boca_Chica_Rocket_Factory.jpg/440px-The_Boca_Chica_Rocket_Factory.jpg 2x\" width=\"220\"/>,\n",
       " <img alt=\"\" class=\"thumbimage\" data-file-height=\"2832\" data-file-width=\"3402\" decoding=\"async\" height=\"183\" src=\"//upload.wikimedia.org/wikipedia/commons/thumb/c/cf/COTS2_Dragon_is_berthed.jpg/220px-COTS2_Dragon_is_berthed.jpg\" srcset=\"//upload.wikimedia.org/wikipedia/commons/thumb/c/cf/COTS2_Dragon_is_berthed.jpg/330px-COTS2_Dragon_is_berthed.jpg 1.5x, //upload.wikimedia.org/wikipedia/commons/thumb/c/cf/COTS2_Dragon_is_berthed.jpg/440px-COTS2_Dragon_is_berthed.jpg 2x\" width=\"220\"/>,\n",
       " <img alt=\"\" class=\"thumbimage\" data-file-height=\"3712\" data-file-width=\"5568\" decoding=\"async\" height=\"147\" src=\"//upload.wikimedia.org/wikipedia/commons/thumb/f/f1/NASA_astronauts_work_aboard_the_SpaceX_Crew_Dragon_%28iss064e004754%29.jpg/220px-NASA_astronauts_work_aboard_the_SpaceX_Crew_Dragon_%28iss064e004754%29.jpg\" srcset=\"//upload.wikimedia.org/wikipedia/commons/thumb/f/f1/NASA_astronauts_work_aboard_the_SpaceX_Crew_Dragon_%28iss064e004754%29.jpg/330px-NASA_astronauts_work_aboard_the_SpaceX_Crew_Dragon_%28iss064e004754%29.jpg 1.5x, //upload.wikimedia.org/wikipedia/commons/thumb/f/f1/NASA_astronauts_work_aboard_the_SpaceX_Crew_Dragon_%28iss064e004754%29.jpg/440px-NASA_astronauts_work_aboard_the_SpaceX_Crew_Dragon_%28iss064e004754%29.jpg 2x\" width=\"220\"/>,\n",
       " <img alt=\"\" class=\"thumbimage\" data-file-height=\"3000\" data-file-width=\"2000\" decoding=\"async\" height=\"255\" src=\"//upload.wikimedia.org/wikipedia/commons/thumb/d/df/STP-2_Mission_%2848129211908%29.jpg/170px-STP-2_Mission_%2848129211908%29.jpg\" srcset=\"//upload.wikimedia.org/wikipedia/commons/thumb/d/df/STP-2_Mission_%2848129211908%29.jpg/255px-STP-2_Mission_%2848129211908%29.jpg 1.5x, //upload.wikimedia.org/wikipedia/commons/thumb/d/df/STP-2_Mission_%2848129211908%29.jpg/340px-STP-2_Mission_%2848129211908%29.jpg 2x\" width=\"170\"/>]"
      ]
     },
     "execution_count": 14,
     "metadata": {},
     "output_type": "execute_result"
    }
   ],
   "source": [
    "soup.select('.thumbimage')"
   ]
  },
  {
   "cell_type": "code",
   "execution_count": 17,
   "metadata": {},
   "outputs": [],
   "source": [
    "computer=soup.select('.thumbimage')[0]"
   ]
  },
  {
   "cell_type": "code",
   "execution_count": 19,
   "metadata": {},
   "outputs": [
    {
     "data": {
      "text/plain": [
       "'//upload.wikimedia.org/wikipedia/commons/thumb/c/c8/Falcon_1_Flight_4_liftoff.jpg/220px-Falcon_1_Flight_4_liftoff.jpg'"
      ]
     },
     "execution_count": 19,
     "metadata": {},
     "output_type": "execute_result"
    }
   ],
   "source": [
    "computer['src']"
   ]
  },
  {
   "cell_type": "markdown",
   "metadata": {},
   "source": [
    "<img\n",
    "src=\"//upload.wikimedia.org/wikipedia/commons/thumb/c/c8/Falcon_1_Flight_4_liftoff.jpg/220px-Falcon_1_Flight_4_liftoff.jpg\">"
   ]
  },
  {
   "cell_type": "code",
   "execution_count": 33,
   "metadata": {},
   "outputs": [],
   "source": [
    "image_link = requests.get('https://upload.wikimedia.org/wikipedia/commons/thumb/c/c8/Falcon_1_Flight_4_liftoff.jpg/220px-Falcon_1_Flight_4_liftoff.jpg')"
   ]
  },
  {
   "cell_type": "markdown",
   "metadata": {},
   "source": []
  },
  {
   "cell_type": "code",
   "execution_count": 34,
   "metadata": {},
   "outputs": [],
   "source": [
    "f=open(\"my_computer_falcon_Image.jpg\",\"wb\") ##bisa menggunakan // untuk file yang dinginkan"
   ]
  },
  {
   "cell_type": "code",
   "execution_count": 35,
   "metadata": {},
   "outputs": [
    {
     "data": {
      "text/plain": [
       "8300"
      ]
     },
     "execution_count": 35,
     "metadata": {},
     "output_type": "execute_result"
    }
   ],
   "source": [
    "f.write(image_link.content)"
   ]
  },
  {
   "cell_type": "code",
   "execution_count": 36,
   "metadata": {},
   "outputs": [],
   "source": [
    "f.close()"
   ]
  },
  {
   "cell_type": "markdown",
   "metadata": {},
   "source": [
    "Book Web Scraping"
   ]
  },
  {
   "cell_type": "code",
   "execution_count": 2,
   "metadata": {},
   "outputs": [],
   "source": [
    "import requests\n",
    "import bs4"
   ]
  },
  {
   "cell_type": "code",
   "execution_count": 4,
   "metadata": {},
   "outputs": [
    {
     "data": {
      "text/plain": [
       "'https://books.toscrape.com/catalogue/page-2.html?'"
      ]
     },
     "execution_count": 4,
     "metadata": {},
     "output_type": "execute_result"
    }
   ],
   "source": [
    "\"https://books.toscrape.com/catalogue/page-2.html?\""
   ]
  },
  {
   "cell_type": "code",
   "execution_count": 5,
   "metadata": {},
   "outputs": [
    {
     "data": {
      "text/plain": [
       "'https://books.toscrape.com/catalogue/page-3.html?'"
      ]
     },
     "execution_count": 5,
     "metadata": {},
     "output_type": "execute_result"
    }
   ],
   "source": [
    "\"https://books.toscrape.com/catalogue/page-3.html?\""
   ]
  },
  {
   "cell_type": "code",
   "execution_count": 6,
   "metadata": {},
   "outputs": [],
   "source": [
    "base_url=\"https://books.toscrape.com/catalogue/page-{}.html?\""
   ]
  },
  {
   "cell_type": "code",
   "execution_count": 8,
   "metadata": {},
   "outputs": [
    {
     "data": {
      "text/plain": [
       "'https://books.toscrape.com/catalogue/page-13.html?'"
      ]
     },
     "execution_count": 8,
     "metadata": {},
     "output_type": "execute_result"
    }
   ],
   "source": [
    "page_num=13\n",
    "base_url.format(page_num)"
   ]
  },
  {
   "cell_type": "code",
   "execution_count": 9,
   "metadata": {},
   "outputs": [],
   "source": [
    "res=requests.get(base_url.format(1))"
   ]
  },
  {
   "cell_type": "code",
   "execution_count": 10,
   "metadata": {},
   "outputs": [],
   "source": [
    "soup=bs4.BeautifulSoup(res.text,'lxml')"
   ]
  },
  {
   "cell_type": "code",
   "execution_count": 12,
   "metadata": {},
   "outputs": [
    {
     "data": {
      "text/plain": [
       "20"
      ]
     },
     "execution_count": 12,
     "metadata": {},
     "output_type": "execute_result"
    }
   ],
   "source": [
    "len(soup.select(\".product_pod\"))"
   ]
  },
  {
   "cell_type": "code",
   "execution_count": 15,
   "metadata": {},
   "outputs": [],
   "source": [
    "products=soup.select(\".product_pod\")"
   ]
  },
  {
   "cell_type": "code",
   "execution_count": 20,
   "metadata": {},
   "outputs": [],
   "source": [
    "example=products[0]"
   ]
  },
  {
   "cell_type": "code",
   "execution_count": 22,
   "metadata": {},
   "outputs": [
    {
     "data": {
      "text/plain": [
       "True"
      ]
     },
     "execution_count": 22,
     "metadata": {},
     "output_type": "execute_result"
    }
   ],
   "source": [
    "'star-rating Three' in str(example)"
   ]
  },
  {
   "cell_type": "code",
   "execution_count": 24,
   "metadata": {},
   "outputs": [
    {
     "data": {
      "text/plain": [
       "[<p class=\"star-rating Three\">\n",
       " <i class=\"icon-star\"></i>\n",
       " <i class=\"icon-star\"></i>\n",
       " <i class=\"icon-star\"></i>\n",
       " <i class=\"icon-star\"></i>\n",
       " <i class=\"icon-star\"></i>\n",
       " </p>]"
      ]
     },
     "execution_count": 24,
     "metadata": {},
     "output_type": "execute_result"
    }
   ],
   "source": [
    "example.select(\".star-rating.Three\")"
   ]
  },
  {
   "cell_type": "code",
   "execution_count": 34,
   "metadata": {},
   "outputs": [
    {
     "data": {
      "text/plain": [
       "[<a href=\"a-light-in-the-attic_1000/index.html\"><img alt=\"A Light in the Attic\" class=\"thumbnail\" src=\"../media/cache/2c/da/2cdad67c44b002e7ead0cc35693c0e8b.jpg\"/></a>,\n",
       " <a href=\"a-light-in-the-attic_1000/index.html\" title=\"A Light in the Attic\">A Light in the ...</a>]"
      ]
     },
     "execution_count": 34,
     "metadata": {},
     "output_type": "execute_result"
    }
   ],
   "source": [
    "example.select('a')"
   ]
  },
  {
   "cell_type": "code",
   "execution_count": 37,
   "metadata": {},
   "outputs": [
    {
     "data": {
      "text/plain": [
       "'A Light in the Attic'"
      ]
     },
     "execution_count": 37,
     "metadata": {},
     "output_type": "execute_result"
    }
   ],
   "source": [
    "example.select('a')[1]['title']"
   ]
  },
  {
   "cell_type": "code",
   "execution_count": 45,
   "metadata": {},
   "outputs": [],
   "source": [
    "two_star_titles = []\n",
    "\n",
    "for n in range(1,51):\n",
    "\n",
    "    scrape_url = base_url.format(n)\n",
    "    res = requests.get(scrape_url)\n",
    "    \n",
    "    soup = bs4.BeautifulSoup(res.text,\"lxml\")\n",
    "    books = soup.select(\".product_pod\")\n",
    "    \n",
    "    for book in books:\n",
    "        if len(book.select('.star-rating.One')) != 0:\n",
    "            two_star_titles.append(book.select('a')[1]['title'])"
   ]
  },
  {
   "cell_type": "code",
   "execution_count": 44,
   "metadata": {},
   "outputs": [
    {
     "data": {
      "text/plain": [
       "['Starving Hearts (Triangular Trade Trilogy, #1)',\n",
       " 'Libertarianism for Beginners',\n",
       " \"It's Only the Himalayas\",\n",
       " 'How Music Works',\n",
       " 'Maude (1883-1993):She Grew Up with the country',\n",
       " \"You can't bury them all: Poems\",\n",
       " 'Reasons to Stay Alive',\n",
       " 'Without Borders (Wanderlove #1)',\n",
       " 'Soul Reader',\n",
       " 'Security',\n",
       " 'Saga, Volume 5 (Saga (Collected Editions) #5)',\n",
       " 'Reskilling America: Learning to Labor in the Twenty-First Century',\n",
       " 'Political Suicide: Missteps, Peccadilloes, Bad Calls, Backroom Hijinx, Sordid Pasts, Rotten Breaks, and Just Plain Dumb Mistakes in the Annals of American Politics',\n",
       " 'Obsidian (Lux #1)',\n",
       " 'My Paris Kitchen: Recipes and Stories',\n",
       " 'Masks and Shadows',\n",
       " 'Lumberjanes, Vol. 2: Friendship to the Max (Lumberjanes #5-8)',\n",
       " 'Lumberjanes Vol. 3: A Terrible Plan (Lumberjanes #9-12)',\n",
       " 'Judo: Seven Steps to Black Belt (an Introductory Guide for Beginners)',\n",
       " 'I Hate Fairyland, Vol. 1: Madly Ever After (I Hate Fairyland (Compilations) #1-5)',\n",
       " 'Giant Days, Vol. 2 (Giant Days #5-8)',\n",
       " 'Everydata: The Misinformation Hidden in the Little Data You Consume Every Day',\n",
       " \"Don't Be a Jerk: And Other Practical Advice from Dogen, Japan's Greatest Zen Master\",\n",
       " 'Bossypants',\n",
       " 'Bitch Planet, Vol. 1: Extraordinary Machine (Bitch Planet (Collected Editions))',\n",
       " 'Avatar: The Last Airbender: Smoke and Shadow, Part 3 (Smoke and Shadow #3)',\n",
       " 'Tuesday Nights in 1980',\n",
       " 'The Psychopath Test: A Journey Through the Madness Industry',\n",
       " 'The Power of Now: A Guide to Spiritual Enlightenment',\n",
       " \"The Omnivore's Dilemma: A Natural History of Four Meals\",\n",
       " 'The Love and Lemons Cookbook: An Apple-to-Zucchini Celebration of Impromptu Cooking',\n",
       " 'The Girl on the Train',\n",
       " 'The Emerald Mystery',\n",
       " 'The Argonauts',\n",
       " 'Suddenly in Love (Lake Haven #1)',\n",
       " 'Soft Apocalypse',\n",
       " \"So You've Been Publicly Shamed\",\n",
       " 'Shoe Dog: A Memoir by the Creator of NIKE',\n",
       " 'Louisa: The Extraordinary Life of Mrs. Adams',\n",
       " 'Large Print Heart of the Pride',\n",
       " 'Grumbles',\n",
       " 'Chasing Heaven: What Dying Taught Me About Living',\n",
       " 'Becoming Wise: An Inquiry into the Mystery and Art of Living',\n",
       " 'Beauty Restored (Riley Family Legacy Novellas #3)',\n",
       " 'Batman: The Long Halloween (Batman)',\n",
       " \"Ayumi's Violin\",\n",
       " 'Wild Swans',\n",
       " \"What's It Like in Space?: Stories from Astronauts Who've Been There\",\n",
       " 'Until Friday Night (The Field Party #1)',\n",
       " 'Unbroken: A World War II Story of Survival, Resilience, and Redemption',\n",
       " 'Twenty Yawns',\n",
       " 'Through the Woods',\n",
       " 'This Is Where It Ends',\n",
       " 'The Year of Magical Thinking',\n",
       " 'The Last Mile (Amos Decker #2)',\n",
       " 'The Immortal Life of Henrietta Lacks',\n",
       " 'The Hidden Oracle (The Trials of Apollo #1)',\n",
       " 'The Guilty (Will Robie #4)',\n",
       " 'Red Hood/Arsenal, Vol. 1: Open for Business (Red Hood/Arsenal #1)',\n",
       " 'Once Was a Time',\n",
       " 'No Dream Is Too High: Life Lessons From a Man Who Walked on the Moon',\n",
       " 'Naruto (3-in-1 Edition), Vol. 14: Includes Vols. 40, 41 & 42 (Naruto: Omnibus #14)',\n",
       " 'More Than Music (Chasing the Dream #1)',\n",
       " 'Lowriders to the Center of the Earth (Lowriders in Space #2)',\n",
       " 'Eat Fat, Get Thin',\n",
       " 'Doctor Sleep (The Shining #2)',\n",
       " 'Crazy Love: Overwhelmed by a Relentless God',\n",
       " 'Carrie',\n",
       " 'Batman: Europa',\n",
       " 'Angels Walking (Angels Walking #1)',\n",
       " 'Adulthood Is a Myth: A \"Sarah\\'s Scribbles\" Collection',\n",
       " 'A Study in Scarlet (Sherlock Holmes #1)',\n",
       " 'A Series of Catastrophes and Miracles: A True Story of Love, Science, and Cancer',\n",
       " \"A People's History of the United States\",\n",
       " 'My Kitchen Year: 136 Recipes That Saved My Life',\n",
       " 'The Lonely City: Adventures in the Art of Being Alone',\n",
       " 'The Dinner Party',\n",
       " 'Stars Above (The Lunar Chronicles #4.5)',\n",
       " 'Love, Lies and Spies',\n",
       " 'Troublemaker: Surviving Hollywood and Scientology',\n",
       " 'The Widow',\n",
       " 'Setting the World on Fire: The Brief, Astonishing Life of St. Catherine of Siena',\n",
       " 'Mothering Sunday',\n",
       " 'Lilac Girls',\n",
       " '10% Happier: How I Tamed the Voice in My Head, Reduced Stress Without Losing My Edge, and Found Self-Help That Actually Works',\n",
       " 'Underlying Notes',\n",
       " 'The Flowers Lied',\n",
       " 'Modern Day Fables',\n",
       " \"Chernobyl 01:23:40: The Incredible True Story of the World's Worst Nuclear Disaster\",\n",
       " '23 Degrees South: A Tropical Tale of Changing Whether...',\n",
       " 'When Breath Becomes Air',\n",
       " 'Vagabonding: An Uncommon Guide to the Art of Long-Term World Travel',\n",
       " 'The Martian (The Martian #1)',\n",
       " \"Miller's Valley\",\n",
       " \"Love That Boy: What Two Presidents, Eight Road Trips, and My Son Taught Me About a Parent's Expectations\",\n",
       " 'Left Behind (Left Behind #1)',\n",
       " 'Howl and Other Poems',\n",
       " \"Heaven is for Real: A Little Boy's Astounding Story of His Trip to Heaven and Back\",\n",
       " \"Brazen: The Courage to Find the You That's Been Hiding\",\n",
       " '32 Yolks',\n",
       " 'Wildlife of New York: A Five-Borough Coloring Book',\n",
       " 'Unreasonable Hope: Finding Faith in the God Who Brings Purpose to Your Pain',\n",
       " 'The Art Book',\n",
       " 'Steal Like an Artist: 10 Things Nobody Told You About Being Creative',\n",
       " 'Raymie Nightingale',\n",
       " 'Like Never Before (Walker Family #2)',\n",
       " 'How to Be a Domestic Goddess: Baking and the Art of Comfort Cooking',\n",
       " 'Finding God in the Ruins: How God Redeems Pain',\n",
       " 'Chronicles, Vol. 1',\n",
       " 'A Summer In Europe',\n",
       " 'The Rise and Fall of the Third Reich: A History of Nazi Germany',\n",
       " 'The Makings of a Fatherless Child',\n",
       " 'The Fellowship of the Ring (The Lord of the Rings #1)',\n",
       " \"Tell the Wolves I'm Home\",\n",
       " 'In the Woods (Dublin Murder Squad #1)',\n",
       " 'Give It Back',\n",
       " 'Why Save the Bankers?: And Other Essays on Our Economic and Political Crisis',\n",
       " 'The Raven King (The Raven Cycle #4)',\n",
       " 'The Expatriates',\n",
       " 'The 5th Wave (The 5th Wave #1)',\n",
       " 'Peak: Secrets from the New Science of Expertise',\n",
       " 'Logan Kade (Fallen Crest High #5.5)',\n",
       " \"I Know Why the Caged Bird Sings (Maya Angelou's Autobiography #1)\",\n",
       " 'Drama',\n",
       " \"America's War for the Greater Middle East: A Military History\",\n",
       " 'A Game of Thrones (A Song of Ice and Fire #1)',\n",
       " \"The Pilgrim's Progress\",\n",
       " 'The Hound of the Baskervilles (Sherlock Holmes #5)',\n",
       " \"The Geography of Bliss: One Grump's Search for the Happiest Places in the World\",\n",
       " 'The Demonists (Demonist #1)',\n",
       " 'The Demon Prince of Momochi House, Vol. 4 (The Demon Prince of Momochi House #4)',\n",
       " 'Misery',\n",
       " 'Far From True (Promise Falls Trilogy #2)',\n",
       " 'Confessions of a Shopaholic (Shopaholic #1)',\n",
       " 'Vegan Vegetarian Omnivore: Dinner for Everyone at the Table',\n",
       " 'Two Boys Kissing',\n",
       " 'Twilight (Twilight #1)',\n",
       " 'Twenties Girl',\n",
       " 'The Tipping Point: How Little Things Can Make a Big Difference',\n",
       " 'The Stand',\n",
       " 'The Picture of Dorian Gray',\n",
       " 'The Name of God is Mercy',\n",
       " \"The Lover's Dictionary\",\n",
       " 'The Last Painting of Sara de Vos',\n",
       " 'The Guns of August',\n",
       " 'The Girl Who Played with Fire (Millennium Trilogy #2)',\n",
       " 'The Da Vinci Code (Robert Langdon #2)',\n",
       " 'The Cat in the Hat (Beginner Books B-1)',\n",
       " 'The Book Thief',\n",
       " 'The Autobiography of Malcolm X',\n",
       " \"Surely You're Joking, Mr. Feynman!: Adventures of a Curious Character\",\n",
       " 'Soldier (Talon #3)',\n",
       " 'Shopaholic & Baby (Shopaholic #5)',\n",
       " 'Seven Days in the Art World',\n",
       " 'Rework',\n",
       " 'Packing for Mars: The Curious Science of Life in the Void',\n",
       " 'Orange Is the New Black',\n",
       " 'One for the Money (Stephanie Plum #1)',\n",
       " 'Midnight Riot (Peter Grant/ Rivers of London - books #1)',\n",
       " 'Me Talk Pretty One Day',\n",
       " 'Manuscript Found in Accra',\n",
       " 'Lust & Wonder',\n",
       " \"Life, the Universe and Everything (Hitchhiker's Guide to the Galaxy #3)\",\n",
       " 'Life After Life',\n",
       " 'I Am Malala: The Girl Who Stood Up for Education and Was Shot by the Taliban',\n",
       " 'House of Lost Worlds: Dinosaurs, Dynasties, and the Story of Life on Earth',\n",
       " 'Horrible Bear!',\n",
       " 'Holidays on Ice',\n",
       " 'Girl in the Blue Coat',\n",
       " 'Fruits Basket, Vol. 3 (Fruits Basket #3)',\n",
       " 'Cosmos',\n",
       " 'Civilization and Its Discontents',\n",
       " \"Catastrophic Happiness: Finding Joy in Childhood's Messy Years\",\n",
       " 'Career of Evil (Cormoran Strike #3)',\n",
       " 'Born to Run: A Hidden Tribe, Superathletes, and the Greatest Race the World Has Never Seen',\n",
       " \"Best of My Love (Fool's Gold #20)\",\n",
       " 'Beowulf',\n",
       " 'Awkward',\n",
       " 'And Then There Were None',\n",
       " 'A Storm of Swords (A Song of Ice and Fire #3)',\n",
       " 'The Suffragettes (Little Black Classics, #96)',\n",
       " 'Vampire Girl (Vampire Girl #1)',\n",
       " 'Three Wishes (River of Time: California #1)',\n",
       " 'The Wicked + The Divine, Vol. 1: The Faust Act (The Wicked + The Divine)',\n",
       " 'The Little Prince',\n",
       " 'The Last Girl (The Dominion Trilogy #1)',\n",
       " 'Taking Shots (Assassins #1)',\n",
       " 'Settling the Score (The Summer Games #1)',\n",
       " 'Rhythm, Chord & Malykhin',\n",
       " 'One Second (Seven #7)',\n",
       " \"Old Records Never Die: One Man's Quest for His Vinyl and His Past\",\n",
       " 'Of Mice and Men',\n",
       " 'My Perfect Mistake (Over the Top #1)',\n",
       " 'Meditations',\n",
       " 'Frankenstein',\n",
       " 'Emma']"
      ]
     },
     "execution_count": 44,
     "metadata": {},
     "output_type": "execute_result"
    }
   ],
   "source": [
    "two_star_titles"
   ]
  },
  {
   "cell_type": "code",
   "execution_count": null,
   "metadata": {},
   "outputs": [],
   "source": []
  }
 ],
 "metadata": {
  "kernelspec": {
   "display_name": "Python 3 (ipykernel)",
   "language": "python",
   "name": "python3"
  },
  "language_info": {
   "codemirror_mode": {
    "name": "ipython",
    "version": 3
   },
   "file_extension": ".py",
   "mimetype": "text/x-python",
   "name": "python",
   "nbconvert_exporter": "python",
   "pygments_lexer": "ipython3",
   "version": "3.9.13"
  },
  "vscode": {
   "interpreter": {
    "hash": "88279d2366fe020547cde40dd65aa0e3aa662a6ec1f3ca12d88834876c85e1a6"
   }
  }
 },
 "nbformat": 4,
 "nbformat_minor": 2
}
